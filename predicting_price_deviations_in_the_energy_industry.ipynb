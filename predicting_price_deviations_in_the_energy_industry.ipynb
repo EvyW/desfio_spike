{
  "nbformat": 4,
  "nbformat_minor": 0,
  "metadata": {
    "colab": {
      "name": "predicting_price_deviations_in_the_energy_industry.ipynb",
      "provenance": [],
      "collapsed_sections": []
    },
    "kernelspec": {
      "name": "python3",
      "display_name": "Python 3"
    },
    "accelerator": "GPU"
  },
  "cells": [
    {
      "cell_type": "markdown",
      "metadata": {
        "id": "5eqibtiNeuVN"
      },
      "source": [
        "# **Predicting price deviations in the Chilean energy industry**\n",
        "\n",
        "After the cost of the energy is forecasted in the Chilean industry, later, this is compared with the actual cost to monitor how close from each other they are. To monitor this, the percentage of deviation of the forecasted cost with respect to the actual cost is computed. Specifically, it is important to detect those deviation greater than 15%. Then, the goal of this problem is to predict whether the energy costs will deviate more than 15% or not, which is a classification problem"
      ]
    },
    {
      "cell_type": "markdown",
      "metadata": {
        "id": "vYRur0O-PJsL"
      },
      "source": [
        "# Index\n",
        "\n",
        "The first part prepares the data to be analyzed\n",
        "\n",
        "1. [Data Exploration and Cleaning](#cell-1.)\n",
        "2. [Feature Engineering](#cell-2.)\n",
        "3. [Visualization](#cell-3.)\n",
        "4. [Adding possible useful variables](#cell-4.)\n",
        "5. [Model](#cell-5.)\n",
        "\n",
        "\n"
      ]
    },
    {
      "cell_type": "markdown",
      "metadata": {
        "id": "UE8ymE-dgWVF"
      },
      "source": [
        "Import libraries"
      ]
    },
    {
      "cell_type": "code",
      "metadata": {
        "id": "F0kSIcwggTn_"
      },
      "source": [
        "import pandas as pd # data manipulation\n",
        "\n",
        "import numpy as np # data manipulation\n",
        "import matplotlib.pyplot as plt # visualization\n",
        "import math # general math\n",
        "import xgboost as xgb # ML Technique here used\n",
        "from xgboost import plot_importance, plot_tree # Model interpretation\n",
        "from sklearn.metrics import confusion_matrix # Tools for ML\n",
        "from sklearn.metrics import mean_squared_error, mean_absolute_error # Tools for ML\n",
        "# for showing dinamic tables \n",
        "%load_ext google.colab.data_table # make tables beautiful\n"
      ],
      "execution_count": null,
      "outputs": []
    },
    {
      "cell_type": "markdown",
      "metadata": {
        "id": "89meOpSsfHGW"
      },
      "source": [
        "<a name=\"cell-1.\"></a>\n",
        "# **1. Data Exploration**\n"
      ]
    },
    {
      "cell_type": "markdown",
      "metadata": {
        "id": "cxECbBtYfqWs"
      },
      "source": [
        "**1.1 Upload and merge data**\n",
        "\n",
        "\n",
        "\n"
      ]
    },
    {
      "cell_type": "code",
      "metadata": {
        "id": "U6xDBIA8ecf2",
        "colab": {
          "resources": {
            "http://localhost:8080/nbextensions/google.colab/files.js": {
              "data": "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",
              "ok": true,
              "headers": [
                [
                  "content-type",
                  "application/javascript"
                ]
              ],
              "status": 200,
              "status_text": "OK"
            }
          },
          "base_uri": "https://localhost:8080/",
          "height": 87
        },
        "outputId": "9207a83b-88f3-4bf3-9ebb-5f2c476cc898"
      },
      "source": [
        "# A) Upload data\n",
        "\n",
        "# invoke a file selector (select the files)\n",
        "from google.colab import files\n",
        "\n",
        "uploaded = files.upload()\n",
        "\n",
        "# iterate the uploaded files in order to find their key names\n",
        "for fn in uploaded.keys():\n",
        "  print('User uploaded file \"{name}\" with length {length} bytes'.format(\n",
        "      name=fn, length=len(uploaded[fn])))"
      ],
      "execution_count": null,
      "outputs": [
        {
          "output_type": "display_data",
          "data": {
            "text/html": [
              "\n",
              "     <input type=\"file\" id=\"files-268540a2-7169-47fe-be38-d78e5a9331e5\" name=\"files[]\" multiple disabled\n",
              "        style=\"border:none\" />\n",
              "     <output id=\"result-268540a2-7169-47fe-be38-d78e5a9331e5\">\n",
              "      Upload widget is only available when the cell has been executed in the\n",
              "      current browser session. Please rerun this cell to enable.\n",
              "      </output>\n",
              "      <script src=\"/nbextensions/google.colab/files.js\"></script> "
            ],
            "text/plain": [
              "<IPython.core.display.HTML object>"
            ]
          },
          "metadata": {
            "tags": []
          }
        },
        {
          "output_type": "stream",
          "text": [
            "Saving costo_marginal_real.csv to costo_marginal_real.csv\n",
            "User uploaded file \"costo_marginal_real.csv\" with length 390673661 bytes\n"
          ],
          "name": "stdout"
        }
      ]
    },
    {
      "cell_type": "markdown",
      "metadata": {
        "id": "QdWBYl3bCyVH"
      },
      "source": [
        "**About the variables:**\n",
        "- sub ID of the energy station from where the energy comes from: barra_mnemotecnico: \n",
        "- ID of the energy station from where the energy comes from: barra_referencia_mnemotecnico\n",
        "- date: fecha\n",
        "- time: hora\n",
        "- cost in dolars: costo_en_dolares\n",
        "- cost in another currency: costo_en_pesos\n",
        "- name of the energy station: nombre\n",
        "- actual cost: costo_real\n",
        "- forecasted cost: costo_programado"
      ]
    },
    {
      "cell_type": "code",
      "metadata": {
        "id": "SjUzp16wdOsR",
        "colab": {
          "base_uri": "https://localhost:8080/",
          "height": 231
        },
        "outputId": "751294e6-92d1-46b8-cde0-e3753cc12df6"
      },
      "source": [
        "costo_real = pd.read_csv('costo_marginal_real.csv')\n",
        "costo_real.head()"
      ],
      "execution_count": null,
      "outputs": [
        {
          "output_type": "execute_result",
          "data": {
            "application/vnd.google.colaboratory.module+javascript": "\n      import \"https://ssl.gstatic.com/colaboratory/data_table/a6224c040fa35dcf/data_table.js\";\n\n      window.createDataTable({\n        data: [[{\n            'v': 0,\n            'f': \"0\",\n        },\n\"BA01T005SE075T005\",\n\"BA02T002SE032T002\",\n\"2019-04-06\",\n{\n            'v': 25,\n            'f': \"25\",\n        },\n{\n            'v': 62.24,\n            'f': \"62.24\",\n        },\n{\n            'v': 41.471759999999996,\n            'f': \"41.471759999999996\",\n        },\n\"BA S/E LORETO 15KV\"],\n [{\n            'v': 1,\n            'f': \"1\",\n        },\n\"BA01T005SE175T005\",\n\"BA02T002SE032T002\",\n\"2019-04-06\",\n{\n            'v': 25,\n            'f': \"25\",\n        },\n{\n            'v': 62.56,\n            'f': \"62.56\",\n        },\n{\n            'v': 41.684979999999996,\n            'f': \"41.684979999999996\",\n        },\n\"BA S/E RETIRO 13.2KV\"],\n [{\n            'v': 2,\n            'f': \"2\",\n        },\n\"BA03R002SE002R002\",\n\"BA02T002SE032T002\",\n\"2019-04-06\",\n{\n            'v': 25,\n            'f': \"25\",\n        },\n{\n            'v': 60.04,\n            'f': \"60.04\",\n        },\n{\n            'v': 40.00585,\n            'f': \"40.00585\",\n        },\n\"BA S/E ALTAMIRANO 12.5KV BP1\"],\n [{\n            'v': 3,\n            'f': \"3\",\n        },\n\"BA01R002SE012R002\",\n\"BA02T002SE032T002\",\n\"2019-04-06\",\n{\n            'v': 25,\n            'f': \"25\",\n        },\n{\n            'v': 61.65,\n            'f': \"61.65\",\n        },\n{\n            'v': 41.07863,\n            'f': \"41.07863\",\n        },\n\"BA S/E CURACAVI 44KV B1\"],\n [{\n            'v': 4,\n            'f': \"4\",\n        },\n\"BA03R002SE013R002\",\n\"BA02T002SE032T002\",\n\"2019-04-06\",\n{\n            'v': 25,\n            'f': \"25\",\n        },\n{\n            'v': 59.55,\n            'f': \"59.55\",\n        },\n{\n            'v': 39.679359999999996,\n            'f': \"39.679359999999996\",\n        },\n\"BA S/E EL MANZANO (ENEL DISTRIBUCI\\u00d3N) 23KV BP1\"]],\n        columns: [[\"number\", \"index\"], [\"string\", \"barra_mnemotecnico\"], [\"string\", \"barra_referencia_mnemotecnico\"], [\"string\", \"fecha\"], [\"number\", \"hora\"], [\"number\", \"costo_en_dolares\"], [\"number\", \"costo_en_pesos\"], [\"string\", \"nombre\"]],\n        columnOptions: [{\"width\": \"1px\", \"className\": \"index_column\"}],\n        rowsPerPage: 25,\n        helpUrl: \"https://colab.research.google.com/notebooks/data_table.ipynb\",\n        suppressOutputScrolling: true,\n        minimumWidth: undefined,\n      });\n    ",
            "text/html": [
              "<div>\n",
              "<style scoped>\n",
              "    .dataframe tbody tr th:only-of-type {\n",
              "        vertical-align: middle;\n",
              "    }\n",
              "\n",
              "    .dataframe tbody tr th {\n",
              "        vertical-align: top;\n",
              "    }\n",
              "\n",
              "    .dataframe thead th {\n",
              "        text-align: right;\n",
              "    }\n",
              "</style>\n",
              "<table border=\"1\" class=\"dataframe\">\n",
              "  <thead>\n",
              "    <tr style=\"text-align: right;\">\n",
              "      <th></th>\n",
              "      <th>barra_mnemotecnico</th>\n",
              "      <th>barra_referencia_mnemotecnico</th>\n",
              "      <th>fecha</th>\n",
              "      <th>hora</th>\n",
              "      <th>costo_en_dolares</th>\n",
              "      <th>costo_en_pesos</th>\n",
              "      <th>nombre</th>\n",
              "    </tr>\n",
              "  </thead>\n",
              "  <tbody>\n",
              "    <tr>\n",
              "      <th>0</th>\n",
              "      <td>BA01T005SE075T005</td>\n",
              "      <td>BA02T002SE032T002</td>\n",
              "      <td>2019-04-06</td>\n",
              "      <td>25</td>\n",
              "      <td>62.24</td>\n",
              "      <td>41.47176</td>\n",
              "      <td>BA S/E LORETO 15KV</td>\n",
              "    </tr>\n",
              "    <tr>\n",
              "      <th>1</th>\n",
              "      <td>BA01T005SE175T005</td>\n",
              "      <td>BA02T002SE032T002</td>\n",
              "      <td>2019-04-06</td>\n",
              "      <td>25</td>\n",
              "      <td>62.56</td>\n",
              "      <td>41.68498</td>\n",
              "      <td>BA S/E RETIRO 13.2KV</td>\n",
              "    </tr>\n",
              "    <tr>\n",
              "      <th>2</th>\n",
              "      <td>BA03R002SE002R002</td>\n",
              "      <td>BA02T002SE032T002</td>\n",
              "      <td>2019-04-06</td>\n",
              "      <td>25</td>\n",
              "      <td>60.04</td>\n",
              "      <td>40.00585</td>\n",
              "      <td>BA S/E ALTAMIRANO 12.5KV BP1</td>\n",
              "    </tr>\n",
              "    <tr>\n",
              "      <th>3</th>\n",
              "      <td>BA01R002SE012R002</td>\n",
              "      <td>BA02T002SE032T002</td>\n",
              "      <td>2019-04-06</td>\n",
              "      <td>25</td>\n",
              "      <td>61.65</td>\n",
              "      <td>41.07863</td>\n",
              "      <td>BA S/E CURACAVI 44KV B1</td>\n",
              "    </tr>\n",
              "    <tr>\n",
              "      <th>4</th>\n",
              "      <td>BA03R002SE013R002</td>\n",
              "      <td>BA02T002SE032T002</td>\n",
              "      <td>2019-04-06</td>\n",
              "      <td>25</td>\n",
              "      <td>59.55</td>\n",
              "      <td>39.67936</td>\n",
              "      <td>BA S/E EL MANZANO (ENEL DISTRIBUCIÓN) 23KV BP1</td>\n",
              "    </tr>\n",
              "  </tbody>\n",
              "</table>\n",
              "</div>"
            ],
            "text/plain": [
              "  barra_mnemotecnico  ...                                          nombre\n",
              "0  BA01T005SE075T005  ...                              BA S/E LORETO 15KV\n",
              "1  BA01T005SE175T005  ...                            BA S/E RETIRO 13.2KV\n",
              "2  BA03R002SE002R002  ...                    BA S/E ALTAMIRANO 12.5KV BP1\n",
              "3  BA01R002SE012R002  ...                         BA S/E CURACAVI 44KV B1\n",
              "4  BA03R002SE013R002  ...  BA S/E EL MANZANO (ENEL DISTRIBUCIÓN) 23KV BP1\n",
              "\n",
              "[5 rows x 7 columns]"
            ]
          },
          "metadata": {
            "tags": []
          },
          "execution_count": 7
        }
      ]
    },
    {
      "cell_type": "code",
      "metadata": {
        "id": "R4Q1KsrWdr_8",
        "colab": {
          "base_uri": "https://localhost:8080/",
          "height": 198
        },
        "outputId": "f7640cde-7b96-462a-f27c-011a5df09992"
      },
      "source": [
        "costo_programado = pd.read_csv('costo_marginal_programado.csv')\n",
        "costo_programado.head()"
      ],
      "execution_count": null,
      "outputs": [
        {
          "output_type": "execute_result",
          "data": {
            "application/vnd.google.colaboratory.module+javascript": "\n      import \"https://ssl.gstatic.com/colaboratory/data_table/a6224c040fa35dcf/data_table.js\";\n\n      window.createDataTable({\n        data: [[{\n            'v': 0,\n            'f': \"0\",\n        },\n\"BA01T002SE002T002\",\n\"BA S/E ALTO JAHUEL 110KV SECCION 1\",\n\"2019-01-01\",\n{\n            'v': 1.0,\n            'f': \"1.0\",\n        },\n{\n            'v': 49.89733362,\n            'f': \"49.89733362\",\n        }],\n [{\n            'v': 1,\n            'f': \"1\",\n        },\n\"BA01T002SE002T002\",\n\"BA S/E ALTO JAHUEL 110KV SECCION 1\",\n\"2019-01-01\",\n{\n            'v': 2.0,\n            'f': \"2.0\",\n        },\n{\n            'v': 50.47161625,\n            'f': \"50.47161625\",\n        }],\n [{\n            'v': 2,\n            'f': \"2\",\n        },\n\"BA01T002SE002T002\",\n\"BA S/E ALTO JAHUEL 110KV SECCION 1\",\n\"2019-01-01\",\n{\n            'v': 3.0,\n            'f': \"3.0\",\n        },\n{\n            'v': 50.07782143,\n            'f': \"50.07782143\",\n        }],\n [{\n            'v': 3,\n            'f': \"3\",\n        },\n\"BA01T002SE002T002\",\n\"BA S/E ALTO JAHUEL 110KV SECCION 1\",\n\"2019-01-01\",\n{\n            'v': 4.0,\n            'f': \"4.0\",\n        },\n{\n            'v': 49.79621575,\n            'f': \"49.79621575\",\n        }],\n [{\n            'v': 4,\n            'f': \"4\",\n        },\n\"BA01T002SE002T002\",\n\"BA S/E ALTO JAHUEL 110KV SECCION 1\",\n\"2019-01-01\",\n{\n            'v': 5.0,\n            'f': \"5.0\",\n        },\n{\n            'v': 49.79621575,\n            'f': \"49.79621575\",\n        }]],\n        columns: [[\"number\", \"index\"], [\"string\", \"mnemotecnico_barra\"], [\"string\", \"nombre_barra\"], [\"string\", \"fecha\"], [\"number\", \"hora\"], [\"number\", \"costo\"]],\n        columnOptions: [{\"width\": \"1px\", \"className\": \"index_column\"}],\n        rowsPerPage: 25,\n        helpUrl: \"https://colab.research.google.com/notebooks/data_table.ipynb\",\n        suppressOutputScrolling: true,\n        minimumWidth: undefined,\n      });\n    ",
            "text/html": [
              "<div>\n",
              "<style scoped>\n",
              "    .dataframe tbody tr th:only-of-type {\n",
              "        vertical-align: middle;\n",
              "    }\n",
              "\n",
              "    .dataframe tbody tr th {\n",
              "        vertical-align: top;\n",
              "    }\n",
              "\n",
              "    .dataframe thead th {\n",
              "        text-align: right;\n",
              "    }\n",
              "</style>\n",
              "<table border=\"1\" class=\"dataframe\">\n",
              "  <thead>\n",
              "    <tr style=\"text-align: right;\">\n",
              "      <th></th>\n",
              "      <th>mnemotecnico_barra</th>\n",
              "      <th>nombre_barra</th>\n",
              "      <th>fecha</th>\n",
              "      <th>hora</th>\n",
              "      <th>costo</th>\n",
              "    </tr>\n",
              "  </thead>\n",
              "  <tbody>\n",
              "    <tr>\n",
              "      <th>0</th>\n",
              "      <td>BA01T002SE002T002</td>\n",
              "      <td>BA S/E ALTO JAHUEL 110KV SECCION 1</td>\n",
              "      <td>2019-01-01</td>\n",
              "      <td>1.0</td>\n",
              "      <td>49.897334</td>\n",
              "    </tr>\n",
              "    <tr>\n",
              "      <th>1</th>\n",
              "      <td>BA01T002SE002T002</td>\n",
              "      <td>BA S/E ALTO JAHUEL 110KV SECCION 1</td>\n",
              "      <td>2019-01-01</td>\n",
              "      <td>2.0</td>\n",
              "      <td>50.471616</td>\n",
              "    </tr>\n",
              "    <tr>\n",
              "      <th>2</th>\n",
              "      <td>BA01T002SE002T002</td>\n",
              "      <td>BA S/E ALTO JAHUEL 110KV SECCION 1</td>\n",
              "      <td>2019-01-01</td>\n",
              "      <td>3.0</td>\n",
              "      <td>50.077821</td>\n",
              "    </tr>\n",
              "    <tr>\n",
              "      <th>3</th>\n",
              "      <td>BA01T002SE002T002</td>\n",
              "      <td>BA S/E ALTO JAHUEL 110KV SECCION 1</td>\n",
              "      <td>2019-01-01</td>\n",
              "      <td>4.0</td>\n",
              "      <td>49.796216</td>\n",
              "    </tr>\n",
              "    <tr>\n",
              "      <th>4</th>\n",
              "      <td>BA01T002SE002T002</td>\n",
              "      <td>BA S/E ALTO JAHUEL 110KV SECCION 1</td>\n",
              "      <td>2019-01-01</td>\n",
              "      <td>5.0</td>\n",
              "      <td>49.796216</td>\n",
              "    </tr>\n",
              "  </tbody>\n",
              "</table>\n",
              "</div>"
            ],
            "text/plain": [
              "  mnemotecnico_barra                        nombre_barra  ... hora      costo\n",
              "0  BA01T002SE002T002  BA S/E ALTO JAHUEL 110KV SECCION 1  ...  1.0  49.897334\n",
              "1  BA01T002SE002T002  BA S/E ALTO JAHUEL 110KV SECCION 1  ...  2.0  50.471616\n",
              "2  BA01T002SE002T002  BA S/E ALTO JAHUEL 110KV SECCION 1  ...  3.0  50.077821\n",
              "3  BA01T002SE002T002  BA S/E ALTO JAHUEL 110KV SECCION 1  ...  4.0  49.796216\n",
              "4  BA01T002SE002T002  BA S/E ALTO JAHUEL 110KV SECCION 1  ...  5.0  49.796216\n",
              "\n",
              "[5 rows x 5 columns]"
            ]
          },
          "metadata": {
            "tags": []
          },
          "execution_count": 8
        }
      ]
    },
    {
      "cell_type": "code",
      "metadata": {
        "id": "WGGx5IuXiKk-",
        "colab": {
          "base_uri": "https://localhost:8080/",
          "height": 281
        },
        "outputId": "74f51bf0-2521-4ad8-96e1-dacbf8a35092"
      },
      "source": [
        "# B) Merge costos reales (real costs) and costos programados (forecasted costs)\n",
        "\n",
        "# change 'fecha' data type to to_datetime data type\n",
        "costo_real['fecha'] = pd.to_datetime(costo_real['fecha']) \n",
        "costo_programado['fecha'] = pd.to_datetime(costo_programado['fecha']) # change 'fecha' data type to to_datetime data type\n",
        "\n",
        "# rename columns to later make the merge\n",
        "costo_programado.rename(columns={'mnemotecnico_barra':'barra_mnemotecnico','nombre_barra':'nombre'}, inplace=True)\n",
        "\n",
        "# merge\n",
        "costo_marginal = pd.merge(costo_real,costo_programado,on=['barra_mnemotecnico','nombre','fecha','hora'])\n",
        "costo_marginal = costo_marginal.drop(['costo_en_pesos'],1) # drop redundant variable\n",
        "\n",
        "# rename with appropriate variable names\n",
        "costo_marginal.rename(columns={'costo_en_dolares':'costo_real','costo':'costo_programado'}, inplace=True)\n",
        "costo_marginal.head()"
      ],
      "execution_count": null,
      "outputs": [
        {
          "output_type": "execute_result",
          "data": {
            "application/vnd.google.colaboratory.module+javascript": "\n      import \"https://ssl.gstatic.com/colaboratory/data_table/a6224c040fa35dcf/data_table.js\";\n\n      window.createDataTable({\n        data: [[{\n            'v': 0,\n            'f': \"0\",\n        },\n\"BA01G021SE018G021\",\n\"BA02T002SE032T002\",\n\"2019-04-06 00:00:00\",\n{\n            'v': 25,\n            'f': \"25\",\n        },\n{\n            'v': 58.02,\n            'f': \"58.02\",\n        },\n\"BA S/E CENTRAL QUINTERO 220KV\",\n{\n            'v': 54.29214458,\n            'f': \"54.29214458\",\n        }],\n [{\n            'v': 1,\n            'f': \"1\",\n        },\n\"BA01T018SE001T018\",\n\"BA02T002SE032T002\",\n\"2019-04-06 00:00:00\",\n{\n            'v': 25,\n            'f': \"25\",\n        },\n{\n            'v': 63.6,\n            'f': \"63.6\",\n        },\n\"BA S/E NUEVA PICHIRROPULLI 220KV B1\",\n{\n            'v': 60.62064769,\n            'f': \"60.62064769\",\n        }],\n [{\n            'v': 2,\n            'f': \"2\",\n        },\n\"BA02T005SE055T005\",\n\"BA02T002SE032T002\",\n\"2019-04-06 00:00:00\",\n{\n            'v': 25,\n            'f': \"25\",\n        },\n{\n            'v': 62.78,\n            'f': \"62.78\",\n        },\n\"BA S/E SAN FRANCISCO DE MOSTAZAL 66KV T1\",\n{\n            'v': 59.17796939,\n            'f': \"59.17796939\",\n        }],\n [{\n            'v': 3,\n            'f': \"3\",\n        },\n\"BA01T002SE029T002\",\n\"BA02T002SE032T002\",\n\"2019-04-06 00:00:00\",\n{\n            'v': 25,\n            'f': \"25\",\n        },\n{\n            'v': 58.55,\n            'f': \"58.55\",\n        },\n\"BA S/E CENTRAL PEHUENCHE 220KV B1\",\n{\n            'v': 54.56660516,\n            'f': \"54.56660516\",\n        }],\n [{\n            'v': 4,\n            'f': \"4\",\n        },\n\"BA01R002SE041R002\",\n\"BA02T002SE032T002\",\n\"2019-04-06 00:00:00\",\n{\n            'v': 25,\n            'f': \"25\",\n        },\n{\n            'v': 60.39,\n            'f': \"60.39\",\n        },\n\"BA S/E SAN CRISTOBAL 110KV B1\",\n{\n            'v': 56.08626046,\n            'f': \"56.08626046\",\n        }]],\n        columns: [[\"number\", \"index\"], [\"string\", \"barra_mnemotecnico\"], [\"string\", \"barra_referencia_mnemotecnico\"], [\"string\", \"fecha\"], [\"number\", \"hora\"], [\"number\", \"costo_real\"], [\"string\", \"nombre\"], [\"number\", \"costo_programado\"]],\n        columnOptions: [{\"width\": \"1px\", \"className\": \"index_column\"}],\n        rowsPerPage: 25,\n        helpUrl: \"https://colab.research.google.com/notebooks/data_table.ipynb\",\n        suppressOutputScrolling: true,\n        minimumWidth: undefined,\n      });\n    ",
            "text/html": [
              "<div>\n",
              "<style scoped>\n",
              "    .dataframe tbody tr th:only-of-type {\n",
              "        vertical-align: middle;\n",
              "    }\n",
              "\n",
              "    .dataframe tbody tr th {\n",
              "        vertical-align: top;\n",
              "    }\n",
              "\n",
              "    .dataframe thead th {\n",
              "        text-align: right;\n",
              "    }\n",
              "</style>\n",
              "<table border=\"1\" class=\"dataframe\">\n",
              "  <thead>\n",
              "    <tr style=\"text-align: right;\">\n",
              "      <th></th>\n",
              "      <th>barra_mnemotecnico</th>\n",
              "      <th>barra_referencia_mnemotecnico</th>\n",
              "      <th>fecha</th>\n",
              "      <th>hora</th>\n",
              "      <th>costo_real</th>\n",
              "      <th>nombre</th>\n",
              "      <th>costo_programado</th>\n",
              "    </tr>\n",
              "  </thead>\n",
              "  <tbody>\n",
              "    <tr>\n",
              "      <th>0</th>\n",
              "      <td>BA01G021SE018G021</td>\n",
              "      <td>BA02T002SE032T002</td>\n",
              "      <td>2019-04-06</td>\n",
              "      <td>25</td>\n",
              "      <td>58.02</td>\n",
              "      <td>BA S/E CENTRAL QUINTERO 220KV</td>\n",
              "      <td>54.292145</td>\n",
              "    </tr>\n",
              "    <tr>\n",
              "      <th>1</th>\n",
              "      <td>BA01T018SE001T018</td>\n",
              "      <td>BA02T002SE032T002</td>\n",
              "      <td>2019-04-06</td>\n",
              "      <td>25</td>\n",
              "      <td>63.60</td>\n",
              "      <td>BA S/E NUEVA PICHIRROPULLI 220KV B1</td>\n",
              "      <td>60.620648</td>\n",
              "    </tr>\n",
              "    <tr>\n",
              "      <th>2</th>\n",
              "      <td>BA02T005SE055T005</td>\n",
              "      <td>BA02T002SE032T002</td>\n",
              "      <td>2019-04-06</td>\n",
              "      <td>25</td>\n",
              "      <td>62.78</td>\n",
              "      <td>BA S/E SAN FRANCISCO DE MOSTAZAL 66KV T1</td>\n",
              "      <td>59.177969</td>\n",
              "    </tr>\n",
              "    <tr>\n",
              "      <th>3</th>\n",
              "      <td>BA01T002SE029T002</td>\n",
              "      <td>BA02T002SE032T002</td>\n",
              "      <td>2019-04-06</td>\n",
              "      <td>25</td>\n",
              "      <td>58.55</td>\n",
              "      <td>BA S/E CENTRAL PEHUENCHE 220KV B1</td>\n",
              "      <td>54.566605</td>\n",
              "    </tr>\n",
              "    <tr>\n",
              "      <th>4</th>\n",
              "      <td>BA01R002SE041R002</td>\n",
              "      <td>BA02T002SE032T002</td>\n",
              "      <td>2019-04-06</td>\n",
              "      <td>25</td>\n",
              "      <td>60.39</td>\n",
              "      <td>BA S/E SAN CRISTOBAL 110KV B1</td>\n",
              "      <td>56.086260</td>\n",
              "    </tr>\n",
              "  </tbody>\n",
              "</table>\n",
              "</div>"
            ],
            "text/plain": [
              "  barra_mnemotecnico  ... costo_programado\n",
              "0  BA01G021SE018G021  ...        54.292145\n",
              "1  BA01T018SE001T018  ...        60.620648\n",
              "2  BA02T005SE055T005  ...        59.177969\n",
              "3  BA01T002SE029T002  ...        54.566605\n",
              "4  BA01R002SE041R002  ...        56.086260\n",
              "\n",
              "[5 rows x 7 columns]"
            ]
          },
          "metadata": {
            "tags": []
          },
          "execution_count": 9
        }
      ]
    },
    {
      "cell_type": "markdown",
      "metadata": {
        "id": "Mj6Xckl0kB9x"
      },
      "source": [
        "**1.2. Exploratory analysis**"
      ]
    },
    {
      "cell_type": "code",
      "metadata": {
        "id": "lwrz78aMkPQR",
        "colab": {
          "base_uri": "https://localhost:8080/",
          "height": 34
        },
        "outputId": "5a1de214-4c60-4fd5-cb65-74fe6ae7faeb"
      },
      "source": [
        "# A) check for duplicated data\n",
        "duplicated = costo_marginal[costo_marginal.duplicated(subset=['barra_mnemotecnico','nombre','fecha','hora'], keep=False)] # create a df only with the duplicates\n",
        "# percentage of duplicated data\n",
        "percentage_duplicated = round(100 * ((len(duplicated.index))/2) / len(costo_marginal.index),2)\n",
        "print(percentage_duplicated,'% of the data are duplicates')"
      ],
      "execution_count": null,
      "outputs": [
        {
          "output_type": "stream",
          "text": [
            "1.36 % of the data are duplicates\n"
          ],
          "name": "stdout"
        }
      ]
    },
    {
      "cell_type": "markdown",
      "metadata": {
        "id": "tHre_ZTLmH1T"
      },
      "source": [
        "**Observations:**\n",
        "- Duplicates: there are costs that were forecasted two times (here are observations with the same ID but different forecasted costs)\n",
        "- 1.36% of the data are duplicates"
      ]
    },
    {
      "cell_type": "code",
      "metadata": {
        "id": "MIri-5vaksmT",
        "colab": {
          "base_uri": "https://localhost:8080/",
          "height": 263
        },
        "outputId": "746ec381-52a7-49b2-b81f-f181965ae7d0"
      },
      "source": [
        "# Analyse duplicated data\n",
        "\n",
        "duplicates_analysis = duplicated.drop(['Unnamed: 0'],1) # an unnesessary column was created, so, drop it\n",
        "# Put duplicates in a column so that it can be compared\n",
        "duplicates_analysis = duplicated.join(duplicates_analysis.groupby(['barra_mnemotecnico','nombre','fecha','hora']).last(), on=['barra_mnemotecnico','nombre','fecha','hora'], rsuffix='_dup').drop_duplicates(subset=['costo_real_dup','costo_programado_dup']).reset_index(drop=True)\n",
        "# Calculate the diference between the duplicates \n",
        "duplicates_analysis['diferencia'] = np.sqrt((duplicates_analysis['costo_programado_dup'] - duplicates_analysis['costo_programado'])**2)\n",
        "# Descriptive statistics\n",
        "pd.DataFrame(duplicates_analysis.describe())"
      ],
      "execution_count": null,
      "outputs": [
        {
          "output_type": "execute_result",
          "data": {
            "application/vnd.google.colaboratory.module+javascript": "\n      import \"https://ssl.gstatic.com/colaboratory/data_table/a6224c040fa35dcf/data_table.js\";\n\n      window.createDataTable({\n        data: [[\"count\",\n{\n            'v': 11196.0,\n            'f': \"11196.0\",\n        },\n{\n            'v': 11196.0,\n            'f': \"11196.0\",\n        },\n{\n            'v': 11196.0,\n            'f': \"11196.0\",\n        },\n{\n            'v': 11196.0,\n            'f': \"11196.0\",\n        },\n{\n            'v': 11196.0,\n            'f': \"11196.0\",\n        },\n{\n            'v': 11196.0,\n            'f': \"11196.0\",\n        },\n{\n            'v': 11196.0,\n            'f': \"11196.0\",\n        }],\n [\"mean\",\n{\n            'v': 451685.3397642015,\n            'f': \"451685.3397642015\",\n        },\n{\n            'v': 12.378885316184352,\n            'f': \"12.378885316184352\",\n        },\n{\n            'v': 58.702625044659115,\n            'f': \"58.702625044659115\",\n        },\n{\n            'v': 63.288086972217805,\n            'f': \"63.288086972217805\",\n        },\n{\n            'v': 58.702625044659115,\n            'f': \"58.702625044659115\",\n        },\n{\n            'v': 60.17602165523693,\n            'f': \"60.17602165523693\",\n        },\n{\n            'v': 5.337200359887465,\n            'f': \"5.337200359887465\",\n        }],\n [\"std\",\n{\n            'v': 267796.17010215373,\n            'f': \"267796.17010215373\",\n        },\n{\n            'v': 7.03515556964614,\n            'f': \"7.03515556964614\",\n        },\n{\n            'v': 19.19886604640015,\n            'f': \"19.19886604640015\",\n        },\n{\n            'v': 21.185271162437935,\n            'f': \"21.185271162437935\",\n        },\n{\n            'v': 19.19886604640015,\n            'f': \"19.19886604640015\",\n        },\n{\n            'v': 18.894871934474583,\n            'f': \"18.894871934474583\",\n        },\n{\n            'v': 7.040726962029202,\n            'f': \"7.040726962029202\",\n        }],\n [\"min\",\n{\n            'v': 98.0,\n            'f': \"98.0\",\n        },\n{\n            'v': 1.0,\n            'f': \"1.0\",\n        },\n{\n            'v': 0.0,\n            'f': \"0.0\",\n        },\n{\n            'v': 0.04175758,\n            'f': \"0.04175758\",\n        },\n{\n            'v': 0.0,\n            'f': \"0.0\",\n        },\n{\n            'v': 0.0420297,\n            'f': \"0.0420297\",\n        },\n{\n            'v': 0.0002721200000000007,\n            'f': \"0.0002721200000000007\",\n        }],\n [\"25%\",\n{\n            'v': 222928.75,\n            'f': \"222928.75\",\n        },\n{\n            'v': 6.0,\n            'f': \"6.0\",\n        },\n{\n            'v': 48.86,\n            'f': \"48.86\",\n        },\n{\n            'v': 51.29106002,\n            'f': \"51.29106002\",\n        },\n{\n            'v': 48.86,\n            'f': \"48.86\",\n        },\n{\n            'v': 50.05428543,\n            'f': \"50.05428543\",\n        },\n{\n            'v': 2.2797877800000013,\n            'f': \"2.2797877800000013\",\n        }],\n [\"50%\",\n{\n            'v': 440613.5,\n            'f': \"440613.5\",\n        },\n{\n            'v': 12.0,\n            'f': \"12.0\",\n        },\n{\n            'v': 53.22,\n            'f': \"53.22\",\n        },\n{\n            'v': 57.35317381,\n            'f': \"57.35317381\",\n        },\n{\n            'v': 53.22,\n            'f': \"53.22\",\n        },\n{\n            'v': 54.48197381,\n            'f': \"54.48197381\",\n        },\n{\n            'v': 3.244489565000002,\n            'f': \"3.244489565000002\",\n        }],\n [\"75%\",\n{\n            'v': 692079.0,\n            'f': \"692079.0\",\n        },\n{\n            'v': 19.0,\n            'f': \"19.0\",\n        },\n{\n            'v': 60.900000000000006,\n            'f': \"60.900000000000006\",\n        },\n{\n            'v': 68.637983915,\n            'f': \"68.637983915\",\n        },\n{\n            'v': 60.900000000000006,\n            'f': \"60.900000000000006\",\n        },\n{\n            'v': 62.1429145925,\n            'f': \"62.1429145925\",\n        },\n{\n            'v': 5.8727085275,\n            'f': \"5.8727085275\",\n        }],\n [\"max\",\n{\n            'v': 913374.0,\n            'f': \"913374.0\",\n        },\n{\n            'v': 25.0,\n            'f': \"25.0\",\n        },\n{\n            'v': 195.66,\n            'f': \"195.66\",\n        },\n{\n            'v': 390.70380967,\n            'f': \"390.70380967\",\n        },\n{\n            'v': 195.66,\n            'f': \"195.66\",\n        },\n{\n            'v': 272.26251591,\n            'f': \"272.26251591\",\n        },\n{\n            'v': 297.58063605,\n            'f': \"297.58063605\",\n        }]],\n        columns: [[\"string\", \"index\"], [\"number\", \"Unnamed: 0\"], [\"number\", \"hora\"], [\"number\", \"costo_real\"], [\"number\", \"costo_programado\"], [\"number\", \"costo_real_dup\"], [\"number\", \"costo_programado_dup\"], [\"number\", \"diferencia\"]],\n        columnOptions: [{\"width\": \"1px\", \"className\": \"index_column\"}],\n        rowsPerPage: 25,\n        helpUrl: \"https://colab.research.google.com/notebooks/data_table.ipynb\",\n        suppressOutputScrolling: true,\n        minimumWidth: undefined,\n      });\n    ",
            "text/html": [
              "<div>\n",
              "<style scoped>\n",
              "    .dataframe tbody tr th:only-of-type {\n",
              "        vertical-align: middle;\n",
              "    }\n",
              "\n",
              "    .dataframe tbody tr th {\n",
              "        vertical-align: top;\n",
              "    }\n",
              "\n",
              "    .dataframe thead th {\n",
              "        text-align: right;\n",
              "    }\n",
              "</style>\n",
              "<table border=\"1\" class=\"dataframe\">\n",
              "  <thead>\n",
              "    <tr style=\"text-align: right;\">\n",
              "      <th></th>\n",
              "      <th>Unnamed: 0</th>\n",
              "      <th>hora</th>\n",
              "      <th>costo_real</th>\n",
              "      <th>costo_programado</th>\n",
              "      <th>costo_real_dup</th>\n",
              "      <th>costo_programado_dup</th>\n",
              "      <th>diferencia</th>\n",
              "    </tr>\n",
              "  </thead>\n",
              "  <tbody>\n",
              "    <tr>\n",
              "      <th>count</th>\n",
              "      <td>11196.000000</td>\n",
              "      <td>11196.000000</td>\n",
              "      <td>11196.000000</td>\n",
              "      <td>11196.000000</td>\n",
              "      <td>11196.000000</td>\n",
              "      <td>11196.000000</td>\n",
              "      <td>11196.000000</td>\n",
              "    </tr>\n",
              "    <tr>\n",
              "      <th>mean</th>\n",
              "      <td>451685.339764</td>\n",
              "      <td>12.378885</td>\n",
              "      <td>58.702625</td>\n",
              "      <td>63.288087</td>\n",
              "      <td>58.702625</td>\n",
              "      <td>60.176022</td>\n",
              "      <td>5.337200</td>\n",
              "    </tr>\n",
              "    <tr>\n",
              "      <th>std</th>\n",
              "      <td>267796.170102</td>\n",
              "      <td>7.035156</td>\n",
              "      <td>19.198866</td>\n",
              "      <td>21.185271</td>\n",
              "      <td>19.198866</td>\n",
              "      <td>18.894872</td>\n",
              "      <td>7.040727</td>\n",
              "    </tr>\n",
              "    <tr>\n",
              "      <th>min</th>\n",
              "      <td>98.000000</td>\n",
              "      <td>1.000000</td>\n",
              "      <td>0.000000</td>\n",
              "      <td>0.041758</td>\n",
              "      <td>0.000000</td>\n",
              "      <td>0.042030</td>\n",
              "      <td>0.000272</td>\n",
              "    </tr>\n",
              "    <tr>\n",
              "      <th>25%</th>\n",
              "      <td>222928.750000</td>\n",
              "      <td>6.000000</td>\n",
              "      <td>48.860000</td>\n",
              "      <td>51.291060</td>\n",
              "      <td>48.860000</td>\n",
              "      <td>50.054285</td>\n",
              "      <td>2.279788</td>\n",
              "    </tr>\n",
              "    <tr>\n",
              "      <th>50%</th>\n",
              "      <td>440613.500000</td>\n",
              "      <td>12.000000</td>\n",
              "      <td>53.220000</td>\n",
              "      <td>57.353174</td>\n",
              "      <td>53.220000</td>\n",
              "      <td>54.481974</td>\n",
              "      <td>3.244490</td>\n",
              "    </tr>\n",
              "    <tr>\n",
              "      <th>75%</th>\n",
              "      <td>692079.000000</td>\n",
              "      <td>19.000000</td>\n",
              "      <td>60.900000</td>\n",
              "      <td>68.637984</td>\n",
              "      <td>60.900000</td>\n",
              "      <td>62.142915</td>\n",
              "      <td>5.872709</td>\n",
              "    </tr>\n",
              "    <tr>\n",
              "      <th>max</th>\n",
              "      <td>913374.000000</td>\n",
              "      <td>25.000000</td>\n",
              "      <td>195.660000</td>\n",
              "      <td>390.703810</td>\n",
              "      <td>195.660000</td>\n",
              "      <td>272.262516</td>\n",
              "      <td>297.580636</td>\n",
              "    </tr>\n",
              "  </tbody>\n",
              "</table>\n",
              "</div>"
            ],
            "text/plain": [
              "          Unnamed: 0          hora  ...  costo_programado_dup    diferencia\n",
              "count   11196.000000  11196.000000  ...          11196.000000  11196.000000\n",
              "mean   451685.339764     12.378885  ...             60.176022      5.337200\n",
              "std    267796.170102      7.035156  ...             18.894872      7.040727\n",
              "min        98.000000      1.000000  ...              0.042030      0.000272\n",
              "25%    222928.750000      6.000000  ...             50.054285      2.279788\n",
              "50%    440613.500000     12.000000  ...             54.481974      3.244490\n",
              "75%    692079.000000     19.000000  ...             62.142915      5.872709\n",
              "max    913374.000000     25.000000  ...            272.262516    297.580636\n",
              "\n",
              "[8 rows x 7 columns]"
            ]
          },
          "metadata": {
            "tags": []
          },
          "execution_count": 12
        }
      ]
    },
    {
      "cell_type": "markdown",
      "metadata": {
        "id": "_8Rb-EMRmx4M"
      },
      "source": [
        "**Observations:** As the number of duplicates is low (1.36% of the data), and as the diference in the forecasted cost in a duplicate does not vary much (5.34 average), then one of the observations will be dropped and the other one will be keeped.\n"
      ]
    },
    {
      "cell_type": "code",
      "metadata": {
        "id": "cYVvbMKUk0VM"
      },
      "source": [
        "# drop duplicated data\n",
        "costo_marginal_clean = costo_marginal.drop_duplicates(subset=['barra_mnemotecnico','nombre','fecha','hora'], keep = 'first')"
      ],
      "execution_count": null,
      "outputs": []
    },
    {
      "cell_type": "code",
      "metadata": {
        "id": "NVKdqmWk7lry",
        "colab": {
          "base_uri": "https://localhost:8080/",
          "height": 263
        },
        "outputId": "0c24f2f4-a548-448e-b2ec-e9fd5d27223a"
      },
      "source": [
        "# B) summary descriptive statistics\n",
        "pd.DataFrame(costo_marginal_clean.describe())"
      ],
      "execution_count": null,
      "outputs": [
        {
          "output_type": "execute_result",
          "data": {
            "application/vnd.google.colaboratory.module+javascript": "\n      import \"https://ssl.gstatic.com/colaboratory/data_table/a6224c040fa35dcf/data_table.js\";\n\n      window.createDataTable({\n        data: [[\"count\",\n{\n            'v': 900929.0,\n            'f': \"900929.0\",\n        },\n{\n            'v': 900929.0,\n            'f': \"900929.0\",\n        },\n{\n            'v': 900929.0,\n            'f': \"900929.0\",\n        },\n{\n            'v': 900929.0,\n            'f': \"900929.0\",\n        }],\n [\"mean\",\n{\n            'v': 456693.97218315763,\n            'f': \"456693.97218315763\",\n        },\n{\n            'v': 12.50289978455572,\n            'f': \"12.50289978455572\",\n        },\n{\n            'v': 58.56218572162447,\n            'f': \"58.56218572162447\",\n        },\n{\n            'v': 61.91130209540756,\n            'f': \"61.91130209540756\",\n        }],\n [\"std\",\n{\n            'v': 263672.57150032546,\n            'f': \"263672.57150032546\",\n        },\n{\n            'v': 6.9240048336983815,\n            'f': \"6.9240048336983815\",\n        },\n{\n            'v': 23.32660400706566,\n            'f': \"23.32660400706566\",\n        },\n{\n            'v': 23.87002052638593,\n            'f': \"23.87002052638593\",\n        }],\n [\"min\",\n{\n            'v': 0.0,\n            'f': \"0.0\",\n        },\n{\n            'v': 1.0,\n            'f': \"1.0\",\n        },\n{\n            'v': 0.0,\n            'f': \"0.0\",\n        },\n{\n            'v': -12.11367675,\n            'f': \"-12.11367675\",\n        }],\n [\"25%\",\n{\n            'v': 228346.0,\n            'f': \"228346.0\",\n        },\n{\n            'v': 7.0,\n            'f': \"7.0\",\n        },\n{\n            'v': 48.43,\n            'f': \"48.43\",\n        },\n{\n            'v': 49.98037653,\n            'f': \"49.98037653\",\n        }],\n [\"50%\",\n{\n            'v': 456694.0,\n            'f': \"456694.0\",\n        },\n{\n            'v': 13.0,\n            'f': \"13.0\",\n        },\n{\n            'v': 53.33,\n            'f': \"53.33\",\n        },\n{\n            'v': 55.06645656,\n            'f': \"55.06645656\",\n        }],\n [\"75%\",\n{\n            'v': 685040.0,\n            'f': \"685040.0\",\n        },\n{\n            'v': 19.0,\n            'f': \"19.0\",\n        },\n{\n            'v': 60.89,\n            'f': \"60.89\",\n        },\n{\n            'v': 64.20718799,\n            'f': \"64.20718799\",\n        }],\n [\"max\",\n{\n            'v': 913387.0,\n            'f': \"913387.0\",\n        },\n{\n            'v': 25.0,\n            'f': \"25.0\",\n        },\n{\n            'v': 791.14,\n            'f': \"791.14\",\n        },\n{\n            'v': 610.6,\n            'f': \"610.6\",\n        }]],\n        columns: [[\"string\", \"index\"], [\"number\", \"Unnamed: 0\"], [\"number\", \"hora\"], [\"number\", \"costo_real\"], [\"number\", \"costo_programado\"]],\n        columnOptions: [{\"width\": \"1px\", \"className\": \"index_column\"}],\n        rowsPerPage: 25,\n        helpUrl: \"https://colab.research.google.com/notebooks/data_table.ipynb\",\n        suppressOutputScrolling: true,\n        minimumWidth: undefined,\n      });\n    ",
            "text/html": [
              "<div>\n",
              "<style scoped>\n",
              "    .dataframe tbody tr th:only-of-type {\n",
              "        vertical-align: middle;\n",
              "    }\n",
              "\n",
              "    .dataframe tbody tr th {\n",
              "        vertical-align: top;\n",
              "    }\n",
              "\n",
              "    .dataframe thead th {\n",
              "        text-align: right;\n",
              "    }\n",
              "</style>\n",
              "<table border=\"1\" class=\"dataframe\">\n",
              "  <thead>\n",
              "    <tr style=\"text-align: right;\">\n",
              "      <th></th>\n",
              "      <th>Unnamed: 0</th>\n",
              "      <th>hora</th>\n",
              "      <th>costo_real</th>\n",
              "      <th>costo_programado</th>\n",
              "    </tr>\n",
              "  </thead>\n",
              "  <tbody>\n",
              "    <tr>\n",
              "      <th>count</th>\n",
              "      <td>900929.000000</td>\n",
              "      <td>900929.000000</td>\n",
              "      <td>900929.000000</td>\n",
              "      <td>900929.000000</td>\n",
              "    </tr>\n",
              "    <tr>\n",
              "      <th>mean</th>\n",
              "      <td>456693.972183</td>\n",
              "      <td>12.502900</td>\n",
              "      <td>58.562186</td>\n",
              "      <td>61.911302</td>\n",
              "    </tr>\n",
              "    <tr>\n",
              "      <th>std</th>\n",
              "      <td>263672.571500</td>\n",
              "      <td>6.924005</td>\n",
              "      <td>23.326604</td>\n",
              "      <td>23.870021</td>\n",
              "    </tr>\n",
              "    <tr>\n",
              "      <th>min</th>\n",
              "      <td>0.000000</td>\n",
              "      <td>1.000000</td>\n",
              "      <td>0.000000</td>\n",
              "      <td>-12.113677</td>\n",
              "    </tr>\n",
              "    <tr>\n",
              "      <th>25%</th>\n",
              "      <td>228346.000000</td>\n",
              "      <td>7.000000</td>\n",
              "      <td>48.430000</td>\n",
              "      <td>49.980377</td>\n",
              "    </tr>\n",
              "    <tr>\n",
              "      <th>50%</th>\n",
              "      <td>456694.000000</td>\n",
              "      <td>13.000000</td>\n",
              "      <td>53.330000</td>\n",
              "      <td>55.066457</td>\n",
              "    </tr>\n",
              "    <tr>\n",
              "      <th>75%</th>\n",
              "      <td>685040.000000</td>\n",
              "      <td>19.000000</td>\n",
              "      <td>60.890000</td>\n",
              "      <td>64.207188</td>\n",
              "    </tr>\n",
              "    <tr>\n",
              "      <th>max</th>\n",
              "      <td>913387.000000</td>\n",
              "      <td>25.000000</td>\n",
              "      <td>791.140000</td>\n",
              "      <td>610.600000</td>\n",
              "    </tr>\n",
              "  </tbody>\n",
              "</table>\n",
              "</div>"
            ],
            "text/plain": [
              "          Unnamed: 0           hora     costo_real  costo_programado\n",
              "count  900929.000000  900929.000000  900929.000000     900929.000000\n",
              "mean   456693.972183      12.502900      58.562186         61.911302\n",
              "std    263672.571500       6.924005      23.326604         23.870021\n",
              "min         0.000000       1.000000       0.000000        -12.113677\n",
              "25%    228346.000000       7.000000      48.430000         49.980377\n",
              "50%    456694.000000      13.000000      53.330000         55.066457\n",
              "75%    685040.000000      19.000000      60.890000         64.207188\n",
              "max    913387.000000      25.000000     791.140000        610.600000"
            ]
          },
          "metadata": {
            "tags": []
          },
          "execution_count": 14
        }
      ]
    },
    {
      "cell_type": "code",
      "metadata": {
        "id": "VoZRlp7q7rs1",
        "colab": {
          "base_uri": "https://localhost:8080/",
          "height": 303
        },
        "outputId": "765908d9-c8f9-444e-bb2a-36f2b95a3f4f"
      },
      "source": [
        "# C) check correlation between variables \n",
        "corr_matrix = costo_marginal_clean[['costo_real','costo_programado']].corr()\n",
        "sn.heatmap(corr_matrix, annot=True)"
      ],
      "execution_count": null,
      "outputs": [
        {
          "output_type": "execute_result",
          "data": {
            "text/plain": [
              "<matplotlib.axes._subplots.AxesSubplot at 0x7f5b1a72ee48>"
            ]
          },
          "metadata": {
            "tags": []
          },
          "execution_count": 15
        },
        {
          "output_type": "display_data",
          "data": {
            "image/png": "[encoded data removed]",
            "text/plain": [
              "<Figure size 432x288 with 2 Axes>"
            ]
          },
          "metadata": {
            "tags": [],
            "needs_background": "light"
          }
        }
      ]
    },
    {
      "cell_type": "markdown",
      "metadata": {
        "id": "3GjSZjGE787N"
      },
      "source": [
        "**Observations**: There is not a strong correlation between the actual cost and the forecasted cost. The cost that was forecasted does not follow the (linear) trend of the actual cost. This is for example, when the cost was scheduled to increase, the actual cost did not necessarily increase. "
      ]
    },
    {
      "cell_type": "code",
      "metadata": {
        "id": "7sq4OTKx8H-D",
        "colab": {
          "base_uri": "https://localhost:8080/",
          "height": 316
        },
        "outputId": "a69fdcdd-386a-4626-a948-d0113dc846b5"
      },
      "source": [
        "# D) Check the data distribution\n",
        "print(costo_marginal_clean[['costo_real','costo_programado']].hist(figsize=(16, 4)))"
      ],
      "execution_count": null,
      "outputs": [
        {
          "output_type": "stream",
          "text": [
            "[[<matplotlib.axes._subplots.AxesSubplot object at 0x7f5b16485e10>\n",
            "  <matplotlib.axes._subplots.AxesSubplot object at 0x7f5b164aa828>]]\n"
          ],
          "name": "stdout"
        },
        {
          "output_type": "display_data",
          "data": {
            "image/png": "[encoded data removed]",
            "text/plain": [
              "<Figure size 1152x288 with 2 Axes>"
            ]
          },
          "metadata": {
            "tags": [],
            "needs_background": "light"
          }
        }
      ]
    },
    {
      "cell_type": "markdown",
      "metadata": {
        "id": "VGXtbMEr8dcn"
      },
      "source": [
        "**Observation:** visually, the actual costs are mostly distributed between ~ 0 and ~ $ 80, while the costs that were forecasted are mostly distributed between ~ 50 and ~ 110 dollars "
      ]
    },
    {
      "cell_type": "code",
      "metadata": {
        "id": "wiu_FEZB8YLH",
        "colab": {
          "base_uri": "https://localhost:8080/",
          "height": 265
        },
        "outputId": "52cd2d58-fef9-487e-d040-7eb7cad5afbd"
      },
      "source": [
        "# E) Check outliers \n",
        "\n",
        "# outliers en la variable costo real --> hora vs costo real\n",
        "plt.scatter(costo_marginal_clean['hora'], costo_marginal_clean['costo_real'])\n",
        "plt.show()"
      ],
      "execution_count": null,
      "outputs": [
        {
          "output_type": "display_data",
          "data": {
            "image/png": "[encoded data removed]",
            "text/plain": [
              "<Figure size 432x288 with 1 Axes>"
            ]
          },
          "metadata": {
            "tags": [],
            "needs_background": "light"
          }
        }
      ]
    },
    {
      "cell_type": "markdown",
      "metadata": {
        "id": "jr6F1gmK9aaC"
      },
      "source": [
        "**Observation:**\n",
        "there are very few outliers, the interesting thing is that they follow a pattern: for example, the outliers at the top are between the hours of 15 to 20, with a cost of around 800 dollars."
      ]
    },
    {
      "cell_type": "code",
      "metadata": {
        "id": "z1jFk7NP95Nw",
        "colab": {
          "base_uri": "https://localhost:8080/",
          "height": 173
        },
        "outputId": "32b0ffc1-d22e-43e0-80d6-da01542aba75"
      },
      "source": [
        "# F) check missing values\n",
        "costo_marginal_clean.isnull().sum()"
      ],
      "execution_count": null,
      "outputs": [
        {
          "output_type": "execute_result",
          "data": {
            "text/plain": [
              "Unnamed: 0                       0\n",
              "barra_mnemotecnico               0\n",
              "barra_referencia_mnemotecnico    0\n",
              "fecha                            0\n",
              "hora                             0\n",
              "costo_real                       0\n",
              "nombre                           0\n",
              "costo_programado                 0\n",
              "dtype: int64"
            ]
          },
          "metadata": {
            "tags": []
          },
          "execution_count": 22
        }
      ]
    },
    {
      "cell_type": "markdown",
      "metadata": {
        "id": "IYwEf9eq9-2L"
      },
      "source": [
        "**Observations:** There are not missing values"
      ]
    },
    {
      "cell_type": "code",
      "metadata": {
        "id": "qEYRN9sp-GD_",
        "colab": {
          "base_uri": "https://localhost:8080/",
          "height": 243
        },
        "outputId": "c498a8f3-b7e0-408f-fd3f-464859673bff"
      },
      "source": [
        "# G) other\n",
        "\n",
        "# Costo real por barra\n",
        "costo_marginal_clean.groupby(costo_marginal_clean['barra_mnemotecnico'])['costo_real'].sum().sort_values() # group and sort"
      ],
      "execution_count": null,
      "outputs": [
        {
          "output_type": "execute_result",
          "data": {
            "text/plain": [
              "barra_mnemotecnico\n",
              "BA01G049SE001G049         0.00\n",
              "BA01T005SE284T005     87694.41\n",
              "BA36T027SE067G216    109536.66\n",
              "BA48T027SE123G216    112470.83\n",
              "BA69T005SE281T005    113723.98\n",
              "                       ...    \n",
              "BA01T002SE031T002    381423.65\n",
              "BA01T003SE001G041    383131.89\n",
              "BA01T003SE032T003    385685.04\n",
              "BA01T003SE005T003    398608.74\n",
              "BA01T003SE015T003    406604.96\n",
              "Name: costo_real, Length: 220, dtype: float64"
            ]
          },
          "metadata": {
            "tags": []
          },
          "execution_count": 23
        }
      ]
    },
    {
      "cell_type": "markdown",
      "metadata": {
        "id": "LQcdH3Uj-hUj"
      },
      "source": [
        "**Observations:** There is a total of 220 energy stations "
      ]
    },
    {
      "cell_type": "code",
      "metadata": {
        "id": "CTdEa7lLHvjJ",
        "colab": {
          "base_uri": "https://localhost:8080/",
          "height": 173
        },
        "outputId": "a08fa73e-c7b6-4415-cafe-9b6d9685cb1c"
      },
      "source": [
        "costo_marginal_clean.dtypes"
      ],
      "execution_count": null,
      "outputs": [
        {
          "output_type": "execute_result",
          "data": {
            "text/plain": [
              "Unnamed: 0                                int64\n",
              "barra_mnemotecnico                       object\n",
              "barra_referencia_mnemotecnico            object\n",
              "fecha                            datetime64[ns]\n",
              "hora                                      int64\n",
              "costo_real                              float64\n",
              "nombre                                   object\n",
              "costo_programado                        float64\n",
              "dtype: object"
            ]
          },
          "metadata": {
            "tags": []
          },
          "execution_count": 27
        }
      ]
    },
    {
      "cell_type": "code",
      "metadata": {
        "id": "Lh0ji-Rp9-h9",
        "colab": {
          "base_uri": "https://localhost:8080/",
          "height": 220
        },
        "outputId": "a06018ac-2ee5-4f3c-b209-de8526f10a23"
      },
      "source": [
        "# Costo real por mes\n",
        "costo_marginal_clean['fecha'] = pd.to_datetime(costo_marginal_clean['fecha']) # 'fecha' as datetime data type\n",
        "pd.DataFrame(costo_marginal_clean.groupby(costo_marginal_clean['fecha'].dt.strftime('%B'))['costo_real'].sum().sort_values()) # group and sort"
      ],
      "execution_count": null,
      "outputs": [
        {
          "output_type": "execute_result",
          "data": {
            "application/vnd.google.colaboratory.module+javascript": "\n      import \"https://ssl.gstatic.com/colaboratory/data_table/a6224c040fa35dcf/data_table.js\";\n\n      window.createDataTable({\n        data: [[\"June\",\n{\n            'v': 6105876.779999991,\n            'f': \"6105876.779999991\",\n        }],\n [\"February\",\n{\n            'v': 9044927.390000025,\n            'f': \"9044927.390000025\",\n        }],\n [\"April\",\n{\n            'v': 9269011.769999994,\n            'f': \"9269011.769999994\",\n        }],\n [\"January\",\n{\n            'v': 9363374.029999644,\n            'f': \"9363374.029999644\",\n        }],\n [\"May\",\n{\n            'v': 9403583.030000182,\n            'f': \"9403583.030000182\",\n        }],\n [\"March\",\n{\n            'v': 9573598.42000003,\n            'f': \"9573598.42000003\",\n        }]],\n        columns: [[\"string\", \"fecha\"], [\"number\", \"costo_real\"]],\n        columnOptions: [{\"width\": \"1px\", \"className\": \"index_column\"}],\n        rowsPerPage: 25,\n        helpUrl: \"https://colab.research.google.com/notebooks/data_table.ipynb\",\n        suppressOutputScrolling: true,\n        minimumWidth: undefined,\n      });\n    ",
            "text/html": [
              "<div>\n",
              "<style scoped>\n",
              "    .dataframe tbody tr th:only-of-type {\n",
              "        vertical-align: middle;\n",
              "    }\n",
              "\n",
              "    .dataframe tbody tr th {\n",
              "        vertical-align: top;\n",
              "    }\n",
              "\n",
              "    .dataframe thead th {\n",
              "        text-align: right;\n",
              "    }\n",
              "</style>\n",
              "<table border=\"1\" class=\"dataframe\">\n",
              "  <thead>\n",
              "    <tr style=\"text-align: right;\">\n",
              "      <th></th>\n",
              "      <th>costo_real</th>\n",
              "    </tr>\n",
              "    <tr>\n",
              "      <th>fecha</th>\n",
              "      <th></th>\n",
              "    </tr>\n",
              "  </thead>\n",
              "  <tbody>\n",
              "    <tr>\n",
              "      <th>June</th>\n",
              "      <td>6105876.78</td>\n",
              "    </tr>\n",
              "    <tr>\n",
              "      <th>February</th>\n",
              "      <td>9044927.39</td>\n",
              "    </tr>\n",
              "    <tr>\n",
              "      <th>April</th>\n",
              "      <td>9269011.77</td>\n",
              "    </tr>\n",
              "    <tr>\n",
              "      <th>January</th>\n",
              "      <td>9363374.03</td>\n",
              "    </tr>\n",
              "    <tr>\n",
              "      <th>May</th>\n",
              "      <td>9403583.03</td>\n",
              "    </tr>\n",
              "    <tr>\n",
              "      <th>March</th>\n",
              "      <td>9573598.42</td>\n",
              "    </tr>\n",
              "  </tbody>\n",
              "</table>\n",
              "</div>"
            ],
            "text/plain": [
              "          costo_real\n",
              "fecha               \n",
              "June      6105876.78\n",
              "February  9044927.39\n",
              "April     9269011.77\n",
              "January   9363374.03\n",
              "May       9403583.03\n",
              "March     9573598.42"
            ]
          },
          "metadata": {
            "tags": []
          },
          "execution_count": 29
        }
      ]
    },
    {
      "cell_type": "markdown",
      "metadata": {
        "id": "9gu3sT9LGol5"
      },
      "source": [
        "**Observations:** \n",
        "- The data is from January to June 2019 \n",
        "- The actual cost seems to have a stable pattern in the first 5 months of the year but in June the cost is reduced drastically. "
      ]
    },
    {
      "cell_type": "markdown",
      "metadata": {
        "id": "aLBtLaCB_QA5"
      },
      "source": [
        "<a name=\"cell-2.\"></a>\n",
        "# **2. Feature engineering**"
      ]
    },
    {
      "cell_type": "markdown",
      "metadata": {
        "id": "-tgHoAo9vvVc"
      },
      "source": [
        "**2.1. Feature engineering**"
      ]
    },
    {
      "cell_type": "code",
      "metadata": {
        "id": "ZwTjXF1g-oHR",
        "colab": {
          "base_uri": "https://localhost:8080/",
          "height": 470
        },
        "outputId": "dd73bcc8-fd9d-4218-f30b-6cc8bcefb459"
      },
      "source": [
        "# create variable 'desviación'\n",
        "costo_marginal_clean['desviacion'] = np.sqrt((costo_marginal_clean['costo_real'] - costo_marginal_clean['costo_programado'])**2)\n",
        "\n",
        "# create variable 'desviacion_pct'\n",
        "costo_marginal_clean['desviacion_pct'] = (costo_marginal_clean['desviacion'] / costo_marginal_clean['costo_programado'])*100\n",
        "\n",
        "# create variable 'desviacion_cat'\n",
        "costo_marginal_clean['desviacion_cat'] = 0\n",
        "costo_marginal_clean.desviacion_cat[costo_marginal_clean.desviacion_pct > 15] = 1\n",
        "\n",
        "costo_marginal_clean.head()"
      ],
      "execution_count": null,
      "outputs": [
        {
          "output_type": "stream",
          "text": [
            "/usr/local/lib/python3.6/dist-packages/ipykernel_launcher.py:12: SettingWithCopyWarning: \n",
            "A value is trying to be set on a copy of a slice from a DataFrame\n",
            "\n",
            "See the caveats in the documentation: https://pandas.pydata.org/pandas-docs/stable/user_guide/indexing.html#returning-a-view-versus-a-copy\n",
            "  if sys.path[0] == '':\n"
          ],
          "name": "stderr"
        },
        {
          "output_type": "execute_result",
          "data": {
            "application/vnd.google.colaboratory.module+javascript": "\n      import \"https://ssl.gstatic.com/colaboratory/data_table/a6224c040fa35dcf/data_table.js\";\n\n      window.createDataTable({\n        data: [[{\n            'v': 527903,\n            'f': \"527903\",\n        },\n\"BA66T005SE285T005\",\n\"BA02T002SE032T002\",\n\"2019-01-01 00:00:00\",\n{\n            'v': 14,\n            'f': \"14\",\n        },\n{\n            'v': 46.47,\n            'f': \"46.47\",\n        },\n\"BA S/E CALAMA 110KV - BP1\",\n{\n            'v': 47.99688697,\n            'f': \"47.99688697\",\n        },\n{\n            'v': 1.5268869699999996,\n            'f': \"1.5268869699999996\",\n        },\n{\n            'v': 3.181220838248043,\n            'f': \"3.181220838248043\",\n        },\n{\n            'v': 0,\n            'f': \"0\",\n        }],\n [{\n            'v': 261503,\n            'f': \"261503\",\n        },\n\"BA02T002SE037T002\",\n\"BA02T002SE032T002\",\n\"2019-01-01 00:00:00\",\n{\n            'v': 7,\n            'f': \"7\",\n        },\n{\n            'v': 42.3,\n            'f': \"42.3\",\n        },\n\"BA S/E TEMUCO 220KV SECCI\\u00d3N 1\",\n{\n            'v': 42.3379719,\n            'f': \"42.3379719\",\n        },\n{\n            'v': 0.03797190000000228,\n            'f': \"0.03797190000000228\",\n        },\n{\n            'v': 0.08968757428837133,\n            'f': \"0.08968757428837133\",\n        },\n{\n            'v': 0,\n            'f': \"0\",\n        }],\n [{\n            'v': 642018,\n            'f': \"642018\",\n        },\n\"BA69T005SE281T005\",\n\"BA02T002SE032T002\",\n\"2019-01-01 00:00:00\",\n{\n            'v': 17,\n            'f': \"17\",\n        },\n{\n            'v': 0.0,\n            'f': \"0.0\",\n        },\n\"BA S/E CERRO DRAG\\u00d3N 110KV\",\n{\n            'v': 50.3760582,\n            'f': \"50.3760582\",\n        },\n{\n            'v': 50.3760582,\n            'f': \"50.3760582\",\n        },\n{\n            'v': 100.0,\n            'f': \"100.0\",\n        },\n{\n            'v': 1,\n            'f': \"1\",\n        }],\n [{\n            'v': 642017,\n            'f': \"642017\",\n        },\n\"BA46G216SE021G216\",\n\"BA02T002SE032T002\",\n\"2019-01-01 00:00:00\",\n{\n            'v': 17,\n            'f': \"17\",\n        },\n{\n            'v': 0.0,\n            'f': \"0.0\",\n        },\n\"BA S/E ANTOFAGASTA 110KV BP1\",\n{\n            'v': 46.45148778,\n            'f': \"46.45148778\",\n        },\n{\n            'v': 46.45148778,\n            'f': \"46.45148778\",\n        },\n{\n            'v': 100.0,\n            'f': \"100.0\",\n        },\n{\n            'v': 1,\n            'f': \"1\",\n        }],\n [{\n            'v': 642016,\n            'f': \"642016\",\n        },\n\"BA21L108SE013L135\",\n\"BA02T002SE032T002\",\n\"2019-01-01 00:00:00\",\n{\n            'v': 17,\n            'f': \"17\",\n        },\n{\n            'v': 0.0,\n            'f': \"0.0\",\n        },\n\"BA S/E A 100KV-BP1\",\n{\n            'v': 48.65911216,\n            'f': \"48.65911216\",\n        },\n{\n            'v': 48.65911216,\n            'f': \"48.65911216\",\n        },\n{\n            'v': 100.0,\n            'f': \"100.0\",\n        },\n{\n            'v': 1,\n            'f': \"1\",\n        }]],\n        columns: [[\"number\", \"index\"], [\"string\", \"barra_mnemotecnico\"], [\"string\", \"barra_referencia_mnemotecnico\"], [\"string\", \"fecha\"], [\"number\", \"hora\"], [\"number\", \"costo_real\"], [\"string\", \"nombre\"], [\"number\", \"costo_programado\"], [\"number\", \"desviacion\"], [\"number\", \"desviacion_pct\"], [\"number\", \"desviacion_cat\"]],\n        columnOptions: [{\"width\": \"1px\", \"className\": \"index_column\"}],\n        rowsPerPage: 25,\n        helpUrl: \"https://colab.research.google.com/notebooks/data_table.ipynb\",\n        suppressOutputScrolling: true,\n        minimumWidth: undefined,\n      });\n    ",
            "text/html": [
              "<div>\n",
              "<style scoped>\n",
              "    .dataframe tbody tr th:only-of-type {\n",
              "        vertical-align: middle;\n",
              "    }\n",
              "\n",
              "    .dataframe tbody tr th {\n",
              "        vertical-align: top;\n",
              "    }\n",
              "\n",
              "    .dataframe thead th {\n",
              "        text-align: right;\n",
              "    }\n",
              "</style>\n",
              "<table border=\"1\" class=\"dataframe\">\n",
              "  <thead>\n",
              "    <tr style=\"text-align: right;\">\n",
              "      <th></th>\n",
              "      <th>barra_mnemotecnico</th>\n",
              "      <th>barra_referencia_mnemotecnico</th>\n",
              "      <th>fecha</th>\n",
              "      <th>hora</th>\n",
              "      <th>costo_real</th>\n",
              "      <th>nombre</th>\n",
              "      <th>costo_programado</th>\n",
              "      <th>desviacion</th>\n",
              "      <th>desviacion_pct</th>\n",
              "      <th>desviacion_cat</th>\n",
              "    </tr>\n",
              "  </thead>\n",
              "  <tbody>\n",
              "    <tr>\n",
              "      <th>527903</th>\n",
              "      <td>BA66T005SE285T005</td>\n",
              "      <td>BA02T002SE032T002</td>\n",
              "      <td>2019-01-01</td>\n",
              "      <td>14</td>\n",
              "      <td>46.47</td>\n",
              "      <td>BA S/E CALAMA 110KV - BP1</td>\n",
              "      <td>47.996887</td>\n",
              "      <td>1.526887</td>\n",
              "      <td>3.181221</td>\n",
              "      <td>0</td>\n",
              "    </tr>\n",
              "    <tr>\n",
              "      <th>261503</th>\n",
              "      <td>BA02T002SE037T002</td>\n",
              "      <td>BA02T002SE032T002</td>\n",
              "      <td>2019-01-01</td>\n",
              "      <td>7</td>\n",
              "      <td>42.30</td>\n",
              "      <td>BA S/E TEMUCO 220KV SECCIÓN 1</td>\n",
              "      <td>42.337972</td>\n",
              "      <td>0.037972</td>\n",
              "      <td>0.089688</td>\n",
              "      <td>0</td>\n",
              "    </tr>\n",
              "    <tr>\n",
              "      <th>642018</th>\n",
              "      <td>BA69T005SE281T005</td>\n",
              "      <td>BA02T002SE032T002</td>\n",
              "      <td>2019-01-01</td>\n",
              "      <td>17</td>\n",
              "      <td>0.00</td>\n",
              "      <td>BA S/E CERRO DRAGÓN 110KV</td>\n",
              "      <td>50.376058</td>\n",
              "      <td>50.376058</td>\n",
              "      <td>100.000000</td>\n",
              "      <td>1</td>\n",
              "    </tr>\n",
              "    <tr>\n",
              "      <th>642017</th>\n",
              "      <td>BA46G216SE021G216</td>\n",
              "      <td>BA02T002SE032T002</td>\n",
              "      <td>2019-01-01</td>\n",
              "      <td>17</td>\n",
              "      <td>0.00</td>\n",
              "      <td>BA S/E ANTOFAGASTA 110KV BP1</td>\n",
              "      <td>46.451488</td>\n",
              "      <td>46.451488</td>\n",
              "      <td>100.000000</td>\n",
              "      <td>1</td>\n",
              "    </tr>\n",
              "    <tr>\n",
              "      <th>642016</th>\n",
              "      <td>BA21L108SE013L135</td>\n",
              "      <td>BA02T002SE032T002</td>\n",
              "      <td>2019-01-01</td>\n",
              "      <td>17</td>\n",
              "      <td>0.00</td>\n",
              "      <td>BA S/E A 100KV-BP1</td>\n",
              "      <td>48.659112</td>\n",
              "      <td>48.659112</td>\n",
              "      <td>100.000000</td>\n",
              "      <td>1</td>\n",
              "    </tr>\n",
              "  </tbody>\n",
              "</table>\n",
              "</div>"
            ],
            "text/plain": [
              "       barra_mnemotecnico  ... desviacion_cat\n",
              "527903  BA66T005SE285T005  ...              0\n",
              "261503  BA02T002SE037T002  ...              0\n",
              "642018  BA69T005SE281T005  ...              1\n",
              "642017  BA46G216SE021G216  ...              1\n",
              "642016  BA21L108SE013L135  ...              1\n",
              "\n",
              "[5 rows x 10 columns]"
            ]
          },
          "metadata": {
            "tags": []
          },
          "execution_count": 42
        }
      ]
    },
    {
      "cell_type": "markdown",
      "metadata": {
        "id": "eUHGm40Iv3YJ"
      },
      "source": [
        "**2.2. Exploration of the variable that has the percentage of the cost deviation: 'desviacion_cat'**"
      ]
    },
    {
      "cell_type": "code",
      "metadata": {
        "id": "GnKDRn-ELzhD",
        "colab": {
          "base_uri": "https://localhost:8080/",
          "height": 69
        },
        "outputId": "eb02ddf4-efef-4d6b-b6ac-18340be9e1f9"
      },
      "source": [
        "# percentage of the forecasted observations that has a cost deviation greater than 15% \n",
        "costo_marginal_clean['desviacion_cat'].value_counts()"
      ],
      "execution_count": null,
      "outputs": [
        {
          "output_type": "execute_result",
          "data": {
            "text/plain": [
              "0    666527\n",
              "1    234402\n",
              "Name: desviacion_cat, dtype: int64"
            ]
          },
          "metadata": {
            "tags": []
          },
          "execution_count": 45
        }
      ]
    },
    {
      "cell_type": "code",
      "metadata": {
        "id": "59MwvjkmMmtr",
        "colab": {
          "base_uri": "https://localhost:8080/",
          "height": 34
        },
        "outputId": "4b3be72a-e4c5-480b-9f16-73b9f17c4273"
      },
      "source": [
        "print('Percentage of the data that has a deviation greater than 15% :', round((234402/(666527+234402))*100,2),'% of the data')"
      ],
      "execution_count": null,
      "outputs": [
        {
          "output_type": "stream",
          "text": [
            "Porcentaje de los datos que tienen una desviación mayor al 15% : 26.02 % de los datos\n"
          ],
          "name": "stdout"
        }
      ]
    },
    {
      "cell_type": "markdown",
      "metadata": {
        "id": "eLALMkvTM17v"
      },
      "source": [
        "**Observations:** About a quarter of the observations have a deviation greater than 15% "
      ]
    },
    {
      "cell_type": "code",
      "metadata": {
        "id": "EcctZ_x0NifC",
        "colab": {
          "base_uri": "https://localhost:8080/",
          "height": 220
        },
        "outputId": "a22e1a1d-fa85-47f0-ff86-c3768f8b59e8"
      },
      "source": [
        "# Behavior over the time of variable 'desviacion_cat'\n",
        "pd.DataFrame(costo_marginal_clean.groupby(costo_marginal_clean['fecha'].dt.strftime('%B'))['desviacion_cat'].sum().sort_values(ascending=False))"
      ],
      "execution_count": null,
      "outputs": [
        {
          "output_type": "execute_result",
          "data": {
            "application/vnd.google.colaboratory.module+javascript": "\n      import \"https://ssl.gstatic.com/colaboratory/data_table/a6224c040fa35dcf/data_table.js\";\n\n      window.createDataTable({\n        data: [[\"February\",\n{\n            'v': 49374,\n            'f': \"49374\",\n        }],\n [\"April\",\n{\n            'v': 47758,\n            'f': \"47758\",\n        }],\n [\"January\",\n{\n            'v': 46894,\n            'f': \"46894\",\n        }],\n [\"March\",\n{\n            'v': 42417,\n            'f': \"42417\",\n        }],\n [\"May\",\n{\n            'v': 36596,\n            'f': \"36596\",\n        }],\n [\"June\",\n{\n            'v': 11363,\n            'f': \"11363\",\n        }]],\n        columns: [[\"string\", \"fecha\"], [\"number\", \"desviacion_cat\"]],\n        columnOptions: [{\"width\": \"1px\", \"className\": \"index_column\"}],\n        rowsPerPage: 25,\n        helpUrl: \"https://colab.research.google.com/notebooks/data_table.ipynb\",\n        suppressOutputScrolling: true,\n        minimumWidth: undefined,\n      });\n    ",
            "text/html": [
              "<div>\n",
              "<style scoped>\n",
              "    .dataframe tbody tr th:only-of-type {\n",
              "        vertical-align: middle;\n",
              "    }\n",
              "\n",
              "    .dataframe tbody tr th {\n",
              "        vertical-align: top;\n",
              "    }\n",
              "\n",
              "    .dataframe thead th {\n",
              "        text-align: right;\n",
              "    }\n",
              "</style>\n",
              "<table border=\"1\" class=\"dataframe\">\n",
              "  <thead>\n",
              "    <tr style=\"text-align: right;\">\n",
              "      <th></th>\n",
              "      <th>desviacion_cat</th>\n",
              "    </tr>\n",
              "    <tr>\n",
              "      <th>fecha</th>\n",
              "      <th></th>\n",
              "    </tr>\n",
              "  </thead>\n",
              "  <tbody>\n",
              "    <tr>\n",
              "      <th>February</th>\n",
              "      <td>49374</td>\n",
              "    </tr>\n",
              "    <tr>\n",
              "      <th>April</th>\n",
              "      <td>47758</td>\n",
              "    </tr>\n",
              "    <tr>\n",
              "      <th>January</th>\n",
              "      <td>46894</td>\n",
              "    </tr>\n",
              "    <tr>\n",
              "      <th>March</th>\n",
              "      <td>42417</td>\n",
              "    </tr>\n",
              "    <tr>\n",
              "      <th>May</th>\n",
              "      <td>36596</td>\n",
              "    </tr>\n",
              "    <tr>\n",
              "      <th>June</th>\n",
              "      <td>11363</td>\n",
              "    </tr>\n",
              "  </tbody>\n",
              "</table>\n",
              "</div>"
            ],
            "text/plain": [
              "          desviacion_cat\n",
              "fecha                   \n",
              "February           49374\n",
              "April              47758\n",
              "January            46894\n",
              "March              42417\n",
              "May                36596\n",
              "June               11363"
            ]
          },
          "metadata": {
            "tags": []
          },
          "execution_count": 48
        }
      ]
    },
    {
      "cell_type": "markdown",
      "metadata": {
        "id": "uFkDepnWNxFj"
      },
      "source": [
        "**Observations:** In the first months of the semester, the number of cases that deviate more than 15% is stable, however, June shows a strong downward trend. Which means that the deviation is smaller, and therefore the forecasted costs begin to get closer to the actual ones. "
      ]
    },
    {
      "cell_type": "code",
      "metadata": {
        "id": "Rn6mK0E_PkFY",
        "colab": {
          "base_uri": "https://localhost:8080/",
          "height": 638
        },
        "outputId": "a33cc910-ee74-4f4e-9dd6-23f9d05aee04"
      },
      "source": [
        "# Energy stations that have most of the cases with higher deviation\n",
        "pd.DataFrame(costo_marginal_clean.groupby(costo_marginal_clean['nombre'])['desviacion_cat'].sum().sort_values(ascending=False))"
      ],
      "execution_count": null,
      "outputs": [
        {
          "output_type": "execute_result",
          "data": {
            "application/vnd.google.colaboratory.module+javascript": "\n      import \"https://ssl.gstatic.com/colaboratory/data_table/a6224c040fa35dcf/data_table.js\";\n\n      window.createDataTable({\n        data: [[\"BA S/E NUEVA VENTANAS JB1\",\n{\n            'v': 4345,\n            'f': \"4345\",\n        }],\n [\"BA S/E CHOLGUAN 220KV\",\n{\n            'v': 2810,\n            'f': \"2810\",\n        }],\n [\"BA S/E DIEGO DE ALMAGRO 110KV B1\",\n{\n            'v': 1957,\n            'f': \"1957\",\n        }],\n [\"BA S/E MAITENCILLO 110KV SECCI\\u00d3N1\",\n{\n            'v': 1821,\n            'f': \"1821\",\n        }],\n [\"BA S/E PUNITAQUI 66KV\",\n{\n            'v': 1558,\n            'f': \"1558\",\n        }],\n [\"BA S/E PAN DE AZUCAR 110KV SECCI\\u00d3N 1\",\n{\n            'v': 1544,\n            'f': \"1544\",\n        }],\n [\"BA S/E PAN DE AZUCAR 220KV SECCI\\u00d3N 1\",\n{\n            'v': 1535,\n            'f': \"1535\",\n        }],\n [\"BA S/E CACHIYUYAL 220KV\",\n{\n            'v': 1533,\n            'f': \"1533\",\n        }],\n [\"BA S/E FRANCISCO 220KV 1\",\n{\n            'v': 1532,\n            'f': \"1532\",\n        }],\n [\"BA S/E PAPOSO 220KV SECCI\\u00d3N 1\",\n{\n            'v': 1530,\n            'f': \"1530\",\n        }],\n [\"BA S/E DIEGO DE ALMAGRO 220KV SECCI\\u00d3N 1\",\n{\n            'v': 1459,\n            'f': \"1459\",\n        }],\n [\"BA S/E HUASCO 110KV SECCI\\u00d3N1\",\n{\n            'v': 1439,\n            'f': \"1439\",\n        }],\n [\"BA S/E OVALLE 66KV\",\n{\n            'v': 1438,\n            'f': \"1438\",\n        }],\n [\"BA S/E MONTE PATRIA 66KV\",\n{\n            'v': 1432,\n            'f': \"1432\",\n        }],\n [\"BA S/E NORGENER 220KV-BP1\",\n{\n            'v': 1409,\n            'f': \"1409\",\n        }],\n [\"BA S/E DON HECTOR 220KV-1\",\n{\n            'v': 1397,\n            'f': \"1397\",\n        }],\n [\"BA S/E CARRERA PINTO 220KV SECCI\\u00d3N 1\",\n{\n            'v': 1393,\n            'f': \"1393\",\n        }],\n [\"BA S/E PUNTA COLORADA 220KV SECCI\\u00d3N 1 B1\",\n{\n            'v': 1392,\n            'f': \"1392\",\n        }],\n [\"BA S/E MAITENCILLO 220KV SECCI\\u00d3N 1 EN AIRE\",\n{\n            'v': 1370,\n            'f': \"1370\",\n        }],\n [\"BA S/E GUACOLDA 220KV\",\n{\n            'v': 1367,\n            'f': \"1367\",\n        }],\n [\"BA S/E ESMERALDA 220KV\",\n{\n            'v': 1356,\n            'f': \"1356\",\n        }],\n [\"BA S/E ESMERALDA 110KV\",\n{\n            'v': 1355,\n            'f': \"1355\",\n        }],\n [\"BA S/E CARDONES 220KV SECCI\\u00d3N 1\",\n{\n            'v': 1354,\n            'f': \"1354\",\n        }],\n [\"BA S/E LOS CHANGOS 500KV BA1\",\n{\n            'v': 1352,\n            'f': \"1352\",\n        }],\n [\"BA S/E LOS CHANGOS 220KV BA1\",\n{\n            'v': 1352,\n            'f': \"1352\",\n        }],\n [\"BA S/E CUMBRE 500KV BA1\",\n{\n            'v': 1350,\n            'f': \"1350\",\n        }],\n [\"BA S/E LA PORTADA 110KV - BP\",\n{\n            'v': 1349,\n            'f': \"1349\",\n        }],\n [\"BA S/E NUEVA ZALD\\u00cdVAR 220KV - BP1\",\n{\n            'v': 1343,\n            'f': \"1343\",\n        }],\n [\"BA S/E ANGAMOS 220KV BP1\",\n{\n            'v': 1339,\n            'f': \"1339\",\n        }],\n [\"BA S/E DOMEYKO 220KV - BP1\",\n{\n            'v': 1339,\n            'f': \"1339\",\n        }],\n [\"BA S/E ARICA 110KV\",\n{\n            'v': 1330,\n            'f': \"1330\",\n        }],\n [\"Nodo Tap Off Enlace 220kv Lado L\\u00cdnea\",\n{\n            'v': 1330,\n            'f': \"1330\",\n        }],\n [\"BA S/E TAP OFF PALESTINA 220KV\",\n{\n            'v': 1330,\n            'f': \"1330\",\n        }],\n [\"BA S/E TAMARUGAL 66KV BP1\",\n{\n            'v': 1325,\n            'f': \"1325\",\n        }],\n [\"BA S/E POZO ALMONTE 220KV BS1\",\n{\n            'v': 1324,\n            'f': \"1324\",\n        }],\n [\"BA S/E O'HIGGINS 220KV - BP1\",\n{\n            'v': 1324,\n            'f': \"1324\",\n        }],\n [\"BA S/E ANDES 345KV-BP1\",\n{\n            'v': 1320,\n            'f': \"1320\",\n        }],\n [\"BA S/E ANDES 220KV-BP1\",\n{\n            'v': 1320,\n            'f': \"1320\",\n        }],\n [\"BA S/E LABERINTO 220KV-BARRA A\",\n{\n            'v': 1318,\n            'f': \"1318\",\n        }],\n [\"BA S/E ARICA 66KV-BP\",\n{\n            'v': 1316,\n            'f': \"1316\",\n        }],\n [\"BA S/E TAP OFF DOLORES 110KV\",\n{\n            'v': 1315,\n            'f': \"1315\",\n        }],\n [\"BA S/E TAP OFF BARRILES 220KV\",\n{\n            'v': 1315,\n            'f': \"1315\",\n        }],\n [\"BA S/E ANTOFAGASTA 110KV BP1\",\n{\n            'v': 1314,\n            'f': \"1314\",\n        }],\n [\"BA S/E CONDORES 220KV BP1\",\n{\n            'v': 1314,\n            'f': \"1314\",\n        }],\n [\"BA S/E CONCHI 220KV - BP\",\n{\n            'v': 1313,\n            'f': \"1313\",\n        }],\n [\"BA S/E PARINACOTA 220KV BP1\",\n{\n            'v': 1313,\n            'f': \"1313\",\n        }],\n [\"BA S/E PARINACOTA 66KV BP1\",\n{\n            'v': 1312,\n            'f': \"1312\",\n        }],\n [\"BA S/E CAPRICORNIO 110KV BP\",\n{\n            'v': 1311,\n            'f': \"1311\",\n        }],\n [\"BA S/E MANTOS BLANCOS 220KV\",\n{\n            'v': 1305,\n            'f': \"1305\",\n        }],\n [\"BA S/E TAP OFF LA CRUZ 220KV\",\n{\n            'v': 1304,\n            'f': \"1304\",\n        }],\n [\"BA S/E MEJILLONES 220KV\",\n{\n            'v': 1303,\n            'f': \"1303\",\n        }],\n [\"BA S/E MEJILLONES 110KV\",\n{\n            'v': 1303,\n            'f': \"1303\",\n        }],\n [\"BA S/E EL LOA 220KV\",\n{\n            'v': 1302,\n            'f': \"1302\",\n        }],\n [\"BA S/E CAPRICORNIO 220KV BP1\",\n{\n            'v': 1302,\n            'f': \"1302\",\n        }],\n [\"BA S/E KM6 100KV-BP1\",\n{\n            'v': 1300,\n            'f': \"1300\",\n        }],\n [\"BA S/E CRUCERO 220KV-BP1\",\n{\n            'v': 1300,\n            'f': \"1300\",\n        }],\n [\"BA S/E CENTRAL DIESEL TAMAYA 110KV - BP\",\n{\n            'v': 1299,\n            'f': \"1299\",\n        }],\n [\"BA S/E SALAR 100KV - BP1\",\n{\n            'v': 1299,\n            'f': \"1299\",\n        }],\n [\"BA S/E SALAR 220KV - BP1\",\n{\n            'v': 1298,\n            'f': \"1298\",\n        }],\n [\"BA S/E CENTRAL DIESEL ARICA 66KV\",\n{\n            'v': 1298,\n            'f': \"1298\",\n        }],\n [\"BA S/E A 100KV-BP1\",\n{\n            'v': 1297,\n            'f': \"1297\",\n        }],\n [\"BA S/E CHUQUICAMATA 100KV BP1\",\n{\n            'v': 1297,\n            'f': \"1297\",\n        }],\n [\"BA S/E TAP OFF EL NEGRO 110KV\",\n{\n            'v': 1296,\n            'f': \"1296\",\n        }],\n [\"BA S/E COLLAHUASI 220KV-BP1\",\n{\n            'v': 1296,\n            'f': \"1296\",\n        }],\n [\"BA S/E POZO ALMONTE 66KV\",\n{\n            'v': 1296,\n            'f': \"1296\",\n        }],\n [\"BA S/E SECCIONADORA SAN ANDRES 220KV BP1\",\n{\n            'v': 1295,\n            'f': \"1295\",\n        }],\n [\"BA S/E CHUQUICAMATA 220KV-BP1\",\n{\n            'v': 1294,\n            'f': \"1294\",\n        }],\n [\"BA S/E ALTO NORTE 110KV\",\n{\n            'v': 1294,\n            'f': \"1294\",\n        }],\n [\"BA S/E TAP OFF LA NEGRA 110KV - BP1\",\n{\n            'v': 1293,\n            'f': \"1293\",\n        }],\n [\"BA S/E LA CEBADA 220KV BP1\",\n{\n            'v': 1293,\n            'f': \"1293\",\n        }],\n [\"BA S/E CENTRAL DIESEL IQUIQUE 66KV [No_Mostrar]\",\n{\n            'v': 1288,\n            'f': \"1288\",\n        }],\n [\"BA S/E IQUIQUE 66KV-BP\",\n{\n            'v': 1285,\n            'f': \"1285\",\n        }],\n [\"BA S/E TALTAL (ELECDA) 13.2KV\",\n{\n            'v': 1285,\n            'f': \"1285\",\n        }],\n [\"BA S/E CERRO COLORADO 110KV\",\n{\n            'v': 1271,\n            'f': \"1271\",\n        }],\n [\"BA S/E TALINAY 220KV\",\n{\n            'v': 1269,\n            'f': \"1269\",\n        }],\n [\"BA S/E COCHRANE 220KV - BP1\",\n{\n            'v': 1268,\n            'f': \"1268\",\n        }],\n [\"BA S/E URIBE 110KV\",\n{\n            'v': 1267,\n            'f': \"1267\",\n        }],\n [\"BA S/E SECCIONADORA LLANO DE LLAMPOS 220kV B1\",\n{\n            'v': 1265,\n            'f': \"1265\",\n        }],\n [\"BA S/E LAS PALMAS JBP1\",\n{\n            'v': 1264,\n            'f': \"1264\",\n        }],\n [\"BA S/E SUR 110KV\",\n{\n            'v': 1260,\n            'f': \"1260\",\n        }],\n [\"BA S/E CIRUELOS 220KV BARRA 1\",\n{\n            'v': 1252,\n            'f': \"1252\",\n        }],\n [\"BA S/E ZALD\\u00cdVAR BP1 - 220KV\",\n{\n            'v': 1251,\n            'f': \"1251\",\n        }],\n [\"BA S/E NUEVA PICHIRROPULLI 220KV B1\",\n{\n            'v': 1250,\n            'f': \"1250\",\n        }],\n [\"BA S/E CHIMBORAZO 220KV BP\",\n{\n            'v': 1250,\n            'f': \"1250\",\n        }],\n [\"BA S/E KELAR 220KV - BP1\",\n{\n            'v': 1248,\n            'f': \"1248\",\n        }],\n [\"BA S/E VALDIVIA 220KV SECCION 1\",\n{\n            'v': 1248,\n            'f': \"1248\",\n        }],\n [\"BA S/E ESCONDIDA 220KV-BP1\",\n{\n            'v': 1243,\n            'f': \"1243\",\n        }],\n [\"BA S/E SIERRA GORDA 220KV - BP1\",\n{\n            'v': 1242,\n            'f': \"1242\",\n        }],\n [\"BA S/E SULFUROS 220KV\",\n{\n            'v': 1239,\n            'f': \"1239\",\n        }],\n [\"BA S/E OGP1 220KV - BP1\",\n{\n            'v': 1237,\n            'f': \"1237\",\n        }],\n [\"BA S/E PLANTA \\u00d3XIDOS 220KV\",\n{\n            'v': 1236,\n            'f': \"1236\",\n        }],\n [\"BA S/E COLOSO 220KV - BP1\",\n{\n            'v': 1234,\n            'f': \"1234\",\n        }],\n [\"BA S/E PURI 220KV - BP1\",\n{\n            'v': 1233,\n            'f': \"1233\",\n        }],\n [\"BA S/E FARELL\\u00d3N 220KV - BP\",\n{\n            'v': 1229,\n            'f': \"1229\",\n        }],\n [\"BA S/E MINSAL 110KV\",\n{\n            'v': 1228,\n            'f': \"1228\",\n        }],\n [\"BA S/E TUNICHE 15KV\",\n{\n            'v': 1223,\n            'f': \"1223\",\n        }],\n [\"BA S/E ANTOFAGASTA 13.8KV BP1\",\n{\n            'v': 1222,\n            'f': \"1222\",\n        }],\n [\"BA S/E CALAMA NUEVA 220KV\",\n{\n            'v': 1218,\n            'f': \"1218\",\n        }],\n [\"BA S/E CALAMA 110KV - BP1\",\n{\n            'v': 1218,\n            'f': \"1218\",\n        }],\n [\"BA S/E CENTRAL CHAPIQUI\\u00d1A 66KV-BP\",\n{\n            'v': 1216,\n            'f': \"1216\",\n        }],\n [\"BA S/E PALAFITOS 110KV\",\n{\n            'v': 1216,\n            'f': \"1216\",\n        }],\n [\"BA S/E CERRO DOMINADOR 220KV BP\",\n{\n            'v': 1214,\n            'f': \"1214\",\n        }],\n [\"BA S/E CONDORES 110KV BP1\",\n{\n            'v': 1213,\n            'f': \"1213\",\n        }],\n [\"BA S/E CENTRAL DIESEL ENAEX 110KV\",\n{\n            'v': 1211,\n            'f': \"1211\",\n        }],\n [\"BA S/E EL ABRA 220KV\",\n{\n            'v': 1210,\n            'f': \"1210\",\n        }],\n [\"BA S/E ALTO HOSPICIO 110KV\",\n{\n            'v': 1210,\n            'f': \"1210\",\n        }],\n [\"BA S/E PEQ 220KV\",\n{\n            'v': 1203,\n            'f': \"1203\",\n        }],\n [\"BA S/E CHILOE PR 110KV\",\n{\n            'v': 1203,\n            'f': \"1203\",\n        }],\n [\"BA S/E MOLINOS 110KV\",\n{\n            'v': 1199,\n            'f': \"1199\",\n        }],\n [\"BA S/E PUERTO MONTT 220KV BP2\",\n{\n            'v': 1198,\n            'f': \"1198\",\n        }],\n [\"BA S/E CERRO PABELL\\u00d3N 220KV - BP\",\n{\n            'v': 1197,\n            'f': \"1197\",\n        }],\n [\"BA S/E RADOMIRO TOMIC 220KV-BP1\",\n{\n            'v': 1189,\n            'f': \"1189\",\n        }],\n [\"BA S/E CHONCHI 110KV\",\n{\n            'v': 1188,\n            'f': \"1188\",\n        }],\n [\"BA S/E PID PID 110KV\",\n{\n            'v': 1184,\n            'f': \"1184\",\n        }],\n [\"BA S/E RAHUE 220KV SECCI\\u00d3N 1\",\n{\n            'v': 1167,\n            'f': \"1167\",\n        }],\n [\"BA S/E EL LINCE 110KV\",\n{\n            'v': 1166,\n            'f': \"1166\",\n        }],\n [\"BA S/E TUNICHE 66KV\",\n{\n            'v': 1128,\n            'f': \"1128\",\n        }],\n [\"BA S/E SAN JAVIER 66KV\",\n{\n            'v': 1003,\n            'f': \"1003\",\n        }],\n [\"BA S/E LOS VILOS 220KV SECCI\\u00d3N 1\",\n{\n            'v': 911,\n            'f': \"911\",\n        }],\n [\"BA S/E PILLANLELBUN 23KV\",\n{\n            'v': 883,\n            'f': \"883\",\n        }],\n [\"BA S/E DO\\u00d1A CARMEN 220KV\",\n{\n            'v': 878,\n            'f': \"878\",\n        }],\n [\"BA S/E CHINCHORRO 66KV\",\n{\n            'v': 866,\n            'f': \"866\",\n        }],\n [\"BA S/E QUIANI 66KV\",\n{\n            'v': 862,\n            'f': \"862\",\n        }],\n [\"BA S/E CONSTITUCION 66KV\",\n{\n            'v': 858,\n            'f': \"858\",\n        }],\n [\"BA S/E POZO ALMONTE 110KV-BP1\",\n{\n            'v': 848,\n            'f': \"848\",\n        }],\n [\"BA S/E SAUZAL 110KV SECCION 2\",\n{\n            'v': 791,\n            'f': \"791\",\n        }],\n [\"BA S/E PAC\\u00cdFICO 110KV\",\n{\n            'v': 775,\n            'f': \"775\",\n        }],\n [\"BA S/E TALCA 66KV BP1\",\n{\n            'v': 774,\n            'f': \"774\",\n        }],\n [\"BA S/E CERRO DRAG\\u00d3N 110KV\",\n{\n            'v': 774,\n            'f': \"774\",\n        }],\n [\"BA TAP TILCOCO 154KV\",\n{\n            'v': 769,\n            'f': \"769\",\n        }],\n [\"BA S/E MIRAFLORES BARRA 110KV BP1\",\n{\n            'v': 769,\n            'f': \"769\",\n        }],\n [\"BA S/E BATUCO 110KV B1\",\n{\n            'v': 768,\n            'f': \"768\",\n        }],\n [\"BA S/E EL COBRE (EDELNOR) 220KV - BP1\",\n{\n            'v': 768,\n            'f': \"768\",\n        }],\n [\"BA S/E SANTA ELVIRA 66KV\",\n{\n            'v': 768,\n            'f': \"768\",\n        }],\n [\"BA S/E VENTANAS HBP1-A\",\n{\n            'v': 767,\n            'f': \"767\",\n        }],\n [\"BA S/E NUEVA MALLOA 154KV\",\n{\n            'v': 761,\n            'f': \"761\",\n        }],\n [\"BA S/E LO AGUIRRE 110KV B1\",\n{\n            'v': 761,\n            'f': \"761\",\n        }],\n [\"BA S/E TINGUIRIRICA 154KV SECCI\\u00d3N 1\",\n{\n            'v': 758,\n            'f': \"758\",\n        }],\n [\"BA S/E PUNTA PEUCO HBP\",\n{\n            'v': 758,\n            'f': \"758\",\n        }],\n [\"BA S/E PARRAL 154KV B1\",\n{\n            'v': 757,\n            'f': \"757\",\n        }],\n [\"BA S/E AGUA SANTA BARRA 110KV N\\u00b0 1\",\n{\n            'v': 755,\n            'f': \"755\",\n        }],\n [\"BA S/E QUILLOTA 110KV\",\n{\n            'v': 752,\n            'f': \"752\",\n        }],\n [\"BA S/E SAN MIGUEL 15KV\",\n{\n            'v': 750,\n            'f': \"750\",\n        }],\n [\"BA S/E RAPEL 220KV B1\",\n{\n            'v': 747,\n            'f': \"747\",\n        }],\n [\"BA S/E HORCONES 66KV B1\",\n{\n            'v': 745,\n            'f': \"745\",\n        }],\n [\"BA S/E SAUZAL 110KV SECCION 1\",\n{\n            'v': 745,\n            'f': \"745\",\n        }],\n [\"BA S/E ITAHUE 154KV SECCION 1\",\n{\n            'v': 743,\n            'f': \"743\",\n        }],\n [\"BA S/E CENTRAL PEHUENCHE 220KV B1\",\n{\n            'v': 743,\n            'f': \"743\",\n        }],\n [\"BA S/E COLBUN 220KV\",\n{\n            'v': 743,\n            'f': \"743\",\n        }],\n [\"BA S/E CENTRAL RALCO 220KV\",\n{\n            'v': 742,\n            'f': \"742\",\n        }],\n [\"BA S/E TENO 154KV BP1\",\n{\n            'v': 742,\n            'f': \"742\",\n        }],\n [\"BA S/E MAULE 154KV\",\n{\n            'v': 742,\n            'f': \"742\",\n        }],\n [\"BA S/E OCHAGAVIA 110KV BP1\",\n{\n            'v': 741,\n            'f': \"741\",\n        }],\n [\"BA S/E PAINE 154KV\",\n{\n            'v': 741,\n            'f': \"741\",\n        }],\n [\"BA S/E CIPRESES 154KV B1\",\n{\n            'v': 741,\n            'f': \"741\",\n        }],\n [\"BA S/E SANTA ROSA SUR 110KV BP1\",\n{\n            'v': 740,\n            'f': \"740\",\n        }],\n [\"BA S/E ANCOA 220KV SECCION 1\",\n{\n            'v': 740,\n            'f': \"740\",\n        }],\n [\"BA S/E ALTO JAHUEL 154KV\",\n{\n            'v': 740,\n            'f': \"740\",\n        }],\n [\"BA S/E CERRO NAVIA 220KV SECCION 1\",\n{\n            'v': 740,\n            'f': \"740\",\n        }],\n [\"BA S/E ALTO JAHUEL 220KV SECCION 1\",\n{\n            'v': 740,\n            'f': \"740\",\n        }],\n [\"BA S/E CANDELARIA B1 - 220KV\",\n{\n            'v': 740,\n            'f': \"740\",\n        }],\n [\"BA S/E RANCAGUA 154KV\",\n{\n            'v': 739,\n            'f': \"739\",\n        }],\n [\"BA S/E CHARRUA 66KV\",\n{\n            'v': 739,\n            'f': \"739\",\n        }],\n [\"BA S/E CHILLAN 66KV\",\n{\n            'v': 739,\n            'f': \"739\",\n        }],\n [\"BA S/E SAN CRISTOBAL 110KV B1\",\n{\n            'v': 739,\n            'f': \"739\",\n        }],\n [\"BA S/E NOGALES 220KV SECCION 1\",\n{\n            'v': 739,\n            'f': \"739\",\n        }],\n [\"BA S/E HUALPEN 220KV\",\n{\n            'v': 739,\n            'f': \"739\",\n        }],\n [\"BA S/E SAN LUIS 220KV BP1\",\n{\n            'v': 739,\n            'f': \"739\",\n        }],\n [\"BA S/E CHENA 220KV BP1 [No_Mostrar]\",\n{\n            'v': 738,\n            'f': \"738\",\n        }],\n [\"BA S/E LOS ALMENDROS 110KV BP1\",\n{\n            'v': 738,\n            'f': \"738\",\n        }],\n [\"BA S/E CHARRUA 220KV SECCION 1\",\n{\n            'v': 738,\n            'f': \"738\",\n        }],\n [\"BA S/E MULCHEN 220KV B1\",\n{\n            'v': 738,\n            'f': \"738\",\n        }],\n [\"BA S/E LO ESPEJO (FFCC) 110KV\",\n{\n            'v': 738,\n            'f': \"738\",\n        }],\n [\"BA S/E PUENTE ALTO (CMPC) 110KV\",\n{\n            'v': 738,\n            'f': \"738\",\n        }],\n [\"BA S/E APOQUINDO 110KV B1\",\n{\n            'v': 738,\n            'f': \"738\",\n        }],\n [\"BA S/E SAN FRANCISCO DE MOSTAZAL 66KV T1\",\n{\n            'v': 737,\n            'f': \"737\",\n        }],\n [\"BA S/E ALTO JAHUEL 500KV SECCI\\u00d3N A\",\n{\n            'v': 737,\n            'f': \"737\",\n        }],\n [\"BA S/E AGUA SANTA BARRA 220KV N\\u00b0 1\",\n{\n            'v': 737,\n            'f': \"737\",\n        }],\n [\"BA S/E LINARES 154KV\",\n{\n            'v': 737,\n            'f': \"737\",\n        }],\n [\"BA S/E FLORIDA 110KV BP1\",\n{\n            'v': 737,\n            'f': \"737\",\n        }],\n [\"BA S/E QUILLOTA 220KV SECCION 1\",\n{\n            'v': 737,\n            'f': \"737\",\n        }],\n [\"BA S/E GIS ANGOSTURA 220KV\",\n{\n            'v': 736,\n            'f': \"736\",\n        }],\n [\"BA S/E CHARRUA 154KV SECCION 1\",\n{\n            'v': 736,\n            'f': \"736\",\n        }],\n [\"BA S/E ALTO JAHUEL 110KV SECCION 1\",\n{\n            'v': 736,\n            'f': \"736\",\n        }],\n [\"BA S/E LO AGUIRRE 525KV SECCION 1\",\n{\n            'v': 736,\n            'f': \"736\",\n        }],\n [\"BA S/E CENTRAL QUINTERO 220KV\",\n{\n            'v': 735,\n            'f': \"735\",\n        }],\n [\"BA S/E POLPAICO 500KV SECCION A\",\n{\n            'v': 735,\n            'f': \"735\",\n        }],\n [\"BA S/E FPC 154KV BP1\",\n{\n            'v': 735,\n            'f': \"735\",\n        }],\n [\"BA S/E CENTRAL ALFALFAL 220KV B1\",\n{\n            'v': 735,\n            'f': \"735\",\n        }],\n [\"BA S/E LOS ALMENDROS 220KV B1\",\n{\n            'v': 735,\n            'f': \"735\",\n        }],\n [\"BA S/E MAPAL 154KV\",\n{\n            'v': 734,\n            'f': \"734\",\n        }],\n [\"BA S/E LAGUNILLAS 220KV SECCI\\u00d3N A-1\",\n{\n            'v': 734,\n            'f': \"734\",\n        }],\n [\"BA S/E CORONEL 15KV B1\",\n{\n            'v': 734,\n            'f': \"734\",\n        }],\n [\"BA S/E ANTUCO 220KV SECCI\\u00d3N 1\",\n{\n            'v': 733,\n            'f': \"733\",\n        }],\n [\"BA S/E BOCAMINA ABP\",\n{\n            'v': 733,\n            'f': \"733\",\n        }],\n [\"BA S/E LAGUNILLAS 154KV BA-A\",\n{\n            'v': 733,\n            'f': \"733\",\n        }],\n [\"BA S/E RENCA 110KV BP1\",\n{\n            'v': 733,\n            'f': \"733\",\n        }],\n [\"BA S/E CENTRAL RUCUE B1 220KV\",\n{\n            'v': 733,\n            'f': \"733\",\n        }],\n [\"BA S/E TAP OFF QUIANI 66KV\",\n{\n            'v': 733,\n            'f': \"733\",\n        }],\n [\"BA S/E HUALPEN 154KV\",\n{\n            'v': 733,\n            'f': \"733\",\n        }],\n [\"BA S/E SANTA MARIA B1 - 230KV\",\n{\n            'v': 733,\n            'f': \"733\",\n        }],\n [\"BA S/E POLPAICO 220KV SECCION 1\",\n{\n            'v': 732,\n            'f': \"732\",\n        }],\n [\"BA S/E ALTO MELIPILLA BARRA 220KV N\\u00b0 1\",\n{\n            'v': 732,\n            'f': \"732\",\n        }],\n [\"BA S/E TEMUCO 66KV SECCION 1\",\n{\n            'v': 731,\n            'f': \"731\",\n        }],\n [\"BA S/E CORONEL 66KV B1\",\n{\n            'v': 731,\n            'f': \"731\",\n        }],\n [\"BA S/E CAUTIN 220KV SECCION 1\",\n{\n            'v': 731,\n            'f': \"731\",\n        }],\n [\"BA S/E SAN VICENTE 154KV SECCI\\u00d3N A\",\n{\n            'v': 731,\n            'f': \"731\",\n        }],\n [\"BA S/E TEMUCO 220KV SECCI\\u00d3N 1\",\n{\n            'v': 730,\n            'f': \"730\",\n        }],\n [\"BA S/E SAN FERNANDO 154KV B2\",\n{\n            'v': 723,\n            'f': \"723\",\n        }],\n [\"BA S/E GRANEROS INDURA 66KV\",\n{\n            'v': 715,\n            'f': \"715\",\n        }],\n [\"BA S/E CENTRAL LA CONFLUENCIA 154KV\",\n{\n            'v': 711,\n            'f': \"711\",\n        }],\n [\"BA S/E CENTRAL LA HIGUERA 154KV B1\",\n{\n            'v': 710,\n            'f': \"710\",\n        }],\n [\"BA S/E 154KV B1\",\n{\n            'v': 708,\n            'f': \"708\",\n        }],\n [\"BA S/E DUQUECO 220KV BP1\",\n{\n            'v': 706,\n            'f': \"706\",\n        }],\n [\"BA S/E LAMPA 220KV B1\",\n{\n            'v': 705,\n            'f': \"705\",\n        }],\n [\"BA S/E RANCAGUA 66KV B1\",\n{\n            'v': 701,\n            'f': \"701\",\n        }],\n [\"BA S/E CANUTILLAR JBP-A\",\n{\n            'v': 673,\n            'f': \"673\",\n        }],\n [\"BA S/E DON GOYO 220KV BP2\",\n{\n            'v': 633,\n            'f': \"633\",\n        }],\n [\"BA S/E PUENTE NEGRO 220KV B1\",\n{\n            'v': 437,\n            'f': \"437\",\n        }],\n [\"BA S/E CENTRAL PANGUE 220KV\",\n{\n            'v': 384,\n            'f': \"384\",\n        }]],\n        columns: [[\"string\", \"nombre\"], [\"number\", \"desviacion_cat\"]],\n        columnOptions: [{\"width\": \"1px\", \"className\": \"index_column\"}],\n        rowsPerPage: 25,\n        helpUrl: \"https://colab.research.google.com/notebooks/data_table.ipynb\",\n        suppressOutputScrolling: true,\n        minimumWidth: undefined,\n      });\n    ",
            "text/html": [
              "<div>\n",
              "<style scoped>\n",
              "    .dataframe tbody tr th:only-of-type {\n",
              "        vertical-align: middle;\n",
              "    }\n",
              "\n",
              "    .dataframe tbody tr th {\n",
              "        vertical-align: top;\n",
              "    }\n",
              "\n",
              "    .dataframe thead th {\n",
              "        text-align: right;\n",
              "    }\n",
              "</style>\n",
              "<table border=\"1\" class=\"dataframe\">\n",
              "  <thead>\n",
              "    <tr style=\"text-align: right;\">\n",
              "      <th></th>\n",
              "      <th>desviacion_cat</th>\n",
              "    </tr>\n",
              "    <tr>\n",
              "      <th>nombre</th>\n",
              "      <th></th>\n",
              "    </tr>\n",
              "  </thead>\n",
              "  <tbody>\n",
              "    <tr>\n",
              "      <th>BA S/E NUEVA VENTANAS JB1</th>\n",
              "      <td>4345</td>\n",
              "    </tr>\n",
              "    <tr>\n",
              "      <th>BA S/E CHOLGUAN 220KV</th>\n",
              "      <td>2810</td>\n",
              "    </tr>\n",
              "    <tr>\n",
              "      <th>BA S/E DIEGO DE ALMAGRO 110KV B1</th>\n",
              "      <td>1957</td>\n",
              "    </tr>\n",
              "    <tr>\n",
              "      <th>BA S/E MAITENCILLO 110KV SECCIÓN1</th>\n",
              "      <td>1821</td>\n",
              "    </tr>\n",
              "    <tr>\n",
              "      <th>BA S/E PUNITAQUI 66KV</th>\n",
              "      <td>1558</td>\n",
              "    </tr>\n",
              "    <tr>\n",
              "      <th>...</th>\n",
              "      <td>...</td>\n",
              "    </tr>\n",
              "    <tr>\n",
              "      <th>BA S/E RANCAGUA 66KV B1</th>\n",
              "      <td>701</td>\n",
              "    </tr>\n",
              "    <tr>\n",
              "      <th>BA S/E CANUTILLAR JBP-A</th>\n",
              "      <td>673</td>\n",
              "    </tr>\n",
              "    <tr>\n",
              "      <th>BA S/E DON GOYO 220KV BP2</th>\n",
              "      <td>633</td>\n",
              "    </tr>\n",
              "    <tr>\n",
              "      <th>BA S/E PUENTE NEGRO 220KV B1</th>\n",
              "      <td>437</td>\n",
              "    </tr>\n",
              "    <tr>\n",
              "      <th>BA S/E CENTRAL PANGUE 220KV</th>\n",
              "      <td>384</td>\n",
              "    </tr>\n",
              "  </tbody>\n",
              "</table>\n",
              "<p>220 rows × 1 columns</p>\n",
              "</div>"
            ],
            "text/plain": [
              "                                   desviacion_cat\n",
              "nombre                                           \n",
              "BA S/E NUEVA VENTANAS JB1                    4345\n",
              "BA S/E CHOLGUAN 220KV                        2810\n",
              "BA S/E DIEGO DE ALMAGRO 110KV B1             1957\n",
              "BA S/E MAITENCILLO 110KV SECCIÓN1            1821\n",
              "BA S/E PUNITAQUI 66KV                        1558\n",
              "...                                           ...\n",
              "BA S/E RANCAGUA 66KV B1                       701\n",
              "BA S/E CANUTILLAR JBP-A                       673\n",
              "BA S/E DON GOYO 220KV BP2                     633\n",
              "BA S/E PUENTE NEGRO 220KV B1                  437\n",
              "BA S/E CENTRAL PANGUE 220KV                   384\n",
              "\n",
              "[220 rows x 1 columns]"
            ]
          },
          "metadata": {
            "tags": []
          },
          "execution_count": 51
        }
      ]
    },
    {
      "cell_type": "markdown",
      "metadata": {
        "id": "FO8WWRKlQCmx"
      },
      "source": [
        "**Observations:** the enery station NUEVA VENTANAS JB1 has a significantly higher number of cases with deviation greater than 15%. It appears that it is more difficult to accurately forecast the costs of this bar. "
      ]
    },
    {
      "cell_type": "markdown",
      "metadata": {
        "id": "kzuEBZIvRMlN"
      },
      "source": [
        "<a name=\"cell-3.\"></a>\n",
        "# **3. Visualization**"
      ]
    },
    {
      "cell_type": "markdown",
      "metadata": {
        "id": "eUxtvga29wm8"
      },
      "source": [
        "**3.1. Create a function that plots the actual cost vs. the forecasted cost for an specific energy station and date**"
      ]
    },
    {
      "cell_type": "code",
      "metadata": {
        "id": "u9Gk-2h1RJhT"
      },
      "source": [
        "def time_plot_costo_barra(codigo_barra, fecha_inicial, fecha_final,data):\n",
        "\n",
        "    # select according to barra\n",
        "    groups = data.groupby('barra_mnemotecnico') # group data according to barras\n",
        "    selected_group = groups.get_group(codigo_barra) # get the barra\n",
        "    selected_group['fecha'] = pd.to_datetime(selected_group['fecha']) # set fecha as datetime data type\n",
        "    selected_group = selected_group.sort_values(['fecha','hora'],ascending=True) # sort\n",
        "\n",
        "    # select according to date\n",
        "    selected_group_and_date = selected_group.groupby([selected_group['fecha'].dt.strftime('%Y'),selected_group['fecha'].dt.strftime('%m'),selected_group['fecha'].dt.strftime('%d')])['costo_programado','costo_real'].sum() # group according to date, specifically according to day\n",
        "    selected_group_and_date.index = selected_group_and_date.index.set_names(['año','mes','dia']) # change i=names of multiindex\n",
        "    selected_group_and_date.reset_index(inplace=True) # set multiindex as column in the dataframe\n",
        "    selected_group_and_date['fecha'] = pd.to_datetime(dict(year=selected_group_and_date.año, month=selected_group_and_date.mes, day=selected_group_and_date.dia), format='%m/%d/%y') # create año, mes and día variables and set them as datetime data type\n",
        "    selected_group_and_date = selected_group_and_date[(selected_group_and_date.fecha >= fecha_inicial) & (selected_group_and_date.fecha <= fecha_final)] # select cases between fecha_inicial and fecha_final\n",
        "    selected_group_and_date.index = selected_group_and_date['fecha'] # set fecha as index\n",
        "\n",
        "    # visualize\n",
        "    color_pal = [\"#F8766D\", \"#D39200\", \"#93AA00\", \"#00BA38\", \"#00C19F\", \"#00B9E3\", \"#619CFF\", \"#DB72FB\"] # some design\n",
        "    plt.style.use('fivethirtyeight')\n",
        "    selected_group_and_date[['costo_programado', 'costo_real']].plot(figsize=(15, 5))\n",
        "\n",
        "    return"
      ],
      "execution_count": null,
      "outputs": []
    },
    {
      "cell_type": "code",
      "metadata": {
        "id": "If8Hree4SrvT",
        "colab": {
          "base_uri": "https://localhost:8080/",
          "height": 570
        },
        "outputId": "3bb73cb4-4444-4c75-ebc1-efb10523fa60"
      },
      "source": [
        "# Example\n",
        "time_plot_costo_barra('BA01G004SE001T011','2019/01/01','2019/01/30',costo_marginal_clean)"
      ],
      "execution_count": null,
      "outputs": [
        {
          "output_type": "stream",
          "text": [
            "/usr/local/lib/python3.6/dist-packages/ipykernel_launcher.py:8: SettingWithCopyWarning: \n",
            "A value is trying to be set on a copy of a slice from a DataFrame.\n",
            "Try using .loc[row_indexer,col_indexer] = value instead\n",
            "\n",
            "See the caveats in the documentation: https://pandas.pydata.org/pandas-docs/stable/user_guide/indexing.html#returning-a-view-versus-a-copy\n",
            "  \n",
            "/usr/local/lib/python3.6/dist-packages/ipykernel_launcher.py:12: FutureWarning: Indexing with multiple keys (implicitly converted to a tuple of keys) will be deprecated, use a list instead.\n",
            "  if sys.path[0] == '':\n"
          ],
          "name": "stderr"
        },
        {
          "output_type": "display_data",
          "data": {
            "image/png": "[encoded data removed]",
            "text/plain": [
              "<Figure size 1080x360 with 1 Axes>"
            ]
          },
          "metadata": {
            "tags": []
          }
        }
      ]
    },
    {
      "cell_type": "markdown",
      "metadata": {
        "id": "Oy-sbyEmUezZ"
      },
      "source": [
        "**Observation:** there is no clear pattern that can be distinguished. Seasonality cannot be detected because there is no precise amount of time between peaks. However, there could be a pattern according to the month of the year, however, we would need data from previous years to compare and confirm this. "
      ]
    },
    {
      "cell_type": "markdown",
      "metadata": {
        "id": "CzlBfS5KeQR-"
      },
      "source": [
        "<a name=\"cell-4.\"></a>\n",
        "# **4. Add more variables that can help to build a better prediction model**"
      ]
    },
    {
      "cell_type": "markdown",
      "metadata": {
        "id": "51JI9wCEy8HC"
      },
      "source": [
        "**4.1. Upload data**"
      ]
    },
    {
      "cell_type": "code",
      "metadata": {
        "id": "xlFqmitheKtg",
        "colab": {
          "resources": {
            "http://localhost:8080/nbextensions/google.colab/files.js": {
              "data": "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",
              "ok": true,
              "headers": [
                [
                  "content-type",
                  "application/javascript"
                ]
              ],
              "status": 200,
              "status_text": "OK"
            }
          },
          "base_uri": "https://localhost:8080/",
          "height": 87
        },
        "outputId": "613ba14c-b4af-4f3a-cbe6-d202675742f7"
      },
      "source": [
        "# Upload data\n",
        "\n",
        "# invoke a file selector (select the files)\n",
        "from google.colab import files\n",
        "\n",
        "uploaded = files.upload()\n",
        "\n",
        "# iterate the uploaded files in order to find their key names\n",
        "for fn in uploaded.keys():\n",
        "  print('User uploaded file \"{name}\" with length {length} bytes'.format(\n",
        "      name=fn, length=len(uploaded[fn])))"
      ],
      "execution_count": null,
      "outputs": [
        {
          "output_type": "display_data",
          "data": {
            "text/html": [
              "\n",
              "     <input type=\"file\" id=\"files-f3cff36b-625d-4c8a-a75b-6e64b99dfcd2\" name=\"files[]\" multiple disabled\n",
              "        style=\"border:none\" />\n",
              "     <output id=\"result-f3cff36b-625d-4c8a-a75b-6e64b99dfcd2\">\n",
              "      Upload widget is only available when the cell has been executed in the\n",
              "      current browser session. Please rerun this cell to enable.\n",
              "      </output>\n",
              "      <script src=\"/nbextensions/google.colab/files.js\"></script> "
            ],
            "text/plain": [
              "<IPython.core.display.HTML object>"
            ]
          },
          "metadata": {
            "tags": []
          }
        },
        {
          "output_type": "stream",
          "text": [
            "Saving base_para_prediccion.csv to base_para_prediccion.csv\n",
            "User uploaded file \"base_para_prediccion.csv\" with length 10782529 bytes\n"
          ],
          "name": "stdout"
        }
      ]
    },
    {
      "cell_type": "markdown",
      "metadata": {
        "id": "hm3r7w7vWfWN"
      },
      "source": [
        "About the variables:\n",
        "- ID of the energy station: nemotecnico_se\n",
        "- date: fecha\n",
        "- time: hora\n",
        "- wind energy: gen_eolica_total_mwh\n",
        "- geothermical energy: geo_geotermica_total_mwh\n",
        "- hydraulic energy: geo_hidraulica_total_mwh\n",
        "- solar energy: gen_solar_total_mwh\n",
        "- thermal energy: geo_termica_total_mwh\n",
        "- actual cost: cmg_real\n",
        "- forecasted cost: cmg_prog\n",
        "- cost deviation (forecasted-actual): cmg_desv\n",
        "- porcentual deviation: cmg_desv_pct\n",
        "- number of energy stations: n_barras\n",
        "- demand (megawatt hour of energy): demanda_mwh\n",
        "- capacity to generate energy: cap_inst_mw"
      ]
    },
    {
      "cell_type": "code",
      "metadata": {
        "id": "58GIIjrZgOlb",
        "colab": {
          "base_uri": "https://localhost:8080/",
          "height": 364
        },
        "outputId": "837e0ceb-1768-4ab5-f461-4f7d603a8197"
      },
      "source": [
        "base_prediccion = pd.read_csv('base_para_prediccion.csv')\n",
        "base_prediccion.head()"
      ],
      "execution_count": null,
      "outputs": [
        {
          "output_type": "execute_result",
          "data": {
            "application/vnd.google.colaboratory.module+javascript": "\n      import \"https://ssl.gstatic.com/colaboratory/data_table/a6224c040fa35dcf/data_table.js\";\n\n      window.createDataTable({\n        data: [[{\n            'v': 0,\n            'f': \"0\",\n        },\n\"SE031G216\",\n\"2019-01-04 00:00:00 UTC\",\n{\n            'v': 1,\n            'f': \"1\",\n        },\n{\n            'v': NaN,\n            'f': \"NaN\",\n        },\n{\n            'v': NaN,\n            'f': \"NaN\",\n        },\n{\n            'v': NaN,\n            'f': \"NaN\",\n        },\n{\n            'v': NaN,\n            'f': \"NaN\",\n        },\n{\n            'v': 0.0,\n            'f': \"0.0\",\n        },\n{\n            'v': 56.2,\n            'f': \"56.2\",\n        },\n{\n            'v': 55.62785194,\n            'f': \"55.62785194\",\n        },\n{\n            'v': 0.57,\n            'f': \"0.57\",\n        },\n{\n            'v': 1.02,\n            'f': \"1.02\",\n        },\n{\n            'v': 2,\n            'f': \"2\",\n        },\n{\n            'v': 1210767,\n            'f': \"1210767\",\n        },\n{\n            'v': 13.20785,\n            'f': \"13.20785\",\n        }],\n [{\n            'v': 1,\n            'f': \"1\",\n        },\n\"SE031G216\",\n\"2019-01-04 00:00:00 UTC\",\n{\n            'v': 2,\n            'f': \"2\",\n        },\n{\n            'v': NaN,\n            'f': \"NaN\",\n        },\n{\n            'v': NaN,\n            'f': \"NaN\",\n        },\n{\n            'v': NaN,\n            'f': \"NaN\",\n        },\n{\n            'v': NaN,\n            'f': \"NaN\",\n        },\n{\n            'v': 0.0,\n            'f': \"0.0\",\n        },\n{\n            'v': 56.2,\n            'f': \"56.2\",\n        },\n{\n            'v': 55.37664481,\n            'f': \"55.37664481\",\n        },\n{\n            'v': 0.82,\n            'f': \"0.82\",\n        },\n{\n            'v': 1.48,\n            'f': \"1.48\",\n        },\n{\n            'v': 2,\n            'f': \"2\",\n        },\n{\n            'v': 113232,\n            'f': \"113232\",\n        },\n{\n            'v': 13.20785,\n            'f': \"13.20785\",\n        }],\n [{\n            'v': 2,\n            'f': \"2\",\n        },\n\"SE031G216\",\n\"2019-01-04 00:00:00 UTC\",\n{\n            'v': 3,\n            'f': \"3\",\n        },\n{\n            'v': NaN,\n            'f': \"NaN\",\n        },\n{\n            'v': NaN,\n            'f': \"NaN\",\n        },\n{\n            'v': NaN,\n            'f': \"NaN\",\n        },\n{\n            'v': NaN,\n            'f': \"NaN\",\n        },\n{\n            'v': 0.0,\n            'f': \"0.0\",\n        },\n{\n            'v': 56.2,\n            'f': \"56.2\",\n        },\n{\n            'v': 59.53189128,\n            'f': \"59.53189128\",\n        },\n{\n            'v': -3.33,\n            'f': \"-3.33\",\n        },\n{\n            'v': -5.59,\n            'f': \"-5.59\",\n        },\n{\n            'v': 2,\n            'f': \"2\",\n        },\n{\n            'v': 1089415,\n            'f': \"1089415\",\n        },\n{\n            'v': 13.20785,\n            'f': \"13.20785\",\n        }],\n [{\n            'v': 3,\n            'f': \"3\",\n        },\n\"SE031G216\",\n\"2019-01-04 00:00:00 UTC\",\n{\n            'v': 4,\n            'f': \"4\",\n        },\n{\n            'v': NaN,\n            'f': \"NaN\",\n        },\n{\n            'v': NaN,\n            'f': \"NaN\",\n        },\n{\n            'v': NaN,\n            'f': \"NaN\",\n        },\n{\n            'v': NaN,\n            'f': \"NaN\",\n        },\n{\n            'v': 0.0,\n            'f': \"0.0\",\n        },\n{\n            'v': 56.2,\n            'f': \"56.2\",\n        },\n{\n            'v': 174.37892338,\n            'f': \"174.37892338\",\n        },\n{\n            'v': -118.18,\n            'f': \"-118.18\",\n        },\n{\n            'v': -67.77,\n            'f': \"-67.77\",\n        },\n{\n            'v': 2,\n            'f': \"2\",\n        },\n{\n            'v': 1096867,\n            'f': \"1096867\",\n        },\n{\n            'v': 13.20785,\n            'f': \"13.20785\",\n        }],\n [{\n            'v': 4,\n            'f': \"4\",\n        },\n\"SE031G216\",\n\"2019-01-04 00:00:00 UTC\",\n{\n            'v': 5,\n            'f': \"5\",\n        },\n{\n            'v': NaN,\n            'f': \"NaN\",\n        },\n{\n            'v': NaN,\n            'f': \"NaN\",\n        },\n{\n            'v': NaN,\n            'f': \"NaN\",\n        },\n{\n            'v': NaN,\n            'f': \"NaN\",\n        },\n{\n            'v': 0.0,\n            'f': \"0.0\",\n        },\n{\n            'v': 56.2,\n            'f': \"56.2\",\n        },\n{\n            'v': 172.82031045,\n            'f': \"172.82031045\",\n        },\n{\n            'v': -116.62,\n            'f': \"-116.62\",\n        },\n{\n            'v': -67.48,\n            'f': \"-67.48\",\n        },\n{\n            'v': 2,\n            'f': \"2\",\n        },\n{\n            'v': 1071851,\n            'f': \"1071851\",\n        },\n{\n            'v': 13.20785,\n            'f': \"13.20785\",\n        }]],\n        columns: [[\"number\", \"index\"], [\"string\", \"nemotecnico_se\"], [\"string\", \"fecha\"], [\"number\", \"hora\"], [\"number\", \"gen_eolica_total_mwh\"], [\"number\", \"gen_geotermica_total_mwh\"], [\"number\", \"gen_hidraulica_total_mwh\"], [\"number\", \"gen_solar_total_mwh\"], [\"number\", \"gen_termica_total_mwh\"], [\"number\", \"cmg_real\"], [\"number\", \"cmg_prog\"], [\"number\", \"cmg_desv\"], [\"number\", \"cmg_desv_pct\"], [\"number\", \"n_barras\"], [\"number\", \"demanda_mwh\"], [\"number\", \"cap_inst_mw\"]],\n        columnOptions: [{\"width\": \"1px\", \"className\": \"index_column\"}],\n        rowsPerPage: 25,\n        helpUrl: \"https://colab.research.google.com/notebooks/data_table.ipynb\",\n        suppressOutputScrolling: true,\n        minimumWidth: undefined,\n      });\n    ",
            "text/html": [
              "<div>\n",
              "<style scoped>\n",
              "    .dataframe tbody tr th:only-of-type {\n",
              "        vertical-align: middle;\n",
              "    }\n",
              "\n",
              "    .dataframe tbody tr th {\n",
              "        vertical-align: top;\n",
              "    }\n",
              "\n",
              "    .dataframe thead th {\n",
              "        text-align: right;\n",
              "    }\n",
              "</style>\n",
              "<table border=\"1\" class=\"dataframe\">\n",
              "  <thead>\n",
              "    <tr style=\"text-align: right;\">\n",
              "      <th></th>\n",
              "      <th>nemotecnico_se</th>\n",
              "      <th>fecha</th>\n",
              "      <th>hora</th>\n",
              "      <th>gen_eolica_total_mwh</th>\n",
              "      <th>gen_geotermica_total_mwh</th>\n",
              "      <th>gen_hidraulica_total_mwh</th>\n",
              "      <th>gen_solar_total_mwh</th>\n",
              "      <th>gen_termica_total_mwh</th>\n",
              "      <th>cmg_real</th>\n",
              "      <th>cmg_prog</th>\n",
              "      <th>cmg_desv</th>\n",
              "      <th>cmg_desv_pct</th>\n",
              "      <th>n_barras</th>\n",
              "      <th>demanda_mwh</th>\n",
              "      <th>cap_inst_mw</th>\n",
              "    </tr>\n",
              "  </thead>\n",
              "  <tbody>\n",
              "    <tr>\n",
              "      <th>0</th>\n",
              "      <td>SE031G216</td>\n",
              "      <td>2019-01-04 00:00:00 UTC</td>\n",
              "      <td>1</td>\n",
              "      <td>NaN</td>\n",
              "      <td>NaN</td>\n",
              "      <td>NaN</td>\n",
              "      <td>NaN</td>\n",
              "      <td>0.0</td>\n",
              "      <td>56.2</td>\n",
              "      <td>55.627852</td>\n",
              "      <td>0.57</td>\n",
              "      <td>1.02</td>\n",
              "      <td>2</td>\n",
              "      <td>1210767</td>\n",
              "      <td>13.20785</td>\n",
              "    </tr>\n",
              "    <tr>\n",
              "      <th>1</th>\n",
              "      <td>SE031G216</td>\n",
              "      <td>2019-01-04 00:00:00 UTC</td>\n",
              "      <td>2</td>\n",
              "      <td>NaN</td>\n",
              "      <td>NaN</td>\n",
              "      <td>NaN</td>\n",
              "      <td>NaN</td>\n",
              "      <td>0.0</td>\n",
              "      <td>56.2</td>\n",
              "      <td>55.376645</td>\n",
              "      <td>0.82</td>\n",
              "      <td>1.48</td>\n",
              "      <td>2</td>\n",
              "      <td>113232</td>\n",
              "      <td>13.20785</td>\n",
              "    </tr>\n",
              "    <tr>\n",
              "      <th>2</th>\n",
              "      <td>SE031G216</td>\n",
              "      <td>2019-01-04 00:00:00 UTC</td>\n",
              "      <td>3</td>\n",
              "      <td>NaN</td>\n",
              "      <td>NaN</td>\n",
              "      <td>NaN</td>\n",
              "      <td>NaN</td>\n",
              "      <td>0.0</td>\n",
              "      <td>56.2</td>\n",
              "      <td>59.531891</td>\n",
              "      <td>-3.33</td>\n",
              "      <td>-5.59</td>\n",
              "      <td>2</td>\n",
              "      <td>1089415</td>\n",
              "      <td>13.20785</td>\n",
              "    </tr>\n",
              "    <tr>\n",
              "      <th>3</th>\n",
              "      <td>SE031G216</td>\n",
              "      <td>2019-01-04 00:00:00 UTC</td>\n",
              "      <td>4</td>\n",
              "      <td>NaN</td>\n",
              "      <td>NaN</td>\n",
              "      <td>NaN</td>\n",
              "      <td>NaN</td>\n",
              "      <td>0.0</td>\n",
              "      <td>56.2</td>\n",
              "      <td>174.378923</td>\n",
              "      <td>-118.18</td>\n",
              "      <td>-67.77</td>\n",
              "      <td>2</td>\n",
              "      <td>1096867</td>\n",
              "      <td>13.20785</td>\n",
              "    </tr>\n",
              "    <tr>\n",
              "      <th>4</th>\n",
              "      <td>SE031G216</td>\n",
              "      <td>2019-01-04 00:00:00 UTC</td>\n",
              "      <td>5</td>\n",
              "      <td>NaN</td>\n",
              "      <td>NaN</td>\n",
              "      <td>NaN</td>\n",
              "      <td>NaN</td>\n",
              "      <td>0.0</td>\n",
              "      <td>56.2</td>\n",
              "      <td>172.820310</td>\n",
              "      <td>-116.62</td>\n",
              "      <td>-67.48</td>\n",
              "      <td>2</td>\n",
              "      <td>1071851</td>\n",
              "      <td>13.20785</td>\n",
              "    </tr>\n",
              "  </tbody>\n",
              "</table>\n",
              "</div>"
            ],
            "text/plain": [
              "  nemotecnico_se                    fecha  ...  demanda_mwh  cap_inst_mw\n",
              "0      SE031G216  2019-01-04 00:00:00 UTC  ...      1210767     13.20785\n",
              "1      SE031G216  2019-01-04 00:00:00 UTC  ...       113232     13.20785\n",
              "2      SE031G216  2019-01-04 00:00:00 UTC  ...      1089415     13.20785\n",
              "3      SE031G216  2019-01-04 00:00:00 UTC  ...      1096867     13.20785\n",
              "4      SE031G216  2019-01-04 00:00:00 UTC  ...      1071851     13.20785\n",
              "\n",
              "[5 rows x 15 columns]"
            ]
          },
          "metadata": {
            "tags": []
          },
          "execution_count": 11
        }
      ]
    },
    {
      "cell_type": "markdown",
      "metadata": {
        "id": "9tvfb863olMC"
      },
      "source": [
        "**4.2. Explore data**"
      ]
    },
    {
      "cell_type": "code",
      "metadata": {
        "id": "YqCvFyeBfhnI",
        "colab": {
          "base_uri": "https://localhost:8080/",
          "height": 263
        },
        "outputId": "a69c2631-96bc-4226-c4d9-db2b87d02849"
      },
      "source": [
        "# A) descriptive statistics\n",
        "pd.DataFrame(base_prediccion.describe())"
      ],
      "execution_count": null,
      "outputs": [
        {
          "output_type": "execute_result",
          "data": {
            "application/vnd.google.colaboratory.module+javascript": "\n      import \"https://ssl.gstatic.com/colaboratory/data_table/a6224c040fa35dcf/data_table.js\";\n\n      window.createDataTable({\n        data: [[\"count\",\n{\n            'v': 112779.0,\n            'f': \"112779.0\",\n        },\n{\n            'v': 0.0,\n            'f': \"0.0\",\n        },\n{\n            'v': 0.0,\n            'f': \"0.0\",\n        },\n{\n            'v': 34184.0,\n            'f': \"34184.0\",\n        },\n{\n            'v': 41818.0,\n            'f': \"41818.0\",\n        },\n{\n            'v': 61863.0,\n            'f': \"61863.0\",\n        },\n{\n            'v': 112779.0,\n            'f': \"112779.0\",\n        },\n{\n            'v': 112779.0,\n            'f': \"112779.0\",\n        },\n{\n            'v': 112779.0,\n            'f': \"112779.0\",\n        },\n{\n            'v': 112779.0,\n            'f': \"112779.0\",\n        },\n{\n            'v': 112779.0,\n            'f': \"112779.0\",\n        },\n{\n            'v': 112779.0,\n            'f': \"112779.0\",\n        },\n{\n            'v': 112779.0,\n            'f': \"112779.0\",\n        }],\n [\"mean\",\n{\n            'v': 12.502992578405554,\n            'f': \"12.502992578405554\",\n        },\n{\n            'v': NaN,\n            'f': \"NaN\",\n        },\n{\n            'v': NaN,\n            'f': \"NaN\",\n        },\n{\n            'v': 38.12005341809125,\n            'f': \"38.12005341809125\",\n        },\n{\n            'v': 3.764986570121529,\n            'f': \"3.764986570121529\",\n        },\n{\n            'v': 40.583145911143205,\n            'f': \"40.583145911143205\",\n        },\n{\n            'v': 61.17005819641297,\n            'f': \"61.17005819641297\",\n        },\n{\n            'v': 62.215399998876734,\n            'f': \"62.215399998876734\",\n        },\n{\n            'v': -1.0453383904213613,\n            'f': \"-1.0453383904213613\",\n        },\n{\n            'v': Infinity,\n            'f': \"Infinity\",\n        },\n{\n            'v': 2.3318436943047907,\n            'f': \"2.3318436943047907\",\n        },\n{\n            'v': 63570560.36394187,\n            'f': \"63570560.36394187\",\n        },\n{\n            'v': 128.71956464948565,\n            'f': \"128.71956464948565\",\n        }],\n [\"std\",\n{\n            'v': 6.924089723317659,\n            'f': \"6.924089723317659\",\n        },\n{\n            'v': NaN,\n            'f': \"NaN\",\n        },\n{\n            'v': NaN,\n            'f': \"NaN\",\n        },\n{\n            'v': 69.83810864594014,\n            'f': \"69.83810864594014\",\n        },\n{\n            'v': 12.904388294487823,\n            'f': \"12.904388294487823\",\n        },\n{\n            'v': 101.08339642571343,\n            'f': \"101.08339642571343\",\n        },\n{\n            'v': 25.414147387046366,\n            'f': \"25.414147387046366\",\n        },\n{\n            'v': 25.30775869965116,\n            'f': \"25.30775869965116\",\n        },\n{\n            'v': 24.711574837745616,\n            'f': \"24.711574837745616\",\n        },\n{\n            'v': NaN,\n            'f': \"NaN\",\n        },\n{\n            'v': 1.30409598997464,\n            'f': \"1.30409598997464\",\n        },\n{\n            'v': 394868323.1373271,\n            'f': \"394868323.1373271\",\n        },\n{\n            'v': 167.94864913899022,\n            'f': \"167.94864913899022\",\n        }],\n [\"min\",\n{\n            'v': 1.0,\n            'f': \"1.0\",\n        },\n{\n            'v': NaN,\n            'f': \"NaN\",\n        },\n{\n            'v': NaN,\n            'f': \"NaN\",\n        },\n{\n            'v': 0.0,\n            'f': \"0.0\",\n        },\n{\n            'v': 0.0,\n            'f': \"0.0\",\n        },\n{\n            'v': 0.0,\n            'f': \"0.0\",\n        },\n{\n            'v': 0.0,\n            'f': \"0.0\",\n        },\n{\n            'v': -1.71313119,\n            'f': \"-1.71313119\",\n        },\n{\n            'v': -562.47,\n            'f': \"-562.47\",\n        },\n{\n            'v': -3403.97,\n            'f': \"-3403.97\",\n        },\n{\n            'v': 1.0,\n            'f': \"1.0\",\n        },\n{\n            'v': -9821094524.0,\n            'f': \"-9821094524.0\",\n        },\n{\n            'v': 2.9898,\n            'f': \"2.9898\",\n        }],\n [\"25%\",\n{\n            'v': 7.0,\n            'f': \"7.0\",\n        },\n{\n            'v': NaN,\n            'f': \"NaN\",\n        },\n{\n            'v': NaN,\n            'f': \"NaN\",\n        },\n{\n            'v': 0.84978692245,\n            'f': \"0.84978692245\",\n        },\n{\n            'v': 0.0,\n            'f': \"0.0\",\n        },\n{\n            'v': 0.0,\n            'f': \"0.0\",\n        },\n{\n            'v': 49.13,\n            'f': \"49.13\",\n        },\n{\n            'v': 49.90674535,\n            'f': \"49.90674535\",\n        },\n{\n            'v': -3.79,\n            'f': \"-3.79\",\n        },\n{\n            'v': -7.07,\n            'f': \"-7.07\",\n        },\n{\n            'v': 1.0,\n            'f': \"1.0\",\n        },\n{\n            'v': 746480.0,\n            'f': \"746480.0\",\n        },\n{\n            'v': 18.42,\n            'f': \"18.42\",\n        }],\n [\"50%\",\n{\n            'v': 13.0,\n            'f': \"13.0\",\n        },\n{\n            'v': NaN,\n            'f': \"NaN\",\n        },\n{\n            'v': NaN,\n            'f': \"NaN\",\n        },\n{\n            'v': 9.6,\n            'f': \"9.6\",\n        },\n{\n            'v': 0.0,\n            'f': \"0.0\",\n        },\n{\n            'v': 0.0,\n            'f': \"0.0\",\n        },\n{\n            'v': 54.61,\n            'f': \"54.61\",\n        },\n{\n            'v': 55.42060098,\n            'f': \"55.42060098\",\n        },\n{\n            'v': -0.31,\n            'f': \"-0.31\",\n        },\n{\n            'v': -0.58,\n            'f': \"-0.58\",\n        },\n{\n            'v': 2.0,\n            'f': \"2.0\",\n        },\n{\n            'v': 4507282.0,\n            'f': \"4507282.0\",\n        },\n{\n            'v': 51.85,\n            'f': \"51.85\",\n        }],\n [\"75%\",\n{\n            'v': 19.0,\n            'f': \"19.0\",\n        },\n{\n            'v': NaN,\n            'f': \"NaN\",\n        },\n{\n            'v': NaN,\n            'f': \"NaN\",\n        },\n{\n            'v': 40.0,\n            'f': \"40.0\",\n        },\n{\n            'v': 1.5710218439749999,\n            'f': \"1.5710218439749999\",\n        },\n{\n            'v': 15.96,\n            'f': \"15.96\",\n        },\n{\n            'v': 63.5,\n            'f': \"63.5\",\n        },\n{\n            'v': 64.70195072,\n            'f': \"64.70195072\",\n        },\n{\n            'v': 1.67,\n            'f': \"1.67\",\n        },\n{\n            'v': 2.92,\n            'f': \"2.92\",\n        },\n{\n            'v': 3.0,\n            'f': \"3.0\",\n        },\n{\n            'v': 13323449.5,\n            'f': \"13323449.5\",\n        },\n{\n            'v': 184.6855,\n            'f': \"184.6855\",\n        }],\n [\"max\",\n{\n            'v': 25.0,\n            'f': \"25.0\",\n        },\n{\n            'v': NaN,\n            'f': \"NaN\",\n        },\n{\n            'v': NaN,\n            'f': \"NaN\",\n        },\n{\n            'v': 472.0,\n            'f': \"472.0\",\n        },\n{\n            'v': 86.05,\n            'f': \"86.05\",\n        },\n{\n            'v': 570.6008,\n            'f': \"570.6008\",\n        },\n{\n            'v': 240.36,\n            'f': \"240.36\",\n        },\n{\n            'v': 610.6,\n            'f': \"610.6\",\n        },\n{\n            'v': 175.02,\n            'f': \"175.02\",\n        },\n{\n            'v': Infinity,\n            'f': \"Infinity\",\n        },\n{\n            'v': 6.0,\n            'f': \"6.0\",\n        },\n{\n            'v': 10042403907.0,\n            'f': \"10042403907.0\",\n        },\n{\n            'v': 597.7828,\n            'f': \"597.7828\",\n        }]],\n        columns: [[\"string\", \"index\"], [\"number\", \"hora\"], [\"number\", \"gen_eolica_total_mwh\"], [\"number\", \"gen_geotermica_total_mwh\"], [\"number\", \"gen_hidraulica_total_mwh\"], [\"number\", \"gen_solar_total_mwh\"], [\"number\", \"gen_termica_total_mwh\"], [\"number\", \"cmg_real\"], [\"number\", \"cmg_prog\"], [\"number\", \"cmg_desv\"], [\"number\", \"cmg_desv_pct\"], [\"number\", \"n_barras\"], [\"number\", \"demanda_mwh\"], [\"number\", \"cap_inst_mw\"]],\n        columnOptions: [{\"width\": \"1px\", \"className\": \"index_column\"}],\n        rowsPerPage: 25,\n        helpUrl: \"https://colab.research.google.com/notebooks/data_table.ipynb\",\n        suppressOutputScrolling: true,\n        minimumWidth: undefined,\n      });\n    ",
            "text/html": [
              "<div>\n",
              "<style scoped>\n",
              "    .dataframe tbody tr th:only-of-type {\n",
              "        vertical-align: middle;\n",
              "    }\n",
              "\n",
              "    .dataframe tbody tr th {\n",
              "        vertical-align: top;\n",
              "    }\n",
              "\n",
              "    .dataframe thead th {\n",
              "        text-align: right;\n",
              "    }\n",
              "</style>\n",
              "<table border=\"1\" class=\"dataframe\">\n",
              "  <thead>\n",
              "    <tr style=\"text-align: right;\">\n",
              "      <th></th>\n",
              "      <th>hora</th>\n",
              "      <th>gen_eolica_total_mwh</th>\n",
              "      <th>gen_geotermica_total_mwh</th>\n",
              "      <th>gen_hidraulica_total_mwh</th>\n",
              "      <th>gen_solar_total_mwh</th>\n",
              "      <th>gen_termica_total_mwh</th>\n",
              "      <th>cmg_real</th>\n",
              "      <th>cmg_prog</th>\n",
              "      <th>cmg_desv</th>\n",
              "      <th>cmg_desv_pct</th>\n",
              "      <th>n_barras</th>\n",
              "      <th>demanda_mwh</th>\n",
              "      <th>cap_inst_mw</th>\n",
              "    </tr>\n",
              "  </thead>\n",
              "  <tbody>\n",
              "    <tr>\n",
              "      <th>count</th>\n",
              "      <td>112779.000000</td>\n",
              "      <td>0.0</td>\n",
              "      <td>0.0</td>\n",
              "      <td>34184.000000</td>\n",
              "      <td>41818.000000</td>\n",
              "      <td>61863.000000</td>\n",
              "      <td>112779.000000</td>\n",
              "      <td>112779.000000</td>\n",
              "      <td>112779.000000</td>\n",
              "      <td>112779.00</td>\n",
              "      <td>112779.000000</td>\n",
              "      <td>1.127790e+05</td>\n",
              "      <td>112779.000000</td>\n",
              "    </tr>\n",
              "    <tr>\n",
              "      <th>mean</th>\n",
              "      <td>12.502993</td>\n",
              "      <td>NaN</td>\n",
              "      <td>NaN</td>\n",
              "      <td>38.120053</td>\n",
              "      <td>3.764987</td>\n",
              "      <td>40.583146</td>\n",
              "      <td>61.170058</td>\n",
              "      <td>62.215400</td>\n",
              "      <td>-1.045338</td>\n",
              "      <td>inf</td>\n",
              "      <td>2.331844</td>\n",
              "      <td>6.357056e+07</td>\n",
              "      <td>128.719565</td>\n",
              "    </tr>\n",
              "    <tr>\n",
              "      <th>std</th>\n",
              "      <td>6.924090</td>\n",
              "      <td>NaN</td>\n",
              "      <td>NaN</td>\n",
              "      <td>69.838109</td>\n",
              "      <td>12.904388</td>\n",
              "      <td>101.083396</td>\n",
              "      <td>25.414147</td>\n",
              "      <td>25.307759</td>\n",
              "      <td>24.711575</td>\n",
              "      <td>NaN</td>\n",
              "      <td>1.304096</td>\n",
              "      <td>3.948683e+08</td>\n",
              "      <td>167.948649</td>\n",
              "    </tr>\n",
              "    <tr>\n",
              "      <th>min</th>\n",
              "      <td>1.000000</td>\n",
              "      <td>NaN</td>\n",
              "      <td>NaN</td>\n",
              "      <td>0.000000</td>\n",
              "      <td>0.000000</td>\n",
              "      <td>0.000000</td>\n",
              "      <td>0.000000</td>\n",
              "      <td>-1.713131</td>\n",
              "      <td>-562.470000</td>\n",
              "      <td>-3403.97</td>\n",
              "      <td>1.000000</td>\n",
              "      <td>-9.821095e+09</td>\n",
              "      <td>2.989800</td>\n",
              "    </tr>\n",
              "    <tr>\n",
              "      <th>25%</th>\n",
              "      <td>7.000000</td>\n",
              "      <td>NaN</td>\n",
              "      <td>NaN</td>\n",
              "      <td>0.849787</td>\n",
              "      <td>0.000000</td>\n",
              "      <td>0.000000</td>\n",
              "      <td>49.130000</td>\n",
              "      <td>49.906745</td>\n",
              "      <td>-3.790000</td>\n",
              "      <td>-7.07</td>\n",
              "      <td>1.000000</td>\n",
              "      <td>7.464800e+05</td>\n",
              "      <td>18.420000</td>\n",
              "    </tr>\n",
              "    <tr>\n",
              "      <th>50%</th>\n",
              "      <td>13.000000</td>\n",
              "      <td>NaN</td>\n",
              "      <td>NaN</td>\n",
              "      <td>9.600000</td>\n",
              "      <td>0.000000</td>\n",
              "      <td>0.000000</td>\n",
              "      <td>54.610000</td>\n",
              "      <td>55.420601</td>\n",
              "      <td>-0.310000</td>\n",
              "      <td>-0.58</td>\n",
              "      <td>2.000000</td>\n",
              "      <td>4.507282e+06</td>\n",
              "      <td>51.850000</td>\n",
              "    </tr>\n",
              "    <tr>\n",
              "      <th>75%</th>\n",
              "      <td>19.000000</td>\n",
              "      <td>NaN</td>\n",
              "      <td>NaN</td>\n",
              "      <td>40.000000</td>\n",
              "      <td>1.571022</td>\n",
              "      <td>15.960000</td>\n",
              "      <td>63.500000</td>\n",
              "      <td>64.701951</td>\n",
              "      <td>1.670000</td>\n",
              "      <td>2.92</td>\n",
              "      <td>3.000000</td>\n",
              "      <td>1.332345e+07</td>\n",
              "      <td>184.685500</td>\n",
              "    </tr>\n",
              "    <tr>\n",
              "      <th>max</th>\n",
              "      <td>25.000000</td>\n",
              "      <td>NaN</td>\n",
              "      <td>NaN</td>\n",
              "      <td>472.000000</td>\n",
              "      <td>86.050000</td>\n",
              "      <td>570.600800</td>\n",
              "      <td>240.360000</td>\n",
              "      <td>610.600000</td>\n",
              "      <td>175.020000</td>\n",
              "      <td>inf</td>\n",
              "      <td>6.000000</td>\n",
              "      <td>1.004240e+10</td>\n",
              "      <td>597.782800</td>\n",
              "    </tr>\n",
              "  </tbody>\n",
              "</table>\n",
              "</div>"
            ],
            "text/plain": [
              "                hora  gen_eolica_total_mwh  ...   demanda_mwh    cap_inst_mw\n",
              "count  112779.000000                   0.0  ...  1.127790e+05  112779.000000\n",
              "mean       12.502993                   NaN  ...  6.357056e+07     128.719565\n",
              "std         6.924090                   NaN  ...  3.948683e+08     167.948649\n",
              "min         1.000000                   NaN  ... -9.821095e+09       2.989800\n",
              "25%         7.000000                   NaN  ...  7.464800e+05      18.420000\n",
              "50%        13.000000                   NaN  ...  4.507282e+06      51.850000\n",
              "75%        19.000000                   NaN  ...  1.332345e+07     184.685500\n",
              "max        25.000000                   NaN  ...  1.004240e+10     597.782800\n",
              "\n",
              "[8 rows x 13 columns]"
            ]
          },
          "metadata": {
            "tags": []
          },
          "execution_count": 8
        }
      ]
    },
    {
      "cell_type": "code",
      "metadata": {
        "id": "MLNG9miKgvxQ",
        "colab": {
          "base_uri": "https://localhost:8080/",
          "height": 295
        },
        "outputId": "0776314f-96b5-4628-c9b6-302805b46c95"
      },
      "source": [
        "# B) Check missing values\n",
        "base_prediccion.isnull().sum()"
      ],
      "execution_count": null,
      "outputs": [
        {
          "output_type": "execute_result",
          "data": {
            "text/plain": [
              "nemotecnico_se                   0\n",
              "fecha                            0\n",
              "hora                             0\n",
              "gen_eolica_total_mwh        112779\n",
              "gen_geotermica_total_mwh    112779\n",
              "gen_hidraulica_total_mwh     78595\n",
              "gen_solar_total_mwh          70961\n",
              "gen_termica_total_mwh        50916\n",
              "cmg_real                         0\n",
              "cmg_prog                         0\n",
              "cmg_desv                         0\n",
              "cmg_desv_pct                     0\n",
              "n_barras                         0\n",
              "demanda_mwh                      0\n",
              "cap_inst_mw                      0\n",
              "dtype: int64"
            ]
          },
          "metadata": {
            "tags": []
          },
          "execution_count": 82
        }
      ]
    },
    {
      "cell_type": "markdown",
      "metadata": {
        "id": "B2Rs1Wd4hLBv"
      },
      "source": [
        "**Observations:**\n",
        "- All observations in tha variables wind energy and geothermal energy are missing\n",
        "- There is a considerable amount of missing values for hydro, solar and thermal generated energy, 70%, 63% and 45% of the data are missing values (respectively) "
      ]
    },
    {
      "cell_type": "code",
      "metadata": {
        "id": "311yXKLdg0me",
        "colab": {
          "base_uri": "https://localhost:8080/",
          "height": 295
        },
        "outputId": "228a6b8f-e0f7-41bb-bcb8-02837b59ff32"
      },
      "source": [
        "# C) Count the number of cases that a type of energy generated zero mwh's\n",
        "(base_prediccion == 0).sum()"
      ],
      "execution_count": null,
      "outputs": [
        {
          "output_type": "execute_result",
          "data": {
            "text/plain": [
              "nemotecnico_se                  0\n",
              "fecha                           0\n",
              "hora                            0\n",
              "gen_eolica_total_mwh            0\n",
              "gen_geotermica_total_mwh        0\n",
              "gen_hidraulica_total_mwh     5586\n",
              "gen_solar_total_mwh         22716\n",
              "gen_termica_total_mwh       32104\n",
              "cmg_real                     1212\n",
              "cmg_prog                        1\n",
              "cmg_desv                      168\n",
              "cmg_desv_pct                  164\n",
              "n_barras                        0\n",
              "demanda_mwh                  8257\n",
              "cap_inst_mw                     0\n",
              "dtype: int64"
            ]
          },
          "metadata": {
            "tags": []
          },
          "execution_count": 84
        }
      ]
    },
    {
      "cell_type": "markdown",
      "metadata": {
        "id": "TR7dUN4zjtW5"
      },
      "source": [
        "**Observations:** \n",
        "- The \"solar\" and \"thermal\" types of energy have a high number of cases where they generated zero mwh's. About 30% of the data for thermal energy is zero, and about 20% of the data for solar energy is zero\n",
        "- The time period covered by the database is from January to June 2019 \n"
      ]
    },
    {
      "cell_type": "markdown",
      "metadata": {
        "id": "DQPI6bMCoWf7"
      },
      "source": [
        "**4.3. Feature engineering**"
      ]
    },
    {
      "cell_type": "code",
      "metadata": {
        "id": "nxhR2tJhjcGx",
        "colab": {
          "base_uri": "https://localhost:8080/",
          "height": 348
        },
        "outputId": "8bedd6c2-cf48-4d48-8150-0d7b54c9700b"
      },
      "source": [
        "# Create variable year \n",
        "base_prediccion['fecha'] = pd.to_datetime(base_prediccion['fecha']) # convret to datetime data type\n",
        "base_prediccion = base_prediccion.sort_values(['nemotecnico_se','fecha','hora'],ascending=True) # sort\n",
        "base_prediccion['año'] = pd.DatetimeIndex(base_prediccion['fecha']).year\n",
        "# Create variable month\n",
        "base_prediccion['mes'] = pd.DatetimeIndex(base_prediccion['fecha']).month\n",
        "# Create variable week\n",
        "base_prediccion['semana'] = pd.DatetimeIndex(base_prediccion['fecha']).week\n",
        "# Create variable day\n",
        "base_prediccion['day'] = pd.DatetimeIndex(base_prediccion['fecha']).day # números de 0 a 6\n",
        "# Create variable day of the week\n",
        "base_prediccion['dia_semana'] = pd.DatetimeIndex(base_prediccion['fecha']).dayofweek\n",
        "# Create variable that indicates whether it is weekday or weekend\n",
        "base_prediccion['semana_findesemana'] = ((pd.DatetimeIndex(base_prediccion['fecha']).dayofweek) // 5 == 1).astype(float) # 0 if weekday, 1 if weekend\n",
        "\n",
        "base_prediccion.head()"
      ],
      "execution_count": null,
      "outputs": [
        {
          "output_type": "stream",
          "text": [
            "/usr/local/lib/python3.6/dist-packages/ipykernel_launcher.py:8: FutureWarning: weekofyear and week have been deprecated, please use DatetimeIndex.isocalendar().week instead, which returns a Series.  To exactly reproduce the behavior of week and weekofyear and return an Index, you may call pd.Int64Index(idx.isocalendar().week)\n",
            "  \n"
          ],
          "name": "stderr"
        },
        {
          "output_type": "execute_result",
          "data": {
            "text/html": [
              "<div>\n",
              "<style scoped>\n",
              "    .dataframe tbody tr th:only-of-type {\n",
              "        vertical-align: middle;\n",
              "    }\n",
              "\n",
              "    .dataframe tbody tr th {\n",
              "        vertical-align: top;\n",
              "    }\n",
              "\n",
              "    .dataframe thead th {\n",
              "        text-align: right;\n",
              "    }\n",
              "</style>\n",
              "<table border=\"1\" class=\"dataframe\">\n",
              "  <thead>\n",
              "    <tr style=\"text-align: right;\">\n",
              "      <th></th>\n",
              "      <th>nemotecnico_se</th>\n",
              "      <th>fecha</th>\n",
              "      <th>hora</th>\n",
              "      <th>gen_eolica_total_mwh</th>\n",
              "      <th>gen_geotermica_total_mwh</th>\n",
              "      <th>gen_hidraulica_total_mwh</th>\n",
              "      <th>gen_solar_total_mwh</th>\n",
              "      <th>gen_termica_total_mwh</th>\n",
              "      <th>cmg_real</th>\n",
              "      <th>cmg_prog</th>\n",
              "      <th>cmg_desv</th>\n",
              "      <th>cmg_desv_pct</th>\n",
              "      <th>n_barras</th>\n",
              "      <th>demanda_mwh</th>\n",
              "      <th>cap_inst_mw</th>\n",
              "      <th>año</th>\n",
              "      <th>mes</th>\n",
              "      <th>semana</th>\n",
              "      <th>day</th>\n",
              "      <th>dia_semana</th>\n",
              "      <th>semana_findesemana</th>\n",
              "    </tr>\n",
              "  </thead>\n",
              "  <tbody>\n",
              "    <tr>\n",
              "      <th>120</th>\n",
              "      <td>SE001T002</td>\n",
              "      <td>2019-01-01 00:00:00+00:00</td>\n",
              "      <td>1</td>\n",
              "      <td>NaN</td>\n",
              "      <td>NaN</td>\n",
              "      <td>NaN</td>\n",
              "      <td>0.0</td>\n",
              "      <td>0.0</td>\n",
              "      <td>54.03</td>\n",
              "      <td>124.604410</td>\n",
              "      <td>-70.57</td>\n",
              "      <td>-56.64</td>\n",
              "      <td>2</td>\n",
              "      <td>61148556</td>\n",
              "      <td>14.2881</td>\n",
              "      <td>2019</td>\n",
              "      <td>1</td>\n",
              "      <td>1</td>\n",
              "      <td>1</td>\n",
              "      <td>1</td>\n",
              "      <td>0.0</td>\n",
              "    </tr>\n",
              "    <tr>\n",
              "      <th>121</th>\n",
              "      <td>SE001T002</td>\n",
              "      <td>2019-01-01 00:00:00+00:00</td>\n",
              "      <td>2</td>\n",
              "      <td>NaN</td>\n",
              "      <td>NaN</td>\n",
              "      <td>NaN</td>\n",
              "      <td>0.0</td>\n",
              "      <td>0.0</td>\n",
              "      <td>54.03</td>\n",
              "      <td>125.415516</td>\n",
              "      <td>-71.39</td>\n",
              "      <td>-56.92</td>\n",
              "      <td>2</td>\n",
              "      <td>136880002</td>\n",
              "      <td>14.2881</td>\n",
              "      <td>2019</td>\n",
              "      <td>1</td>\n",
              "      <td>1</td>\n",
              "      <td>1</td>\n",
              "      <td>1</td>\n",
              "      <td>0.0</td>\n",
              "    </tr>\n",
              "    <tr>\n",
              "      <th>122</th>\n",
              "      <td>SE001T002</td>\n",
              "      <td>2019-01-01 00:00:00+00:00</td>\n",
              "      <td>3</td>\n",
              "      <td>NaN</td>\n",
              "      <td>NaN</td>\n",
              "      <td>NaN</td>\n",
              "      <td>0.0</td>\n",
              "      <td>0.0</td>\n",
              "      <td>54.03</td>\n",
              "      <td>52.383209</td>\n",
              "      <td>1.65</td>\n",
              "      <td>3.15</td>\n",
              "      <td>2</td>\n",
              "      <td>127833826</td>\n",
              "      <td>14.2881</td>\n",
              "      <td>2019</td>\n",
              "      <td>1</td>\n",
              "      <td>1</td>\n",
              "      <td>1</td>\n",
              "      <td>1</td>\n",
              "      <td>0.0</td>\n",
              "    </tr>\n",
              "    <tr>\n",
              "      <th>123</th>\n",
              "      <td>SE001T002</td>\n",
              "      <td>2019-01-01 00:00:00+00:00</td>\n",
              "      <td>4</td>\n",
              "      <td>NaN</td>\n",
              "      <td>NaN</td>\n",
              "      <td>NaN</td>\n",
              "      <td>0.0</td>\n",
              "      <td>0.0</td>\n",
              "      <td>54.03</td>\n",
              "      <td>53.482023</td>\n",
              "      <td>0.55</td>\n",
              "      <td>1.03</td>\n",
              "      <td>2</td>\n",
              "      <td>133924965</td>\n",
              "      <td>14.2881</td>\n",
              "      <td>2019</td>\n",
              "      <td>1</td>\n",
              "      <td>1</td>\n",
              "      <td>1</td>\n",
              "      <td>1</td>\n",
              "      <td>0.0</td>\n",
              "    </tr>\n",
              "    <tr>\n",
              "      <th>124</th>\n",
              "      <td>SE001T002</td>\n",
              "      <td>2019-01-01 00:00:00+00:00</td>\n",
              "      <td>5</td>\n",
              "      <td>NaN</td>\n",
              "      <td>NaN</td>\n",
              "      <td>NaN</td>\n",
              "      <td>0.0</td>\n",
              "      <td>0.0</td>\n",
              "      <td>54.03</td>\n",
              "      <td>52.260469</td>\n",
              "      <td>1.77</td>\n",
              "      <td>3.39</td>\n",
              "      <td>2</td>\n",
              "      <td>138980453</td>\n",
              "      <td>14.2881</td>\n",
              "      <td>2019</td>\n",
              "      <td>1</td>\n",
              "      <td>1</td>\n",
              "      <td>1</td>\n",
              "      <td>1</td>\n",
              "      <td>0.0</td>\n",
              "    </tr>\n",
              "  </tbody>\n",
              "</table>\n",
              "</div>"
            ],
            "text/plain": [
              "    nemotecnico_se                     fecha  ...  dia_semana  semana_findesemana\n",
              "120      SE001T002 2019-01-01 00:00:00+00:00  ...           1                 0.0\n",
              "121      SE001T002 2019-01-01 00:00:00+00:00  ...           1                 0.0\n",
              "122      SE001T002 2019-01-01 00:00:00+00:00  ...           1                 0.0\n",
              "123      SE001T002 2019-01-01 00:00:00+00:00  ...           1                 0.0\n",
              "124      SE001T002 2019-01-01 00:00:00+00:00  ...           1                 0.0\n",
              "\n",
              "[5 rows x 21 columns]"
            ]
          },
          "metadata": {
            "tags": []
          },
          "execution_count": 12
        }
      ]
    },
    {
      "cell_type": "markdown",
      "metadata": {
        "id": "ha5mefRmpglJ"
      },
      "source": [
        "**4.4. Create a function that visualizes the energy generated in a specific energy station according to a specific type of energy in certain days**"
      ]
    },
    {
      "cell_type": "code",
      "metadata": {
        "id": "sglZVicupmUd"
      },
      "source": [
        "def produccion_energia_diaria_subestacion(codigo_subestacion,var_tipo_de_energia,lista_fechas,data):\n",
        "\n",
        "    data['fecha'] = pd.to_datetime(data['fecha'])  # set fechas as datetime data type\n",
        "\n",
        "    for fecha in lista_fechas:\n",
        "\n",
        "        # select according to subestacion and date\n",
        "        selected_subestacion_fecha = data[(data['nemotecnico_se'] == codigo_subestacion) & (data['fecha'] == fecha)]\n",
        "        selected_subestacion_fecha.index = selected_subestacion_fecha['hora']\n",
        "\n",
        "        # visualize\n",
        "        color_pal = [\"#F8766D\", \"#D39200\", \"#93AA00\", \"#00BA38\", \"#00C19F\", \"#00B9E3\", \"#619CFF\", \"#DB72FB\"] # some design\n",
        "        plt.style.use('fivethirtyeight')\n",
        "        plt.plot(selected_subestacion_fecha['hora'],selected_subestacion_fecha[var_tipo_de_energia],label=fecha)\n",
        "        plt.show()\n",
        "\n",
        "    return\n"
      ],
      "execution_count": null,
      "outputs": []
    },
    {
      "cell_type": "code",
      "metadata": {
        "id": "cY472AANp7Mu",
        "colab": {
          "base_uri": "https://localhost:8080/",
          "height": 1000
        },
        "outputId": "7d53c561-4bc1-484c-d1bd-7f7255f7fefb"
      },
      "source": [
        "# Example: Subestacion SE005T002\n",
        "produccion_energia_diaria_subestacion('SE005T002','gen_solar_total_mwh',['2019/01/11','2019/01/12','2019/01/13','2019/01/14'],base_prediccion)"
      ],
      "execution_count": null,
      "outputs": [
        {
          "output_type": "display_data",
          "data": {
            "image/png": "[encoded data removed]",
            "text/plain": [
              "<Figure size 432x288 with 1 Axes>"
            ]
          },
          "metadata": {
            "tags": []
          }
        },
        {
          "output_type": "display_data",
          "data": {
            "image/png": "[encoded data removed]",
            "text/plain": [
              "<Figure size 432x288 with 1 Axes>"
            ]
          },
          "metadata": {
            "tags": []
          }
        },
        {
          "output_type": "display_data",
          "data": {
            "image/png": "[encoded data removed]",
            "text/plain": [
              "<Figure size 432x288 with 1 Axes>"
            ]
          },
          "metadata": {
            "tags": []
          }
        },
        {
          "output_type": "display_data",
          "data": {
            "image/png": "[encoded data removed]",
            "text/plain": [
              "<Figure size 432x288 with 1 Axes>"
            ]
          },
          "metadata": {
            "tags": []
          }
        }
      ]
    },
    {
      "cell_type": "code",
      "metadata": {
        "id": "9FELALjeqGsC",
        "colab": {
          "base_uri": "https://localhost:8080/",
          "height": 1000
        },
        "outputId": "c2a3f642-e4bb-4e62-fe25-dcc66f881a84"
      },
      "source": [
        "# Example: energy station SE127T005\n",
        "produccion_energia_diaria_subestacion('SE127T005','gen_solar_total_mwh',['2019/01/11','2019/01/12','2019/01/13','2019/01/14'],base_prediccion)"
      ],
      "execution_count": null,
      "outputs": [
        {
          "output_type": "display_data",
          "data": {
            "image/png": "[encoded data removed]",
            "text/plain": [
              "<Figure size 432x288 with 1 Axes>"
            ]
          },
          "metadata": {
            "tags": []
          }
        },
        {
          "output_type": "display_data",
          "data": {
            "image/png": "[encoded data removed]",
            "text/plain": [
              "<Figure size 432x288 with 1 Axes>"
            ]
          },
          "metadata": {
            "tags": []
          }
        },
        {
          "output_type": "display_data",
          "data": {
            "image/png": "[encoded data removed]",
            "text/plain": [
              "<Figure size 432x288 with 1 Axes>"
            ]
          },
          "metadata": {
            "tags": []
          }
        },
        {
          "output_type": "display_data",
          "data": {
            "image/png": "[encoded data removed]",
            "text/plain": [
              "<Figure size 432x288 with 1 Axes>"
            ]
          },
          "metadata": {
            "tags": []
          }
        }
      ]
    },
    {
      "cell_type": "markdown",
      "metadata": {
        "id": "O1q8zmNl8kCi"
      },
      "source": [
        "<a name=\"cell-5.\"></a>\n",
        "# **5. Predict whether the there will be a deviation greater than 15% on the forecasted cost**"
      ]
    },
    {
      "cell_type": "markdown",
      "metadata": {
        "id": "M5LGNyqpfrF1"
      },
      "source": [
        "**Notas:** \n",
        "- The model used is \"extreme gradient boosted decision trees\" through the XGBoost library\n",
        "- This is a classification problem, where 0 is predicted if the deviation is less than 15% and 1 is predicted if the deviation is greater than 15%\"\n",
        "- To avoid data leakage, the variables with which the target variable was built are discarded from the model (actual cost, forecasted cost, and porcentage of deviation)"
      ]
    },
    {
      "cell_type": "markdown",
      "metadata": {
        "id": "XElYwwYH9GyU"
      },
      "source": [
        "**5.1. Feature engineering**\n"
      ]
    },
    {
      "cell_type": "code",
      "metadata": {
        "id": "vpQKZH_X864Q",
        "colab": {
          "base_uri": "https://localhost:8080/",
          "height": 400
        },
        "outputId": "56d5326e-997b-4fbb-e99b-8ac2ce5eb820"
      },
      "source": [
        "# A) Create a variable that identifies if the deviation is greater than 15%\n",
        "base_prediccion['cmg_desv_pct'] = np.sqrt(base_prediccion['cmg_desv_pct']**2)\n",
        "base_prediccion['cmg_desv_cat'] = 0 # create variable\n",
        "base_prediccion.cmg_desv_cat[base_prediccion.cmg_desv_pct > 15] = 1 # 1 if it is grester than 15%\n",
        "\n",
        "# B) Create feature: total energy generation (sum of the types of energy)\n",
        "# check if there are cases where all types of energy are nan's\n",
        "len(base_prediccion[(base_prediccion['gen_hidraulica_total_mwh'] == np.nan) & (base_prediccion['gen_solar_total_mwh'] == np.nan) & (base_prediccion['gen_termica_total_mwh'] == np.nan)]) \n",
        "# sum up (for summing up, we'll consider nan's as zero)\n",
        "base_prediccion['en_total_mwh'] = base_prediccion['gen_hidraulica_total_mwh'].fillna(0) + base_prediccion['gen_solar_total_mwh'].fillna(0) + base_prediccion['gen_termica_total_mwh'].fillna(0) \n",
        "\n",
        "# C) Lag: add as a feature the desv_cat of the day before\n",
        "lag_desv_cat_del_dia_anterior = base_prediccion.iloc[24:,:]\n",
        "lag_desv_cat_del_dia_anterior = lag_desv_cat_del_dia_anterior.reset_index(drop=True)\n",
        "lag_desv_cat_del_dia_anterior = lag_desv_cat_del_dia_anterior['cmg_desv_cat'] # el método para añadir el lag no es preciso 100% pero se acerca bastante a la idea\n",
        "base_prediccion = base_prediccion.iloc[:-24,:]\n",
        "base_prediccion = base_prediccion.reset_index(drop=True)\n",
        "base_prediccion['lag_desv_cat_del_dia_anterior'] = lag_desv_cat_del_dia_anterior\n",
        "\n",
        "# D) Set the names of the subestaciones (nemotecnico_se) as numbers\n",
        "base_prediccion['nemotecnico_se2'] = base_prediccion['nemotecnico_se'].astype('category') # set as category data type\n",
        "base_prediccion['nemotecnico_se2'] = base_prediccion['nemotecnico_se2'].cat.codes # from categories to numbers\n",
        "\n",
        "base_prediccion.head()"
      ],
      "execution_count": null,
      "outputs": [
        {
          "output_type": "stream",
          "text": [
            "/usr/local/lib/python3.6/dist-packages/ipykernel_launcher.py:4: SettingWithCopyWarning: \n",
            "A value is trying to be set on a copy of a slice from a DataFrame\n",
            "\n",
            "See the caveats in the documentation: https://pandas.pydata.org/pandas-docs/stable/user_guide/indexing.html#returning-a-view-versus-a-copy\n",
            "  after removing the cwd from sys.path.\n"
          ],
          "name": "stderr"
        },
        {
          "output_type": "execute_result",
          "data": {
            "text/html": [
              "<div>\n",
              "<style scoped>\n",
              "    .dataframe tbody tr th:only-of-type {\n",
              "        vertical-align: middle;\n",
              "    }\n",
              "\n",
              "    .dataframe tbody tr th {\n",
              "        vertical-align: top;\n",
              "    }\n",
              "\n",
              "    .dataframe thead th {\n",
              "        text-align: right;\n",
              "    }\n",
              "</style>\n",
              "<table border=\"1\" class=\"dataframe\">\n",
              "  <thead>\n",
              "    <tr style=\"text-align: right;\">\n",
              "      <th></th>\n",
              "      <th>nemotecnico_se</th>\n",
              "      <th>fecha</th>\n",
              "      <th>hora</th>\n",
              "      <th>gen_eolica_total_mwh</th>\n",
              "      <th>gen_geotermica_total_mwh</th>\n",
              "      <th>gen_hidraulica_total_mwh</th>\n",
              "      <th>gen_solar_total_mwh</th>\n",
              "      <th>gen_termica_total_mwh</th>\n",
              "      <th>cmg_real</th>\n",
              "      <th>cmg_prog</th>\n",
              "      <th>cmg_desv</th>\n",
              "      <th>cmg_desv_pct</th>\n",
              "      <th>n_barras</th>\n",
              "      <th>demanda_mwh</th>\n",
              "      <th>cap_inst_mw</th>\n",
              "      <th>año</th>\n",
              "      <th>mes</th>\n",
              "      <th>semana</th>\n",
              "      <th>day</th>\n",
              "      <th>dia_semana</th>\n",
              "      <th>semana_findesemana</th>\n",
              "      <th>cmg_desv_cat</th>\n",
              "      <th>en_total_mwh</th>\n",
              "      <th>lag_desv_cat_del_dia_anterior</th>\n",
              "      <th>nemotecnico_se2</th>\n",
              "    </tr>\n",
              "  </thead>\n",
              "  <tbody>\n",
              "    <tr>\n",
              "      <th>0</th>\n",
              "      <td>SE001T002</td>\n",
              "      <td>2019-01-01 00:00:00+00:00</td>\n",
              "      <td>1</td>\n",
              "      <td>NaN</td>\n",
              "      <td>NaN</td>\n",
              "      <td>NaN</td>\n",
              "      <td>0.0</td>\n",
              "      <td>0.0</td>\n",
              "      <td>54.03</td>\n",
              "      <td>124.604410</td>\n",
              "      <td>-70.57</td>\n",
              "      <td>56.64</td>\n",
              "      <td>2</td>\n",
              "      <td>61148556</td>\n",
              "      <td>14.2881</td>\n",
              "      <td>2019</td>\n",
              "      <td>1</td>\n",
              "      <td>1</td>\n",
              "      <td>1</td>\n",
              "      <td>1</td>\n",
              "      <td>0.0</td>\n",
              "      <td>1</td>\n",
              "      <td>0.0</td>\n",
              "      <td>0</td>\n",
              "      <td>0</td>\n",
              "    </tr>\n",
              "    <tr>\n",
              "      <th>1</th>\n",
              "      <td>SE001T002</td>\n",
              "      <td>2019-01-01 00:00:00+00:00</td>\n",
              "      <td>2</td>\n",
              "      <td>NaN</td>\n",
              "      <td>NaN</td>\n",
              "      <td>NaN</td>\n",
              "      <td>0.0</td>\n",
              "      <td>0.0</td>\n",
              "      <td>54.03</td>\n",
              "      <td>125.415516</td>\n",
              "      <td>-71.39</td>\n",
              "      <td>56.92</td>\n",
              "      <td>2</td>\n",
              "      <td>136880002</td>\n",
              "      <td>14.2881</td>\n",
              "      <td>2019</td>\n",
              "      <td>1</td>\n",
              "      <td>1</td>\n",
              "      <td>1</td>\n",
              "      <td>1</td>\n",
              "      <td>0.0</td>\n",
              "      <td>1</td>\n",
              "      <td>0.0</td>\n",
              "      <td>0</td>\n",
              "      <td>0</td>\n",
              "    </tr>\n",
              "    <tr>\n",
              "      <th>2</th>\n",
              "      <td>SE001T002</td>\n",
              "      <td>2019-01-01 00:00:00+00:00</td>\n",
              "      <td>3</td>\n",
              "      <td>NaN</td>\n",
              "      <td>NaN</td>\n",
              "      <td>NaN</td>\n",
              "      <td>0.0</td>\n",
              "      <td>0.0</td>\n",
              "      <td>54.03</td>\n",
              "      <td>52.383209</td>\n",
              "      <td>1.65</td>\n",
              "      <td>3.15</td>\n",
              "      <td>2</td>\n",
              "      <td>127833826</td>\n",
              "      <td>14.2881</td>\n",
              "      <td>2019</td>\n",
              "      <td>1</td>\n",
              "      <td>1</td>\n",
              "      <td>1</td>\n",
              "      <td>1</td>\n",
              "      <td>0.0</td>\n",
              "      <td>0</td>\n",
              "      <td>0.0</td>\n",
              "      <td>0</td>\n",
              "      <td>0</td>\n",
              "    </tr>\n",
              "    <tr>\n",
              "      <th>3</th>\n",
              "      <td>SE001T002</td>\n",
              "      <td>2019-01-01 00:00:00+00:00</td>\n",
              "      <td>4</td>\n",
              "      <td>NaN</td>\n",
              "      <td>NaN</td>\n",
              "      <td>NaN</td>\n",
              "      <td>0.0</td>\n",
              "      <td>0.0</td>\n",
              "      <td>54.03</td>\n",
              "      <td>53.482023</td>\n",
              "      <td>0.55</td>\n",
              "      <td>1.03</td>\n",
              "      <td>2</td>\n",
              "      <td>133924965</td>\n",
              "      <td>14.2881</td>\n",
              "      <td>2019</td>\n",
              "      <td>1</td>\n",
              "      <td>1</td>\n",
              "      <td>1</td>\n",
              "      <td>1</td>\n",
              "      <td>0.0</td>\n",
              "      <td>0</td>\n",
              "      <td>0.0</td>\n",
              "      <td>1</td>\n",
              "      <td>0</td>\n",
              "    </tr>\n",
              "    <tr>\n",
              "      <th>4</th>\n",
              "      <td>SE001T002</td>\n",
              "      <td>2019-01-01 00:00:00+00:00</td>\n",
              "      <td>5</td>\n",
              "      <td>NaN</td>\n",
              "      <td>NaN</td>\n",
              "      <td>NaN</td>\n",
              "      <td>0.0</td>\n",
              "      <td>0.0</td>\n",
              "      <td>54.03</td>\n",
              "      <td>52.260469</td>\n",
              "      <td>1.77</td>\n",
              "      <td>3.39</td>\n",
              "      <td>2</td>\n",
              "      <td>138980453</td>\n",
              "      <td>14.2881</td>\n",
              "      <td>2019</td>\n",
              "      <td>1</td>\n",
              "      <td>1</td>\n",
              "      <td>1</td>\n",
              "      <td>1</td>\n",
              "      <td>0.0</td>\n",
              "      <td>0</td>\n",
              "      <td>0.0</td>\n",
              "      <td>1</td>\n",
              "      <td>0</td>\n",
              "    </tr>\n",
              "  </tbody>\n",
              "</table>\n",
              "</div>"
            ],
            "text/plain": [
              "  nemotecnico_se  ... nemotecnico_se2\n",
              "0      SE001T002  ...               0\n",
              "1      SE001T002  ...               0\n",
              "2      SE001T002  ...               0\n",
              "3      SE001T002  ...               0\n",
              "4      SE001T002  ...               0\n",
              "\n",
              "[5 rows x 25 columns]"
            ]
          },
          "metadata": {
            "tags": []
          },
          "execution_count": 13
        }
      ]
    },
    {
      "cell_type": "markdown",
      "metadata": {
        "id": "-e_QF_7jFiUW"
      },
      "source": [
        "**5.3. Build the model**"
      ]
    },
    {
      "cell_type": "code",
      "metadata": {
        "id": "QkH7nVOKAmg_",
        "colab": {
          "base_uri": "https://localhost:8080/",
          "height": 1000
        },
        "outputId": "f7d8b210-95a8-46b2-bc99-a91a2beeefe5"
      },
      "source": [
        "# A) Split train and test data\n",
        "msk = np.random.rand(len(base_prediccion)) < 0.8\n",
        "data_train = base_prediccion[msk]\n",
        "data_test = base_prediccion[~msk]\n",
        "\n",
        "# B) Identify independent variables\n",
        "X_train = data_train[['nemotecnico_se2','hora','gen_hidraulica_total_mwh','gen_solar_total_mwh','gen_termica_total_mwh',\n",
        "                      'n_barras','demanda_mwh','cap_inst_mw','año','mes','semana','day','dia_semana',\n",
        "                      'semana_findesemana','en_total_mwh','lag_desv_cat_del_dia_anterior']]\n",
        "\n",
        "X_test = data_test[['nemotecnico_se2','hora','gen_hidraulica_total_mwh','gen_solar_total_mwh','gen_termica_total_mwh',\n",
        "                    'n_barras','demanda_mwh','cap_inst_mw','año','mes','semana','day','dia_semana',\n",
        "                    'semana_findesemana','en_total_mwh','lag_desv_cat_del_dia_anterior']]\n",
        "\n",
        "# C) Identify the dependent variable (labels)\n",
        "y_train = data_train['cmg_desv_cat']\n",
        "y_test = data_test['cmg_desv_cat']\n",
        "\n",
        "# D) Build XGBoost model and train it\n",
        "reg = xgb.XGBRegressor(n_estimators=1000)\n",
        "reg.fit(X_train, y_train,\n",
        "        eval_set=[(X_train, y_train), (X_test, y_test)],\n",
        "        early_stopping_rounds=50,\n",
        "        verbose=True)"
      ],
      "execution_count": null,
      "outputs": [
        {
          "output_type": "stream",
          "text": [
            "[09:37:49] WARNING: /workspace/src/objective/regression_obj.cu:152: reg:linear is now deprecated in favor of reg:squarederror.\n",
            "[0]\tvalidation_0-rmse:0.483676\tvalidation_1-rmse:0.48354\n",
            "Multiple eval metrics have been passed: 'validation_1-rmse' will be used for early stopping.\n",
            "\n",
            "Will train until validation_1-rmse hasn't improved in 50 rounds.\n",
            "[1]\tvalidation_0-rmse:0.470016\tvalidation_1-rmse:0.469777\n",
            "[2]\tvalidation_0-rmse:0.458522\tvalidation_1-rmse:0.458176\n",
            "[3]\tvalidation_0-rmse:0.448952\tvalidation_1-rmse:0.448583\n",
            "[4]\tvalidation_0-rmse:0.441018\tvalidation_1-rmse:0.440581\n",
            "[5]\tvalidation_0-rmse:0.434441\tvalidation_1-rmse:0.433912\n",
            "[6]\tvalidation_0-rmse:0.428939\tvalidation_1-rmse:0.428374\n",
            "[7]\tvalidation_0-rmse:0.42433\tvalidation_1-rmse:0.423775\n",
            "[8]\tvalidation_0-rmse:0.420539\tvalidation_1-rmse:0.419981\n",
            "[9]\tvalidation_0-rmse:0.417252\tvalidation_1-rmse:0.416745\n",
            "[10]\tvalidation_0-rmse:0.41454\tvalidation_1-rmse:0.414102\n",
            "[11]\tvalidation_0-rmse:0.412279\tvalidation_1-rmse:0.411798\n",
            "[12]\tvalidation_0-rmse:0.410305\tvalidation_1-rmse:0.409825\n",
            "[13]\tvalidation_0-rmse:0.408685\tvalidation_1-rmse:0.408213\n",
            "[14]\tvalidation_0-rmse:0.407156\tvalidation_1-rmse:0.406675\n",
            "[15]\tvalidation_0-rmse:0.40571\tvalidation_1-rmse:0.405248\n",
            "[16]\tvalidation_0-rmse:0.404419\tvalidation_1-rmse:0.404008\n",
            "[17]\tvalidation_0-rmse:0.403306\tvalidation_1-rmse:0.402918\n",
            "[18]\tvalidation_0-rmse:0.402403\tvalidation_1-rmse:0.402058\n",
            "[19]\tvalidation_0-rmse:0.401539\tvalidation_1-rmse:0.401229\n",
            "[20]\tvalidation_0-rmse:0.400842\tvalidation_1-rmse:0.400559\n",
            "[21]\tvalidation_0-rmse:0.400136\tvalidation_1-rmse:0.399927\n",
            "[22]\tvalidation_0-rmse:0.399464\tvalidation_1-rmse:0.39928\n",
            "[23]\tvalidation_0-rmse:0.398858\tvalidation_1-rmse:0.398704\n",
            "[24]\tvalidation_0-rmse:0.398331\tvalidation_1-rmse:0.398189\n",
            "[25]\tvalidation_0-rmse:0.397788\tvalidation_1-rmse:0.397656\n",
            "[26]\tvalidation_0-rmse:0.397149\tvalidation_1-rmse:0.397008\n",
            "[27]\tvalidation_0-rmse:0.396753\tvalidation_1-rmse:0.396641\n",
            "[28]\tvalidation_0-rmse:0.396303\tvalidation_1-rmse:0.396218\n",
            "[29]\tvalidation_0-rmse:0.395815\tvalidation_1-rmse:0.395714\n",
            "[30]\tvalidation_0-rmse:0.395406\tvalidation_1-rmse:0.395334\n",
            "[31]\tvalidation_0-rmse:0.394886\tvalidation_1-rmse:0.394858\n",
            "[32]\tvalidation_0-rmse:0.394468\tvalidation_1-rmse:0.394429\n",
            "[33]\tvalidation_0-rmse:0.39416\tvalidation_1-rmse:0.394165\n",
            "[34]\tvalidation_0-rmse:0.393854\tvalidation_1-rmse:0.393843\n",
            "[35]\tvalidation_0-rmse:0.393439\tvalidation_1-rmse:0.393418\n",
            "[36]\tvalidation_0-rmse:0.39323\tvalidation_1-rmse:0.39322\n",
            "[37]\tvalidation_0-rmse:0.392978\tvalidation_1-rmse:0.393006\n",
            "[38]\tvalidation_0-rmse:0.392645\tvalidation_1-rmse:0.392668\n",
            "[39]\tvalidation_0-rmse:0.392449\tvalidation_1-rmse:0.392502\n",
            "[40]\tvalidation_0-rmse:0.392251\tvalidation_1-rmse:0.392314\n",
            "[41]\tvalidation_0-rmse:0.391969\tvalidation_1-rmse:0.392042\n",
            "[42]\tvalidation_0-rmse:0.391717\tvalidation_1-rmse:0.391809\n",
            "[43]\tvalidation_0-rmse:0.391467\tvalidation_1-rmse:0.391581\n",
            "[44]\tvalidation_0-rmse:0.391251\tvalidation_1-rmse:0.391353\n",
            "[45]\tvalidation_0-rmse:0.391022\tvalidation_1-rmse:0.391125\n",
            "[46]\tvalidation_0-rmse:0.3908\tvalidation_1-rmse:0.390936\n",
            "[47]\tvalidation_0-rmse:0.390476\tvalidation_1-rmse:0.390634\n",
            "[48]\tvalidation_0-rmse:0.390263\tvalidation_1-rmse:0.390422\n",
            "[49]\tvalidation_0-rmse:0.389965\tvalidation_1-rmse:0.390146\n",
            "[50]\tvalidation_0-rmse:0.389763\tvalidation_1-rmse:0.389958\n",
            "[51]\tvalidation_0-rmse:0.389564\tvalidation_1-rmse:0.389783\n",
            "[52]\tvalidation_0-rmse:0.389305\tvalidation_1-rmse:0.389538\n",
            "[53]\tvalidation_0-rmse:0.389105\tvalidation_1-rmse:0.389361\n",
            "[54]\tvalidation_0-rmse:0.388934\tvalidation_1-rmse:0.389198\n",
            "[55]\tvalidation_0-rmse:0.388699\tvalidation_1-rmse:0.388942\n",
            "[56]\tvalidation_0-rmse:0.388374\tvalidation_1-rmse:0.388642\n",
            "[57]\tvalidation_0-rmse:0.388194\tvalidation_1-rmse:0.388454\n",
            "[58]\tvalidation_0-rmse:0.38805\tvalidation_1-rmse:0.388312\n",
            "[59]\tvalidation_0-rmse:0.387909\tvalidation_1-rmse:0.388163\n",
            "[60]\tvalidation_0-rmse:0.387688\tvalidation_1-rmse:0.387935\n",
            "[61]\tvalidation_0-rmse:0.387515\tvalidation_1-rmse:0.387743\n",
            "[62]\tvalidation_0-rmse:0.387338\tvalidation_1-rmse:0.387568\n",
            "[63]\tvalidation_0-rmse:0.387229\tvalidation_1-rmse:0.387477\n",
            "[64]\tvalidation_0-rmse:0.387095\tvalidation_1-rmse:0.38735\n",
            "[65]\tvalidation_0-rmse:0.386817\tvalidation_1-rmse:0.387098\n",
            "[66]\tvalidation_0-rmse:0.386681\tvalidation_1-rmse:0.386942\n",
            "[67]\tvalidation_0-rmse:0.386557\tvalidation_1-rmse:0.386849\n",
            "[68]\tvalidation_0-rmse:0.386413\tvalidation_1-rmse:0.386721\n",
            "[69]\tvalidation_0-rmse:0.386181\tvalidation_1-rmse:0.386454\n",
            "[70]\tvalidation_0-rmse:0.38604\tvalidation_1-rmse:0.38631\n",
            "[71]\tvalidation_0-rmse:0.385779\tvalidation_1-rmse:0.386043\n",
            "[72]\tvalidation_0-rmse:0.38559\tvalidation_1-rmse:0.385856\n",
            "[73]\tvalidation_0-rmse:0.385537\tvalidation_1-rmse:0.385805\n",
            "[74]\tvalidation_0-rmse:0.385432\tvalidation_1-rmse:0.385734\n",
            "[75]\tvalidation_0-rmse:0.385249\tvalidation_1-rmse:0.385519\n",
            "[76]\tvalidation_0-rmse:0.385133\tvalidation_1-rmse:0.385415\n",
            "[77]\tvalidation_0-rmse:0.384999\tvalidation_1-rmse:0.385265\n",
            "[78]\tvalidation_0-rmse:0.384878\tvalidation_1-rmse:0.385165\n",
            "[79]\tvalidation_0-rmse:0.384764\tvalidation_1-rmse:0.385061\n",
            "[80]\tvalidation_0-rmse:0.384718\tvalidation_1-rmse:0.385023\n",
            "[81]\tvalidation_0-rmse:0.384576\tvalidation_1-rmse:0.384891\n",
            "[82]\tvalidation_0-rmse:0.384418\tvalidation_1-rmse:0.384721\n",
            "[83]\tvalidation_0-rmse:0.384368\tvalidation_1-rmse:0.384666\n",
            "[84]\tvalidation_0-rmse:0.384293\tvalidation_1-rmse:0.38461\n",
            "[85]\tvalidation_0-rmse:0.384121\tvalidation_1-rmse:0.384425\n",
            "[86]\tvalidation_0-rmse:0.384039\tvalidation_1-rmse:0.384345\n",
            "[87]\tvalidation_0-rmse:0.384002\tvalidation_1-rmse:0.38432\n",
            "[88]\tvalidation_0-rmse:0.38387\tvalidation_1-rmse:0.384193\n",
            "[89]\tvalidation_0-rmse:0.383774\tvalidation_1-rmse:0.384075\n",
            "[90]\tvalidation_0-rmse:0.383609\tvalidation_1-rmse:0.383894\n",
            "[91]\tvalidation_0-rmse:0.383481\tvalidation_1-rmse:0.383785\n",
            "[92]\tvalidation_0-rmse:0.38341\tvalidation_1-rmse:0.383739\n",
            "[93]\tvalidation_0-rmse:0.383328\tvalidation_1-rmse:0.383698\n",
            "[94]\tvalidation_0-rmse:0.38329\tvalidation_1-rmse:0.383666\n",
            "[95]\tvalidation_0-rmse:0.383265\tvalidation_1-rmse:0.383656\n",
            "[96]\tvalidation_0-rmse:0.383169\tvalidation_1-rmse:0.383578\n",
            "[97]\tvalidation_0-rmse:0.382969\tvalidation_1-rmse:0.383407\n",
            "[98]\tvalidation_0-rmse:0.382934\tvalidation_1-rmse:0.383385\n",
            "[99]\tvalidation_0-rmse:0.382872\tvalidation_1-rmse:0.383335\n",
            "[100]\tvalidation_0-rmse:0.382734\tvalidation_1-rmse:0.383188\n",
            "[101]\tvalidation_0-rmse:0.382643\tvalidation_1-rmse:0.383105\n",
            "[102]\tvalidation_0-rmse:0.382479\tvalidation_1-rmse:0.382974\n",
            "[103]\tvalidation_0-rmse:0.382372\tvalidation_1-rmse:0.382847\n",
            "[104]\tvalidation_0-rmse:0.382262\tvalidation_1-rmse:0.38274\n",
            "[105]\tvalidation_0-rmse:0.382206\tvalidation_1-rmse:0.382689\n",
            "[106]\tvalidation_0-rmse:0.381997\tvalidation_1-rmse:0.382472\n",
            "[107]\tvalidation_0-rmse:0.381863\tvalidation_1-rmse:0.382371\n",
            "[108]\tvalidation_0-rmse:0.381834\tvalidation_1-rmse:0.38234\n",
            "[109]\tvalidation_0-rmse:0.381801\tvalidation_1-rmse:0.382322\n",
            "[110]\tvalidation_0-rmse:0.381749\tvalidation_1-rmse:0.382292\n",
            "[111]\tvalidation_0-rmse:0.381657\tvalidation_1-rmse:0.382183\n",
            "[112]\tvalidation_0-rmse:0.381586\tvalidation_1-rmse:0.382118\n",
            "[113]\tvalidation_0-rmse:0.381473\tvalidation_1-rmse:0.382028\n",
            "[114]\tvalidation_0-rmse:0.381418\tvalidation_1-rmse:0.382\n",
            "[115]\tvalidation_0-rmse:0.381389\tvalidation_1-rmse:0.381983\n",
            "[116]\tvalidation_0-rmse:0.381275\tvalidation_1-rmse:0.381855\n",
            "[117]\tvalidation_0-rmse:0.381155\tvalidation_1-rmse:0.381743\n",
            "[118]\tvalidation_0-rmse:0.381024\tvalidation_1-rmse:0.381616\n",
            "[119]\tvalidation_0-rmse:0.381001\tvalidation_1-rmse:0.381604\n",
            "[120]\tvalidation_0-rmse:0.380932\tvalidation_1-rmse:0.381536\n",
            "[121]\tvalidation_0-rmse:0.380831\tvalidation_1-rmse:0.381432\n",
            "[122]\tvalidation_0-rmse:0.380613\tvalidation_1-rmse:0.381203\n",
            "[123]\tvalidation_0-rmse:0.380517\tvalidation_1-rmse:0.38111\n",
            "[124]\tvalidation_0-rmse:0.380376\tvalidation_1-rmse:0.380983\n",
            "[125]\tvalidation_0-rmse:0.380315\tvalidation_1-rmse:0.380951\n",
            "[126]\tvalidation_0-rmse:0.380107\tvalidation_1-rmse:0.380768\n",
            "[127]\tvalidation_0-rmse:0.380025\tvalidation_1-rmse:0.380698\n",
            "[128]\tvalidation_0-rmse:0.379949\tvalidation_1-rmse:0.380611\n",
            "[129]\tvalidation_0-rmse:0.379872\tvalidation_1-rmse:0.380525\n",
            "[130]\tvalidation_0-rmse:0.379667\tvalidation_1-rmse:0.38035\n",
            "[131]\tvalidation_0-rmse:0.379628\tvalidation_1-rmse:0.380312\n",
            "[132]\tvalidation_0-rmse:0.379534\tvalidation_1-rmse:0.380239\n",
            "[133]\tvalidation_0-rmse:0.379369\tvalidation_1-rmse:0.380082\n",
            "[134]\tvalidation_0-rmse:0.379314\tvalidation_1-rmse:0.380019\n",
            "[135]\tvalidation_0-rmse:0.379288\tvalidation_1-rmse:0.379984\n",
            "[136]\tvalidation_0-rmse:0.379172\tvalidation_1-rmse:0.379898\n",
            "[137]\tvalidation_0-rmse:0.379022\tvalidation_1-rmse:0.379736\n",
            "[138]\tvalidation_0-rmse:0.378954\tvalidation_1-rmse:0.379686\n",
            "[139]\tvalidation_0-rmse:0.378827\tvalidation_1-rmse:0.379569\n",
            "[140]\tvalidation_0-rmse:0.378733\tvalidation_1-rmse:0.379479\n",
            "[141]\tvalidation_0-rmse:0.378589\tvalidation_1-rmse:0.379349\n",
            "[142]\tvalidation_0-rmse:0.378529\tvalidation_1-rmse:0.379297\n",
            "[143]\tvalidation_0-rmse:0.378443\tvalidation_1-rmse:0.379207\n",
            "[144]\tvalidation_0-rmse:0.378423\tvalidation_1-rmse:0.379195\n",
            "[145]\tvalidation_0-rmse:0.378384\tvalidation_1-rmse:0.379161\n",
            "[146]\tvalidation_0-rmse:0.378246\tvalidation_1-rmse:0.37905\n",
            "[147]\tvalidation_0-rmse:0.378227\tvalidation_1-rmse:0.379034\n",
            "[148]\tvalidation_0-rmse:0.378146\tvalidation_1-rmse:0.378955\n",
            "[149]\tvalidation_0-rmse:0.377961\tvalidation_1-rmse:0.378792\n",
            "[150]\tvalidation_0-rmse:0.377896\tvalidation_1-rmse:0.378733\n",
            "[151]\tvalidation_0-rmse:0.377837\tvalidation_1-rmse:0.378662\n",
            "[152]\tvalidation_0-rmse:0.377801\tvalidation_1-rmse:0.378658\n",
            "[153]\tvalidation_0-rmse:0.377729\tvalidation_1-rmse:0.378594\n",
            "[154]\tvalidation_0-rmse:0.377713\tvalidation_1-rmse:0.378586\n",
            "[155]\tvalidation_0-rmse:0.377636\tvalidation_1-rmse:0.378522\n",
            "[156]\tvalidation_0-rmse:0.377536\tvalidation_1-rmse:0.37842\n",
            "[157]\tvalidation_0-rmse:0.377454\tvalidation_1-rmse:0.378338\n",
            "[158]\tvalidation_0-rmse:0.377385\tvalidation_1-rmse:0.378266\n",
            "[159]\tvalidation_0-rmse:0.377227\tvalidation_1-rmse:0.378128\n",
            "[160]\tvalidation_0-rmse:0.377202\tvalidation_1-rmse:0.378117\n",
            "[161]\tvalidation_0-rmse:0.377159\tvalidation_1-rmse:0.378072\n",
            "[162]\tvalidation_0-rmse:0.377052\tvalidation_1-rmse:0.377977\n",
            "[163]\tvalidation_0-rmse:0.376983\tvalidation_1-rmse:0.377905\n",
            "[164]\tvalidation_0-rmse:0.376959\tvalidation_1-rmse:0.377896\n",
            "[165]\tvalidation_0-rmse:0.376789\tvalidation_1-rmse:0.377737\n",
            "[166]\tvalidation_0-rmse:0.376777\tvalidation_1-rmse:0.377731\n",
            "[167]\tvalidation_0-rmse:0.3767\tvalidation_1-rmse:0.377664\n",
            "[168]\tvalidation_0-rmse:0.376618\tvalidation_1-rmse:0.377593\n",
            "[169]\tvalidation_0-rmse:0.376554\tvalidation_1-rmse:0.37753\n",
            "[170]\tvalidation_0-rmse:0.376547\tvalidation_1-rmse:0.377526\n",
            "[171]\tvalidation_0-rmse:0.376428\tvalidation_1-rmse:0.377407\n",
            "[172]\tvalidation_0-rmse:0.376344\tvalidation_1-rmse:0.377315\n",
            "[173]\tvalidation_0-rmse:0.376208\tvalidation_1-rmse:0.377204\n",
            "[174]\tvalidation_0-rmse:0.376145\tvalidation_1-rmse:0.37714\n",
            "[175]\tvalidation_0-rmse:0.376097\tvalidation_1-rmse:0.377093\n",
            "[176]\tvalidation_0-rmse:0.375992\tvalidation_1-rmse:0.377004\n",
            "[177]\tvalidation_0-rmse:0.375959\tvalidation_1-rmse:0.37698\n",
            "[178]\tvalidation_0-rmse:0.375902\tvalidation_1-rmse:0.376924\n",
            "[179]\tvalidation_0-rmse:0.375891\tvalidation_1-rmse:0.376914\n",
            "[180]\tvalidation_0-rmse:0.375877\tvalidation_1-rmse:0.376901\n",
            "[181]\tvalidation_0-rmse:0.375846\tvalidation_1-rmse:0.37687\n",
            "[182]\tvalidation_0-rmse:0.375748\tvalidation_1-rmse:0.37678\n",
            "[183]\tvalidation_0-rmse:0.375632\tvalidation_1-rmse:0.376685\n",
            "[184]\tvalidation_0-rmse:0.375522\tvalidation_1-rmse:0.376566\n",
            "[185]\tvalidation_0-rmse:0.375449\tvalidation_1-rmse:0.376505\n",
            "[186]\tvalidation_0-rmse:0.37537\tvalidation_1-rmse:0.376425\n",
            "[187]\tvalidation_0-rmse:0.375254\tvalidation_1-rmse:0.376298\n",
            "[188]\tvalidation_0-rmse:0.375128\tvalidation_1-rmse:0.376184\n",
            "[189]\tvalidation_0-rmse:0.375033\tvalidation_1-rmse:0.376097\n",
            "[190]\tvalidation_0-rmse:0.374977\tvalidation_1-rmse:0.376041\n",
            "[191]\tvalidation_0-rmse:0.374858\tvalidation_1-rmse:0.37592\n",
            "[192]\tvalidation_0-rmse:0.374795\tvalidation_1-rmse:0.375876\n",
            "[193]\tvalidation_0-rmse:0.37473\tvalidation_1-rmse:0.375819\n",
            "[194]\tvalidation_0-rmse:0.374649\tvalidation_1-rmse:0.375724\n",
            "[195]\tvalidation_0-rmse:0.374543\tvalidation_1-rmse:0.375633\n",
            "[196]\tvalidation_0-rmse:0.374529\tvalidation_1-rmse:0.375627\n",
            "[197]\tvalidation_0-rmse:0.374516\tvalidation_1-rmse:0.375613\n",
            "[198]\tvalidation_0-rmse:0.374411\tvalidation_1-rmse:0.375508\n",
            "[199]\tvalidation_0-rmse:0.37436\tvalidation_1-rmse:0.375453\n",
            "[200]\tvalidation_0-rmse:0.374263\tvalidation_1-rmse:0.375361\n",
            "[201]\tvalidation_0-rmse:0.374224\tvalidation_1-rmse:0.375346\n",
            "[202]\tvalidation_0-rmse:0.374098\tvalidation_1-rmse:0.37524\n",
            "[203]\tvalidation_0-rmse:0.374038\tvalidation_1-rmse:0.375197\n",
            "[204]\tvalidation_0-rmse:0.373964\tvalidation_1-rmse:0.37511\n",
            "[205]\tvalidation_0-rmse:0.373881\tvalidation_1-rmse:0.375044\n",
            "[206]\tvalidation_0-rmse:0.373804\tvalidation_1-rmse:0.374981\n",
            "[207]\tvalidation_0-rmse:0.373738\tvalidation_1-rmse:0.374926\n",
            "[208]\tvalidation_0-rmse:0.373596\tvalidation_1-rmse:0.374756\n",
            "[209]\tvalidation_0-rmse:0.373519\tvalidation_1-rmse:0.374702\n",
            "[210]\tvalidation_0-rmse:0.373513\tvalidation_1-rmse:0.374701\n",
            "[211]\tvalidation_0-rmse:0.373447\tvalidation_1-rmse:0.374635\n",
            "[212]\tvalidation_0-rmse:0.373433\tvalidation_1-rmse:0.374625\n",
            "[213]\tvalidation_0-rmse:0.373412\tvalidation_1-rmse:0.374608\n",
            "[214]\tvalidation_0-rmse:0.37338\tvalidation_1-rmse:0.374595\n",
            "[215]\tvalidation_0-rmse:0.373256\tvalidation_1-rmse:0.374476\n",
            "[216]\tvalidation_0-rmse:0.373227\tvalidation_1-rmse:0.374465\n",
            "[217]\tvalidation_0-rmse:0.37318\tvalidation_1-rmse:0.374421\n",
            "[218]\tvalidation_0-rmse:0.373125\tvalidation_1-rmse:0.374372\n",
            "[219]\tvalidation_0-rmse:0.37308\tvalidation_1-rmse:0.374328\n",
            "[220]\tvalidation_0-rmse:0.373008\tvalidation_1-rmse:0.374258\n",
            "[221]\tvalidation_0-rmse:0.372954\tvalidation_1-rmse:0.374215\n",
            "[222]\tvalidation_0-rmse:0.372851\tvalidation_1-rmse:0.374122\n",
            "[223]\tvalidation_0-rmse:0.372791\tvalidation_1-rmse:0.374083\n",
            "[224]\tvalidation_0-rmse:0.372761\tvalidation_1-rmse:0.374056\n",
            "[225]\tvalidation_0-rmse:0.372718\tvalidation_1-rmse:0.374015\n",
            "[226]\tvalidation_0-rmse:0.372601\tvalidation_1-rmse:0.373918\n",
            "[227]\tvalidation_0-rmse:0.372562\tvalidation_1-rmse:0.373874\n",
            "[228]\tvalidation_0-rmse:0.372518\tvalidation_1-rmse:0.373834\n",
            "[229]\tvalidation_0-rmse:0.372494\tvalidation_1-rmse:0.373829\n",
            "[230]\tvalidation_0-rmse:0.372405\tvalidation_1-rmse:0.373736\n",
            "[231]\tvalidation_0-rmse:0.372289\tvalidation_1-rmse:0.373589\n",
            "[232]\tvalidation_0-rmse:0.372209\tvalidation_1-rmse:0.373514\n",
            "[233]\tvalidation_0-rmse:0.372201\tvalidation_1-rmse:0.373516\n",
            "[234]\tvalidation_0-rmse:0.372189\tvalidation_1-rmse:0.373506\n",
            "[235]\tvalidation_0-rmse:0.372155\tvalidation_1-rmse:0.373488\n",
            "[236]\tvalidation_0-rmse:0.372131\tvalidation_1-rmse:0.373469\n",
            "[237]\tvalidation_0-rmse:0.372092\tvalidation_1-rmse:0.373446\n",
            "[238]\tvalidation_0-rmse:0.37204\tvalidation_1-rmse:0.373411\n",
            "[239]\tvalidation_0-rmse:0.371982\tvalidation_1-rmse:0.373375\n",
            "[240]\tvalidation_0-rmse:0.371945\tvalidation_1-rmse:0.373341\n",
            "[241]\tvalidation_0-rmse:0.371928\tvalidation_1-rmse:0.373339\n",
            "[242]\tvalidation_0-rmse:0.371876\tvalidation_1-rmse:0.373299\n",
            "[243]\tvalidation_0-rmse:0.371844\tvalidation_1-rmse:0.373271\n",
            "[244]\tvalidation_0-rmse:0.371786\tvalidation_1-rmse:0.373204\n",
            "[245]\tvalidation_0-rmse:0.371741\tvalidation_1-rmse:0.373162\n",
            "[246]\tvalidation_0-rmse:0.37172\tvalidation_1-rmse:0.373167\n",
            "[247]\tvalidation_0-rmse:0.371686\tvalidation_1-rmse:0.373146\n",
            "[248]\tvalidation_0-rmse:0.371591\tvalidation_1-rmse:0.373071\n",
            "[249]\tvalidation_0-rmse:0.371578\tvalidation_1-rmse:0.373056\n",
            "[250]\tvalidation_0-rmse:0.371564\tvalidation_1-rmse:0.37305\n",
            "[251]\tvalidation_0-rmse:0.371545\tvalidation_1-rmse:0.373037\n",
            "[252]\tvalidation_0-rmse:0.371539\tvalidation_1-rmse:0.373041\n",
            "[253]\tvalidation_0-rmse:0.371473\tvalidation_1-rmse:0.372979\n",
            "[254]\tvalidation_0-rmse:0.371376\tvalidation_1-rmse:0.372866\n",
            "[255]\tvalidation_0-rmse:0.371263\tvalidation_1-rmse:0.372736\n",
            "[256]\tvalidation_0-rmse:0.371214\tvalidation_1-rmse:0.372696\n",
            "[257]\tvalidation_0-rmse:0.371204\tvalidation_1-rmse:0.372695\n",
            "[258]\tvalidation_0-rmse:0.371193\tvalidation_1-rmse:0.37269\n",
            "[259]\tvalidation_0-rmse:0.371176\tvalidation_1-rmse:0.372686\n",
            "[260]\tvalidation_0-rmse:0.371126\tvalidation_1-rmse:0.372639\n",
            "[261]\tvalidation_0-rmse:0.371064\tvalidation_1-rmse:0.372587\n",
            "[262]\tvalidation_0-rmse:0.37099\tvalidation_1-rmse:0.372509\n",
            "[263]\tvalidation_0-rmse:0.370943\tvalidation_1-rmse:0.372473\n",
            "[264]\tvalidation_0-rmse:0.370886\tvalidation_1-rmse:0.37241\n",
            "[265]\tvalidation_0-rmse:0.37082\tvalidation_1-rmse:0.372341\n",
            "[266]\tvalidation_0-rmse:0.370793\tvalidation_1-rmse:0.37233\n",
            "[267]\tvalidation_0-rmse:0.370747\tvalidation_1-rmse:0.372302\n",
            "[268]\tvalidation_0-rmse:0.370689\tvalidation_1-rmse:0.372244\n",
            "[269]\tvalidation_0-rmse:0.37061\tvalidation_1-rmse:0.372181\n",
            "[270]\tvalidation_0-rmse:0.370579\tvalidation_1-rmse:0.372141\n",
            "[271]\tvalidation_0-rmse:0.37053\tvalidation_1-rmse:0.372088\n",
            "[272]\tvalidation_0-rmse:0.370488\tvalidation_1-rmse:0.372053\n",
            "[273]\tvalidation_0-rmse:0.37047\tvalidation_1-rmse:0.372042\n",
            "[274]\tvalidation_0-rmse:0.370429\tvalidation_1-rmse:0.371998\n",
            "[275]\tvalidation_0-rmse:0.370393\tvalidation_1-rmse:0.371978\n",
            "[276]\tvalidation_0-rmse:0.370331\tvalidation_1-rmse:0.371926\n",
            "[277]\tvalidation_0-rmse:0.370278\tvalidation_1-rmse:0.371859\n",
            "[278]\tvalidation_0-rmse:0.370237\tvalidation_1-rmse:0.371824\n",
            "[279]\tvalidation_0-rmse:0.370194\tvalidation_1-rmse:0.37179\n",
            "[280]\tvalidation_0-rmse:0.370143\tvalidation_1-rmse:0.371758\n",
            "[281]\tvalidation_0-rmse:0.370089\tvalidation_1-rmse:0.371717\n",
            "[282]\tvalidation_0-rmse:0.370026\tvalidation_1-rmse:0.371663\n",
            "[283]\tvalidation_0-rmse:0.369968\tvalidation_1-rmse:0.37163\n",
            "[284]\tvalidation_0-rmse:0.369942\tvalidation_1-rmse:0.371616\n",
            "[285]\tvalidation_0-rmse:0.369898\tvalidation_1-rmse:0.371582\n",
            "[286]\tvalidation_0-rmse:0.369865\tvalidation_1-rmse:0.371554\n",
            "[287]\tvalidation_0-rmse:0.369779\tvalidation_1-rmse:0.371458\n",
            "[288]\tvalidation_0-rmse:0.369734\tvalidation_1-rmse:0.371402\n",
            "[289]\tvalidation_0-rmse:0.369658\tvalidation_1-rmse:0.37131\n",
            "[290]\tvalidation_0-rmse:0.369611\tvalidation_1-rmse:0.371274\n",
            "[291]\tvalidation_0-rmse:0.369602\tvalidation_1-rmse:0.371271\n",
            "[292]\tvalidation_0-rmse:0.369594\tvalidation_1-rmse:0.37127\n",
            "[293]\tvalidation_0-rmse:0.369537\tvalidation_1-rmse:0.371208\n",
            "[294]\tvalidation_0-rmse:0.369485\tvalidation_1-rmse:0.371159\n",
            "[295]\tvalidation_0-rmse:0.369424\tvalidation_1-rmse:0.371129\n",
            "[296]\tvalidation_0-rmse:0.369406\tvalidation_1-rmse:0.37112\n",
            "[297]\tvalidation_0-rmse:0.369345\tvalidation_1-rmse:0.371047\n",
            "[298]\tvalidation_0-rmse:0.369307\tvalidation_1-rmse:0.371022\n",
            "[299]\tvalidation_0-rmse:0.369259\tvalidation_1-rmse:0.370989\n",
            "[300]\tvalidation_0-rmse:0.369222\tvalidation_1-rmse:0.370964\n",
            "[301]\tvalidation_0-rmse:0.369213\tvalidation_1-rmse:0.370963\n",
            "[302]\tvalidation_0-rmse:0.36916\tvalidation_1-rmse:0.370912\n",
            "[303]\tvalidation_0-rmse:0.36914\tvalidation_1-rmse:0.37091\n",
            "[304]\tvalidation_0-rmse:0.369133\tvalidation_1-rmse:0.370904\n",
            "[305]\tvalidation_0-rmse:0.369122\tvalidation_1-rmse:0.370897\n",
            "[306]\tvalidation_0-rmse:0.369094\tvalidation_1-rmse:0.370883\n",
            "[307]\tvalidation_0-rmse:0.369087\tvalidation_1-rmse:0.370883\n",
            "[308]\tvalidation_0-rmse:0.369039\tvalidation_1-rmse:0.37084\n",
            "[309]\tvalidation_0-rmse:0.369027\tvalidation_1-rmse:0.370826\n",
            "[310]\tvalidation_0-rmse:0.368989\tvalidation_1-rmse:0.370792\n",
            "[311]\tvalidation_0-rmse:0.368981\tvalidation_1-rmse:0.370788\n",
            "[312]\tvalidation_0-rmse:0.368959\tvalidation_1-rmse:0.370763\n",
            "[313]\tvalidation_0-rmse:0.368941\tvalidation_1-rmse:0.370741\n",
            "[314]\tvalidation_0-rmse:0.368907\tvalidation_1-rmse:0.370725\n",
            "[315]\tvalidation_0-rmse:0.368893\tvalidation_1-rmse:0.370724\n",
            "[316]\tvalidation_0-rmse:0.368872\tvalidation_1-rmse:0.370713\n",
            "[317]\tvalidation_0-rmse:0.368833\tvalidation_1-rmse:0.370692\n",
            "[318]\tvalidation_0-rmse:0.368784\tvalidation_1-rmse:0.370665\n",
            "[319]\tvalidation_0-rmse:0.368751\tvalidation_1-rmse:0.370632\n",
            "[320]\tvalidation_0-rmse:0.368708\tvalidation_1-rmse:0.370596\n",
            "[321]\tvalidation_0-rmse:0.368656\tvalidation_1-rmse:0.370552\n",
            "[322]\tvalidation_0-rmse:0.368615\tvalidation_1-rmse:0.370524\n",
            "[323]\tvalidation_0-rmse:0.368546\tvalidation_1-rmse:0.370451\n",
            "[324]\tvalidation_0-rmse:0.368504\tvalidation_1-rmse:0.370422\n",
            "[325]\tvalidation_0-rmse:0.368461\tvalidation_1-rmse:0.3704\n",
            "[326]\tvalidation_0-rmse:0.368414\tvalidation_1-rmse:0.370361\n",
            "[327]\tvalidation_0-rmse:0.368377\tvalidation_1-rmse:0.370324\n",
            "[328]\tvalidation_0-rmse:0.368314\tvalidation_1-rmse:0.370261\n",
            "[329]\tvalidation_0-rmse:0.368294\tvalidation_1-rmse:0.370241\n",
            "[330]\tvalidation_0-rmse:0.368233\tvalidation_1-rmse:0.370188\n",
            "[331]\tvalidation_0-rmse:0.368214\tvalidation_1-rmse:0.370185\n",
            "[332]\tvalidation_0-rmse:0.368187\tvalidation_1-rmse:0.370161\n",
            "[333]\tvalidation_0-rmse:0.368134\tvalidation_1-rmse:0.370112\n",
            "[334]\tvalidation_0-rmse:0.368076\tvalidation_1-rmse:0.370047\n",
            "[335]\tvalidation_0-rmse:0.368023\tvalidation_1-rmse:0.370022\n",
            "[336]\tvalidation_0-rmse:0.368008\tvalidation_1-rmse:0.37001\n",
            "[337]\tvalidation_0-rmse:0.367979\tvalidation_1-rmse:0.369982\n",
            "[338]\tvalidation_0-rmse:0.367942\tvalidation_1-rmse:0.369941\n",
            "[339]\tvalidation_0-rmse:0.367913\tvalidation_1-rmse:0.36992\n",
            "[340]\tvalidation_0-rmse:0.367905\tvalidation_1-rmse:0.369917\n",
            "[341]\tvalidation_0-rmse:0.367893\tvalidation_1-rmse:0.369906\n",
            "[342]\tvalidation_0-rmse:0.367885\tvalidation_1-rmse:0.369904\n",
            "[343]\tvalidation_0-rmse:0.367843\tvalidation_1-rmse:0.369867\n",
            "[344]\tvalidation_0-rmse:0.367821\tvalidation_1-rmse:0.369854\n",
            "[345]\tvalidation_0-rmse:0.367782\tvalidation_1-rmse:0.369831\n",
            "[346]\tvalidation_0-rmse:0.367746\tvalidation_1-rmse:0.369813\n",
            "[347]\tvalidation_0-rmse:0.367738\tvalidation_1-rmse:0.36981\n",
            "[348]\tvalidation_0-rmse:0.367704\tvalidation_1-rmse:0.369771\n",
            "[349]\tvalidation_0-rmse:0.367659\tvalidation_1-rmse:0.369733\n",
            "[350]\tvalidation_0-rmse:0.367645\tvalidation_1-rmse:0.369718\n",
            "[351]\tvalidation_0-rmse:0.367639\tvalidation_1-rmse:0.369722\n",
            "[352]\tvalidation_0-rmse:0.367601\tvalidation_1-rmse:0.369688\n",
            "[353]\tvalidation_0-rmse:0.367571\tvalidation_1-rmse:0.36967\n",
            "[354]\tvalidation_0-rmse:0.367556\tvalidation_1-rmse:0.369664\n",
            "[355]\tvalidation_0-rmse:0.367535\tvalidation_1-rmse:0.369654\n",
            "[356]\tvalidation_0-rmse:0.367523\tvalidation_1-rmse:0.369653\n",
            "[357]\tvalidation_0-rmse:0.367514\tvalidation_1-rmse:0.36965\n",
            "[358]\tvalidation_0-rmse:0.367493\tvalidation_1-rmse:0.369633\n",
            "[359]\tvalidation_0-rmse:0.367472\tvalidation_1-rmse:0.369618\n",
            "[360]\tvalidation_0-rmse:0.367419\tvalidation_1-rmse:0.369567\n",
            "[361]\tvalidation_0-rmse:0.367386\tvalidation_1-rmse:0.369541\n",
            "[362]\tvalidation_0-rmse:0.367367\tvalidation_1-rmse:0.369529\n",
            "[363]\tvalidation_0-rmse:0.367319\tvalidation_1-rmse:0.369476\n",
            "[364]\tvalidation_0-rmse:0.367281\tvalidation_1-rmse:0.369449\n",
            "[365]\tvalidation_0-rmse:0.36725\tvalidation_1-rmse:0.36941\n",
            "[366]\tvalidation_0-rmse:0.367217\tvalidation_1-rmse:0.369379\n",
            "[367]\tvalidation_0-rmse:0.367175\tvalidation_1-rmse:0.369346\n",
            "[368]\tvalidation_0-rmse:0.367151\tvalidation_1-rmse:0.369336\n",
            "[369]\tvalidation_0-rmse:0.367148\tvalidation_1-rmse:0.369337\n",
            "[370]\tvalidation_0-rmse:0.367125\tvalidation_1-rmse:0.36932\n",
            "[371]\tvalidation_0-rmse:0.367058\tvalidation_1-rmse:0.369264\n",
            "[372]\tvalidation_0-rmse:0.367049\tvalidation_1-rmse:0.369256\n",
            "[373]\tvalidation_0-rmse:0.366991\tvalidation_1-rmse:0.369202\n",
            "[374]\tvalidation_0-rmse:0.366895\tvalidation_1-rmse:0.369108\n",
            "[375]\tvalidation_0-rmse:0.366841\tvalidation_1-rmse:0.369073\n",
            "[376]\tvalidation_0-rmse:0.366809\tvalidation_1-rmse:0.369037\n",
            "[377]\tvalidation_0-rmse:0.366762\tvalidation_1-rmse:0.368992\n",
            "[378]\tvalidation_0-rmse:0.36674\tvalidation_1-rmse:0.368976\n",
            "[379]\tvalidation_0-rmse:0.366697\tvalidation_1-rmse:0.368927\n",
            "[380]\tvalidation_0-rmse:0.36666\tvalidation_1-rmse:0.368896\n",
            "[381]\tvalidation_0-rmse:0.366642\tvalidation_1-rmse:0.368883\n",
            "[382]\tvalidation_0-rmse:0.366606\tvalidation_1-rmse:0.36885\n",
            "[383]\tvalidation_0-rmse:0.366582\tvalidation_1-rmse:0.368836\n",
            "[384]\tvalidation_0-rmse:0.366565\tvalidation_1-rmse:0.368823\n",
            "[385]\tvalidation_0-rmse:0.366537\tvalidation_1-rmse:0.368805\n",
            "[386]\tvalidation_0-rmse:0.366486\tvalidation_1-rmse:0.368766\n",
            "[387]\tvalidation_0-rmse:0.366464\tvalidation_1-rmse:0.368749\n",
            "[388]\tvalidation_0-rmse:0.366445\tvalidation_1-rmse:0.368743\n",
            "[389]\tvalidation_0-rmse:0.366422\tvalidation_1-rmse:0.368733\n",
            "[390]\tvalidation_0-rmse:0.366397\tvalidation_1-rmse:0.368708\n",
            "[391]\tvalidation_0-rmse:0.366364\tvalidation_1-rmse:0.368698\n",
            "[392]\tvalidation_0-rmse:0.366357\tvalidation_1-rmse:0.368694\n",
            "[393]\tvalidation_0-rmse:0.366346\tvalidation_1-rmse:0.368689\n",
            "[394]\tvalidation_0-rmse:0.366303\tvalidation_1-rmse:0.368643\n",
            "[395]\tvalidation_0-rmse:0.366272\tvalidation_1-rmse:0.36861\n",
            "[396]\tvalidation_0-rmse:0.366266\tvalidation_1-rmse:0.368611\n",
            "[397]\tvalidation_0-rmse:0.366229\tvalidation_1-rmse:0.368592\n",
            "[398]\tvalidation_0-rmse:0.36616\tvalidation_1-rmse:0.36853\n",
            "[399]\tvalidation_0-rmse:0.366141\tvalidation_1-rmse:0.368521\n",
            "[400]\tvalidation_0-rmse:0.36613\tvalidation_1-rmse:0.368507\n",
            "[401]\tvalidation_0-rmse:0.366113\tvalidation_1-rmse:0.368494\n",
            "[402]\tvalidation_0-rmse:0.366084\tvalidation_1-rmse:0.368487\n",
            "[403]\tvalidation_0-rmse:0.366047\tvalidation_1-rmse:0.368444\n",
            "[404]\tvalidation_0-rmse:0.365977\tvalidation_1-rmse:0.368378\n",
            "[405]\tvalidation_0-rmse:0.365901\tvalidation_1-rmse:0.368307\n",
            "[406]\tvalidation_0-rmse:0.365816\tvalidation_1-rmse:0.368237\n",
            "[407]\tvalidation_0-rmse:0.36575\tvalidation_1-rmse:0.368195\n",
            "[408]\tvalidation_0-rmse:0.365705\tvalidation_1-rmse:0.368163\n",
            "[409]\tvalidation_0-rmse:0.365681\tvalidation_1-rmse:0.368147\n",
            "[410]\tvalidation_0-rmse:0.365675\tvalidation_1-rmse:0.368144\n",
            "[411]\tvalidation_0-rmse:0.365653\tvalidation_1-rmse:0.368131\n",
            "[412]\tvalidation_0-rmse:0.36564\tvalidation_1-rmse:0.368122\n",
            "[413]\tvalidation_0-rmse:0.365609\tvalidation_1-rmse:0.368086\n",
            "[414]\tvalidation_0-rmse:0.365586\tvalidation_1-rmse:0.368076\n",
            "[415]\tvalidation_0-rmse:0.36554\tvalidation_1-rmse:0.36803\n",
            "[416]\tvalidation_0-rmse:0.365424\tvalidation_1-rmse:0.367903\n",
            "[417]\tvalidation_0-rmse:0.36531\tvalidation_1-rmse:0.367807\n",
            "[418]\tvalidation_0-rmse:0.365259\tvalidation_1-rmse:0.367757\n",
            "[419]\tvalidation_0-rmse:0.365222\tvalidation_1-rmse:0.367727\n",
            "[420]\tvalidation_0-rmse:0.365191\tvalidation_1-rmse:0.367708\n",
            "[421]\tvalidation_0-rmse:0.365163\tvalidation_1-rmse:0.367683\n",
            "[422]\tvalidation_0-rmse:0.365137\tvalidation_1-rmse:0.367666\n",
            "[423]\tvalidation_0-rmse:0.365101\tvalidation_1-rmse:0.367628\n",
            "[424]\tvalidation_0-rmse:0.365096\tvalidation_1-rmse:0.367628\n",
            "[425]\tvalidation_0-rmse:0.36509\tvalidation_1-rmse:0.367627\n",
            "[426]\tvalidation_0-rmse:0.365079\tvalidation_1-rmse:0.367627\n",
            "[427]\tvalidation_0-rmse:0.365038\tvalidation_1-rmse:0.3676\n",
            "[428]\tvalidation_0-rmse:0.365014\tvalidation_1-rmse:0.367599\n",
            "[429]\tvalidation_0-rmse:0.364992\tvalidation_1-rmse:0.367574\n",
            "[430]\tvalidation_0-rmse:0.364909\tvalidation_1-rmse:0.3675\n",
            "[431]\tvalidation_0-rmse:0.364887\tvalidation_1-rmse:0.367496\n",
            "[432]\tvalidation_0-rmse:0.36484\tvalidation_1-rmse:0.367451\n",
            "[433]\tvalidation_0-rmse:0.364812\tvalidation_1-rmse:0.367429\n",
            "[434]\tvalidation_0-rmse:0.36481\tvalidation_1-rmse:0.36743\n",
            "[435]\tvalidation_0-rmse:0.364795\tvalidation_1-rmse:0.367423\n",
            "[436]\tvalidation_0-rmse:0.364777\tvalidation_1-rmse:0.367403\n",
            "[437]\tvalidation_0-rmse:0.364745\tvalidation_1-rmse:0.367387\n",
            "[438]\tvalidation_0-rmse:0.364718\tvalidation_1-rmse:0.367373\n",
            "[439]\tvalidation_0-rmse:0.364684\tvalidation_1-rmse:0.367357\n",
            "[440]\tvalidation_0-rmse:0.364658\tvalidation_1-rmse:0.367345\n",
            "[441]\tvalidation_0-rmse:0.364639\tvalidation_1-rmse:0.36733\n",
            "[442]\tvalidation_0-rmse:0.364625\tvalidation_1-rmse:0.367325\n",
            "[443]\tvalidation_0-rmse:0.364609\tvalidation_1-rmse:0.367309\n",
            "[444]\tvalidation_0-rmse:0.364575\tvalidation_1-rmse:0.367256\n",
            "[445]\tvalidation_0-rmse:0.364496\tvalidation_1-rmse:0.367176\n",
            "[446]\tvalidation_0-rmse:0.364479\tvalidation_1-rmse:0.367175\n",
            "[447]\tvalidation_0-rmse:0.364463\tvalidation_1-rmse:0.367166\n",
            "[448]\tvalidation_0-rmse:0.364396\tvalidation_1-rmse:0.367088\n",
            "[449]\tvalidation_0-rmse:0.364346\tvalidation_1-rmse:0.367045\n",
            "[450]\tvalidation_0-rmse:0.364307\tvalidation_1-rmse:0.36702\n",
            "[451]\tvalidation_0-rmse:0.364266\tvalidation_1-rmse:0.367016\n",
            "[452]\tvalidation_0-rmse:0.364227\tvalidation_1-rmse:0.367006\n",
            "[453]\tvalidation_0-rmse:0.364213\tvalidation_1-rmse:0.367005\n",
            "[454]\tvalidation_0-rmse:0.364174\tvalidation_1-rmse:0.366965\n",
            "[455]\tvalidation_0-rmse:0.364129\tvalidation_1-rmse:0.366918\n",
            "[456]\tvalidation_0-rmse:0.364111\tvalidation_1-rmse:0.3669\n",
            "[457]\tvalidation_0-rmse:0.364013\tvalidation_1-rmse:0.366783\n",
            "[458]\tvalidation_0-rmse:0.363916\tvalidation_1-rmse:0.366675\n",
            "[459]\tvalidation_0-rmse:0.363847\tvalidation_1-rmse:0.366605\n",
            "[460]\tvalidation_0-rmse:0.36379\tvalidation_1-rmse:0.366567\n",
            "[461]\tvalidation_0-rmse:0.363719\tvalidation_1-rmse:0.366466\n",
            "[462]\tvalidation_0-rmse:0.363667\tvalidation_1-rmse:0.366416\n",
            "[463]\tvalidation_0-rmse:0.363646\tvalidation_1-rmse:0.366406\n",
            "[464]\tvalidation_0-rmse:0.363615\tvalidation_1-rmse:0.366374\n",
            "[465]\tvalidation_0-rmse:0.363563\tvalidation_1-rmse:0.366309\n",
            "[466]\tvalidation_0-rmse:0.363538\tvalidation_1-rmse:0.366291\n",
            "[467]\tvalidation_0-rmse:0.363528\tvalidation_1-rmse:0.366293\n",
            "[468]\tvalidation_0-rmse:0.363524\tvalidation_1-rmse:0.366286\n",
            "[469]\tvalidation_0-rmse:0.363511\tvalidation_1-rmse:0.366272\n",
            "[470]\tvalidation_0-rmse:0.363499\tvalidation_1-rmse:0.366268\n",
            "[471]\tvalidation_0-rmse:0.363488\tvalidation_1-rmse:0.36626\n",
            "[472]\tvalidation_0-rmse:0.363463\tvalidation_1-rmse:0.366253\n",
            "[473]\tvalidation_0-rmse:0.363412\tvalidation_1-rmse:0.366206\n",
            "[474]\tvalidation_0-rmse:0.363402\tvalidation_1-rmse:0.366213\n",
            "[475]\tvalidation_0-rmse:0.363371\tvalidation_1-rmse:0.36621\n",
            "[476]\tvalidation_0-rmse:0.363357\tvalidation_1-rmse:0.366209\n",
            "[477]\tvalidation_0-rmse:0.363332\tvalidation_1-rmse:0.366194\n",
            "[478]\tvalidation_0-rmse:0.363269\tvalidation_1-rmse:0.366109\n",
            "[479]\tvalidation_0-rmse:0.363231\tvalidation_1-rmse:0.366056\n",
            "[480]\tvalidation_0-rmse:0.363194\tvalidation_1-rmse:0.366022\n",
            "[481]\tvalidation_0-rmse:0.363112\tvalidation_1-rmse:0.365947\n",
            "[482]\tvalidation_0-rmse:0.363072\tvalidation_1-rmse:0.36591\n",
            "[483]\tvalidation_0-rmse:0.36302\tvalidation_1-rmse:0.365845\n",
            "[484]\tvalidation_0-rmse:0.362978\tvalidation_1-rmse:0.365801\n",
            "[485]\tvalidation_0-rmse:0.362907\tvalidation_1-rmse:0.365737\n",
            "[486]\tvalidation_0-rmse:0.362882\tvalidation_1-rmse:0.365728\n",
            "[487]\tvalidation_0-rmse:0.362846\tvalidation_1-rmse:0.365728\n",
            "[488]\tvalidation_0-rmse:0.362817\tvalidation_1-rmse:0.365714\n",
            "[489]\tvalidation_0-rmse:0.362756\tvalidation_1-rmse:0.365664\n",
            "[490]\tvalidation_0-rmse:0.362652\tvalidation_1-rmse:0.365555\n",
            "[491]\tvalidation_0-rmse:0.362623\tvalidation_1-rmse:0.365524\n",
            "[492]\tvalidation_0-rmse:0.362589\tvalidation_1-rmse:0.365519\n",
            "[493]\tvalidation_0-rmse:0.362532\tvalidation_1-rmse:0.36548\n",
            "[494]\tvalidation_0-rmse:0.362503\tvalidation_1-rmse:0.365465\n",
            "[495]\tvalidation_0-rmse:0.362489\tvalidation_1-rmse:0.365453\n",
            "[496]\tvalidation_0-rmse:0.362472\tvalidation_1-rmse:0.365443\n",
            "[497]\tvalidation_0-rmse:0.362448\tvalidation_1-rmse:0.365426\n",
            "[498]\tvalidation_0-rmse:0.362416\tvalidation_1-rmse:0.365423\n",
            "[499]\tvalidation_0-rmse:0.362396\tvalidation_1-rmse:0.36542\n",
            "[500]\tvalidation_0-rmse:0.362372\tvalidation_1-rmse:0.365405\n",
            "[501]\tvalidation_0-rmse:0.362345\tvalidation_1-rmse:0.365386\n",
            "[502]\tvalidation_0-rmse:0.362321\tvalidation_1-rmse:0.365376\n",
            "[503]\tvalidation_0-rmse:0.362301\tvalidation_1-rmse:0.365364\n",
            "[504]\tvalidation_0-rmse:0.362278\tvalidation_1-rmse:0.365359\n",
            "[505]\tvalidation_0-rmse:0.362257\tvalidation_1-rmse:0.365352\n",
            "[506]\tvalidation_0-rmse:0.362241\tvalidation_1-rmse:0.365343\n",
            "[507]\tvalidation_0-rmse:0.362217\tvalidation_1-rmse:0.365328\n",
            "[508]\tvalidation_0-rmse:0.36221\tvalidation_1-rmse:0.365326\n",
            "[509]\tvalidation_0-rmse:0.362181\tvalidation_1-rmse:0.365293\n",
            "[510]\tvalidation_0-rmse:0.362178\tvalidation_1-rmse:0.365289\n",
            "[511]\tvalidation_0-rmse:0.362166\tvalidation_1-rmse:0.365283\n",
            "[512]\tvalidation_0-rmse:0.362134\tvalidation_1-rmse:0.365251\n",
            "[513]\tvalidation_0-rmse:0.362106\tvalidation_1-rmse:0.36524\n",
            "[514]\tvalidation_0-rmse:0.362086\tvalidation_1-rmse:0.365221\n",
            "[515]\tvalidation_0-rmse:0.36207\tvalidation_1-rmse:0.365219\n",
            "[516]\tvalidation_0-rmse:0.362033\tvalidation_1-rmse:0.365196\n",
            "[517]\tvalidation_0-rmse:0.362021\tvalidation_1-rmse:0.365191\n",
            "[518]\tvalidation_0-rmse:0.361972\tvalidation_1-rmse:0.36513\n",
            "[519]\tvalidation_0-rmse:0.36193\tvalidation_1-rmse:0.365097\n",
            "[520]\tvalidation_0-rmse:0.361904\tvalidation_1-rmse:0.365073\n",
            "[521]\tvalidation_0-rmse:0.361885\tvalidation_1-rmse:0.365067\n",
            "[522]\tvalidation_0-rmse:0.361869\tvalidation_1-rmse:0.365055\n",
            "[523]\tvalidation_0-rmse:0.361845\tvalidation_1-rmse:0.365033\n",
            "[524]\tvalidation_0-rmse:0.361824\tvalidation_1-rmse:0.365022\n",
            "[525]\tvalidation_0-rmse:0.361806\tvalidation_1-rmse:0.365003\n",
            "[526]\tvalidation_0-rmse:0.361776\tvalidation_1-rmse:0.364976\n",
            "[527]\tvalidation_0-rmse:0.36175\tvalidation_1-rmse:0.364955\n",
            "[528]\tvalidation_0-rmse:0.361715\tvalidation_1-rmse:0.364936\n",
            "[529]\tvalidation_0-rmse:0.36169\tvalidation_1-rmse:0.36492\n",
            "[530]\tvalidation_0-rmse:0.36167\tvalidation_1-rmse:0.364922\n",
            "[531]\tvalidation_0-rmse:0.361634\tvalidation_1-rmse:0.364878\n",
            "[532]\tvalidation_0-rmse:0.361621\tvalidation_1-rmse:0.364866\n",
            "[533]\tvalidation_0-rmse:0.361615\tvalidation_1-rmse:0.364862\n",
            "[534]\tvalidation_0-rmse:0.361597\tvalidation_1-rmse:0.364862\n",
            "[535]\tvalidation_0-rmse:0.361585\tvalidation_1-rmse:0.364857\n",
            "[536]\tvalidation_0-rmse:0.361581\tvalidation_1-rmse:0.36486\n",
            "[537]\tvalidation_0-rmse:0.361575\tvalidation_1-rmse:0.364854\n",
            "[538]\tvalidation_0-rmse:0.361556\tvalidation_1-rmse:0.364852\n",
            "[539]\tvalidation_0-rmse:0.361526\tvalidation_1-rmse:0.364822\n",
            "[540]\tvalidation_0-rmse:0.361508\tvalidation_1-rmse:0.364818\n",
            "[541]\tvalidation_0-rmse:0.361484\tvalidation_1-rmse:0.364811\n",
            "[542]\tvalidation_0-rmse:0.361461\tvalidation_1-rmse:0.364783\n",
            "[543]\tvalidation_0-rmse:0.361451\tvalidation_1-rmse:0.364774\n",
            "[544]\tvalidation_0-rmse:0.361434\tvalidation_1-rmse:0.364778\n",
            "[545]\tvalidation_0-rmse:0.361399\tvalidation_1-rmse:0.364748\n",
            "[546]\tvalidation_0-rmse:0.36136\tvalidation_1-rmse:0.364719\n",
            "[547]\tvalidation_0-rmse:0.361333\tvalidation_1-rmse:0.364695\n",
            "[548]\tvalidation_0-rmse:0.361298\tvalidation_1-rmse:0.364654\n",
            "[549]\tvalidation_0-rmse:0.361264\tvalidation_1-rmse:0.364631\n",
            "[550]\tvalidation_0-rmse:0.361239\tvalidation_1-rmse:0.364605\n",
            "[551]\tvalidation_0-rmse:0.361185\tvalidation_1-rmse:0.36454\n",
            "[552]\tvalidation_0-rmse:0.361164\tvalidation_1-rmse:0.364522\n",
            "[553]\tvalidation_0-rmse:0.36109\tvalidation_1-rmse:0.364455\n",
            "[554]\tvalidation_0-rmse:0.361068\tvalidation_1-rmse:0.364444\n",
            "[555]\tvalidation_0-rmse:0.361007\tvalidation_1-rmse:0.364382\n",
            "[556]\tvalidation_0-rmse:0.360986\tvalidation_1-rmse:0.36437\n",
            "[557]\tvalidation_0-rmse:0.360959\tvalidation_1-rmse:0.364345\n",
            "[558]\tvalidation_0-rmse:0.360901\tvalidation_1-rmse:0.364298\n",
            "[559]\tvalidation_0-rmse:0.360816\tvalidation_1-rmse:0.364208\n",
            "[560]\tvalidation_0-rmse:0.360776\tvalidation_1-rmse:0.364174\n",
            "[561]\tvalidation_0-rmse:0.360752\tvalidation_1-rmse:0.364162\n",
            "[562]\tvalidation_0-rmse:0.360735\tvalidation_1-rmse:0.364156\n",
            "[563]\tvalidation_0-rmse:0.360708\tvalidation_1-rmse:0.364131\n",
            "[564]\tvalidation_0-rmse:0.360645\tvalidation_1-rmse:0.364067\n",
            "[565]\tvalidation_0-rmse:0.360577\tvalidation_1-rmse:0.364011\n",
            "[566]\tvalidation_0-rmse:0.360563\tvalidation_1-rmse:0.364003\n",
            "[567]\tvalidation_0-rmse:0.360542\tvalidation_1-rmse:0.363975\n",
            "[568]\tvalidation_0-rmse:0.360519\tvalidation_1-rmse:0.363961\n",
            "[569]\tvalidation_0-rmse:0.360502\tvalidation_1-rmse:0.363949\n",
            "[570]\tvalidation_0-rmse:0.360492\tvalidation_1-rmse:0.363942\n",
            "[571]\tvalidation_0-rmse:0.360467\tvalidation_1-rmse:0.363918\n",
            "[572]\tvalidation_0-rmse:0.360421\tvalidation_1-rmse:0.363867\n",
            "[573]\tvalidation_0-rmse:0.360396\tvalidation_1-rmse:0.363835\n",
            "[574]\tvalidation_0-rmse:0.360375\tvalidation_1-rmse:0.363818\n",
            "[575]\tvalidation_0-rmse:0.36035\tvalidation_1-rmse:0.363809\n",
            "[576]\tvalidation_0-rmse:0.360334\tvalidation_1-rmse:0.363815\n",
            "[577]\tvalidation_0-rmse:0.36032\tvalidation_1-rmse:0.36382\n",
            "[578]\tvalidation_0-rmse:0.360303\tvalidation_1-rmse:0.363802\n",
            "[579]\tvalidation_0-rmse:0.360275\tvalidation_1-rmse:0.363779\n",
            "[580]\tvalidation_0-rmse:0.360248\tvalidation_1-rmse:0.363762\n",
            "[581]\tvalidation_0-rmse:0.360207\tvalidation_1-rmse:0.363719\n",
            "[582]\tvalidation_0-rmse:0.360193\tvalidation_1-rmse:0.363705\n",
            "[583]\tvalidation_0-rmse:0.360176\tvalidation_1-rmse:0.363693\n",
            "[584]\tvalidation_0-rmse:0.360153\tvalidation_1-rmse:0.363683\n",
            "[585]\tvalidation_0-rmse:0.360136\tvalidation_1-rmse:0.363674\n",
            "[586]\tvalidation_0-rmse:0.360103\tvalidation_1-rmse:0.363648\n",
            "[587]\tvalidation_0-rmse:0.36007\tvalidation_1-rmse:0.363613\n",
            "[588]\tvalidation_0-rmse:0.360054\tvalidation_1-rmse:0.363604\n",
            "[589]\tvalidation_0-rmse:0.360027\tvalidation_1-rmse:0.363594\n",
            "[590]\tvalidation_0-rmse:0.360005\tvalidation_1-rmse:0.363572\n",
            "[591]\tvalidation_0-rmse:0.359997\tvalidation_1-rmse:0.363564\n",
            "[592]\tvalidation_0-rmse:0.359986\tvalidation_1-rmse:0.363563\n",
            "[593]\tvalidation_0-rmse:0.359964\tvalidation_1-rmse:0.363547\n",
            "[594]\tvalidation_0-rmse:0.359934\tvalidation_1-rmse:0.363511\n",
            "[595]\tvalidation_0-rmse:0.359877\tvalidation_1-rmse:0.363464\n",
            "[596]\tvalidation_0-rmse:0.359822\tvalidation_1-rmse:0.363393\n",
            "[597]\tvalidation_0-rmse:0.359776\tvalidation_1-rmse:0.363353\n",
            "[598]\tvalidation_0-rmse:0.359698\tvalidation_1-rmse:0.363292\n",
            "[599]\tvalidation_0-rmse:0.359658\tvalidation_1-rmse:0.363256\n",
            "[600]\tvalidation_0-rmse:0.359621\tvalidation_1-rmse:0.363217\n",
            "[601]\tvalidation_0-rmse:0.359606\tvalidation_1-rmse:0.363206\n",
            "[602]\tvalidation_0-rmse:0.359574\tvalidation_1-rmse:0.363168\n",
            "[603]\tvalidation_0-rmse:0.359544\tvalidation_1-rmse:0.363144\n",
            "[604]\tvalidation_0-rmse:0.359496\tvalidation_1-rmse:0.363111\n",
            "[605]\tvalidation_0-rmse:0.359431\tvalidation_1-rmse:0.363061\n",
            "[606]\tvalidation_0-rmse:0.359402\tvalidation_1-rmse:0.363035\n",
            "[607]\tvalidation_0-rmse:0.359375\tvalidation_1-rmse:0.363007\n",
            "[608]\tvalidation_0-rmse:0.359353\tvalidation_1-rmse:0.362992\n",
            "[609]\tvalidation_0-rmse:0.359336\tvalidation_1-rmse:0.362985\n",
            "[610]\tvalidation_0-rmse:0.359309\tvalidation_1-rmse:0.362971\n",
            "[611]\tvalidation_0-rmse:0.359257\tvalidation_1-rmse:0.362905\n",
            "[612]\tvalidation_0-rmse:0.359209\tvalidation_1-rmse:0.362869\n",
            "[613]\tvalidation_0-rmse:0.359162\tvalidation_1-rmse:0.362829\n",
            "[614]\tvalidation_0-rmse:0.359146\tvalidation_1-rmse:0.362825\n",
            "[615]\tvalidation_0-rmse:0.359111\tvalidation_1-rmse:0.362785\n",
            "[616]\tvalidation_0-rmse:0.359039\tvalidation_1-rmse:0.362713\n",
            "[617]\tvalidation_0-rmse:0.358995\tvalidation_1-rmse:0.36266\n",
            "[618]\tvalidation_0-rmse:0.358921\tvalidation_1-rmse:0.362584\n",
            "[619]\tvalidation_0-rmse:0.358889\tvalidation_1-rmse:0.362559\n",
            "[620]\tvalidation_0-rmse:0.358849\tvalidation_1-rmse:0.362537\n",
            "[621]\tvalidation_0-rmse:0.358835\tvalidation_1-rmse:0.362535\n",
            "[622]\tvalidation_0-rmse:0.358813\tvalidation_1-rmse:0.362514\n",
            "[623]\tvalidation_0-rmse:0.358798\tvalidation_1-rmse:0.362505\n",
            "[624]\tvalidation_0-rmse:0.358785\tvalidation_1-rmse:0.362498\n",
            "[625]\tvalidation_0-rmse:0.35876\tvalidation_1-rmse:0.362481\n",
            "[626]\tvalidation_0-rmse:0.358757\tvalidation_1-rmse:0.362483\n",
            "[627]\tvalidation_0-rmse:0.358747\tvalidation_1-rmse:0.362481\n",
            "[628]\tvalidation_0-rmse:0.358722\tvalidation_1-rmse:0.36247\n",
            "[629]\tvalidation_0-rmse:0.358654\tvalidation_1-rmse:0.362413\n",
            "[630]\tvalidation_0-rmse:0.358618\tvalidation_1-rmse:0.362386\n",
            "[631]\tvalidation_0-rmse:0.358588\tvalidation_1-rmse:0.362351\n",
            "[632]\tvalidation_0-rmse:0.358577\tvalidation_1-rmse:0.362346\n",
            "[633]\tvalidation_0-rmse:0.358537\tvalidation_1-rmse:0.36233\n",
            "[634]\tvalidation_0-rmse:0.358511\tvalidation_1-rmse:0.362305\n",
            "[635]\tvalidation_0-rmse:0.358496\tvalidation_1-rmse:0.362301\n",
            "[636]\tvalidation_0-rmse:0.358482\tvalidation_1-rmse:0.362299\n",
            "[637]\tvalidation_0-rmse:0.358443\tvalidation_1-rmse:0.362263\n",
            "[638]\tvalidation_0-rmse:0.358425\tvalidation_1-rmse:0.362263\n",
            "[639]\tvalidation_0-rmse:0.358395\tvalidation_1-rmse:0.362244\n",
            "[640]\tvalidation_0-rmse:0.358372\tvalidation_1-rmse:0.362236\n",
            "[641]\tvalidation_0-rmse:0.35834\tvalidation_1-rmse:0.362202\n",
            "[642]\tvalidation_0-rmse:0.358319\tvalidation_1-rmse:0.362186\n",
            "[643]\tvalidation_0-rmse:0.358308\tvalidation_1-rmse:0.362176\n",
            "[644]\tvalidation_0-rmse:0.35829\tvalidation_1-rmse:0.362168\n",
            "[645]\tvalidation_0-rmse:0.358267\tvalidation_1-rmse:0.362153\n",
            "[646]\tvalidation_0-rmse:0.358235\tvalidation_1-rmse:0.362119\n",
            "[647]\tvalidation_0-rmse:0.358199\tvalidation_1-rmse:0.36209\n",
            "[648]\tvalidation_0-rmse:0.358141\tvalidation_1-rmse:0.36203\n",
            "[649]\tvalidation_0-rmse:0.35812\tvalidation_1-rmse:0.362022\n",
            "[650]\tvalidation_0-rmse:0.358107\tvalidation_1-rmse:0.362029\n",
            "[651]\tvalidation_0-rmse:0.358056\tvalidation_1-rmse:0.36198\n",
            "[652]\tvalidation_0-rmse:0.357995\tvalidation_1-rmse:0.36191\n",
            "[653]\tvalidation_0-rmse:0.357942\tvalidation_1-rmse:0.361859\n",
            "[654]\tvalidation_0-rmse:0.357909\tvalidation_1-rmse:0.361844\n",
            "[655]\tvalidation_0-rmse:0.357862\tvalidation_1-rmse:0.361806\n",
            "[656]\tvalidation_0-rmse:0.357824\tvalidation_1-rmse:0.361771\n",
            "[657]\tvalidation_0-rmse:0.357808\tvalidation_1-rmse:0.361755\n",
            "[658]\tvalidation_0-rmse:0.357796\tvalidation_1-rmse:0.36176\n",
            "[659]\tvalidation_0-rmse:0.357769\tvalidation_1-rmse:0.361731\n",
            "[660]\tvalidation_0-rmse:0.357747\tvalidation_1-rmse:0.361704\n",
            "[661]\tvalidation_0-rmse:0.357724\tvalidation_1-rmse:0.361684\n",
            "[662]\tvalidation_0-rmse:0.357702\tvalidation_1-rmse:0.361657\n",
            "[663]\tvalidation_0-rmse:0.357693\tvalidation_1-rmse:0.361654\n",
            "[664]\tvalidation_0-rmse:0.357665\tvalidation_1-rmse:0.361618\n",
            "[665]\tvalidation_0-rmse:0.357628\tvalidation_1-rmse:0.361585\n",
            "[666]\tvalidation_0-rmse:0.357602\tvalidation_1-rmse:0.361576\n",
            "[667]\tvalidation_0-rmse:0.357576\tvalidation_1-rmse:0.361548\n",
            "[668]\tvalidation_0-rmse:0.357563\tvalidation_1-rmse:0.361541\n",
            "[669]\tvalidation_0-rmse:0.357554\tvalidation_1-rmse:0.361541\n",
            "[670]\tvalidation_0-rmse:0.357523\tvalidation_1-rmse:0.361514\n",
            "[671]\tvalidation_0-rmse:0.357503\tvalidation_1-rmse:0.361506\n",
            "[672]\tvalidation_0-rmse:0.357494\tvalidation_1-rmse:0.361497\n",
            "[673]\tvalidation_0-rmse:0.357475\tvalidation_1-rmse:0.361491\n",
            "[674]\tvalidation_0-rmse:0.357463\tvalidation_1-rmse:0.361484\n",
            "[675]\tvalidation_0-rmse:0.357451\tvalidation_1-rmse:0.361476\n",
            "[676]\tvalidation_0-rmse:0.35744\tvalidation_1-rmse:0.361467\n",
            "[677]\tvalidation_0-rmse:0.357421\tvalidation_1-rmse:0.361461\n",
            "[678]\tvalidation_0-rmse:0.357408\tvalidation_1-rmse:0.361456\n",
            "[679]\tvalidation_0-rmse:0.357395\tvalidation_1-rmse:0.361447\n",
            "[680]\tvalidation_0-rmse:0.357381\tvalidation_1-rmse:0.361436\n",
            "[681]\tvalidation_0-rmse:0.35736\tvalidation_1-rmse:0.361414\n",
            "[682]\tvalidation_0-rmse:0.357351\tvalidation_1-rmse:0.361408\n",
            "[683]\tvalidation_0-rmse:0.357341\tvalidation_1-rmse:0.361405\n",
            "[684]\tvalidation_0-rmse:0.357323\tvalidation_1-rmse:0.361406\n",
            "[685]\tvalidation_0-rmse:0.3573\tvalidation_1-rmse:0.361399\n",
            "[686]\tvalidation_0-rmse:0.357288\tvalidation_1-rmse:0.361389\n",
            "[687]\tvalidation_0-rmse:0.357282\tvalidation_1-rmse:0.361388\n",
            "[688]\tvalidation_0-rmse:0.357277\tvalidation_1-rmse:0.361385\n",
            "[689]\tvalidation_0-rmse:0.357248\tvalidation_1-rmse:0.361366\n",
            "[690]\tvalidation_0-rmse:0.357238\tvalidation_1-rmse:0.361358\n",
            "[691]\tvalidation_0-rmse:0.357204\tvalidation_1-rmse:0.361319\n",
            "[692]\tvalidation_0-rmse:0.357189\tvalidation_1-rmse:0.361317\n",
            "[693]\tvalidation_0-rmse:0.35715\tvalidation_1-rmse:0.361295\n",
            "[694]\tvalidation_0-rmse:0.357125\tvalidation_1-rmse:0.361272\n",
            "[695]\tvalidation_0-rmse:0.357116\tvalidation_1-rmse:0.361267\n",
            "[696]\tvalidation_0-rmse:0.357075\tvalidation_1-rmse:0.361236\n",
            "[697]\tvalidation_0-rmse:0.357053\tvalidation_1-rmse:0.361219\n",
            "[698]\tvalidation_0-rmse:0.35704\tvalidation_1-rmse:0.361214\n",
            "[699]\tvalidation_0-rmse:0.357001\tvalidation_1-rmse:0.361162\n",
            "[700]\tvalidation_0-rmse:0.356985\tvalidation_1-rmse:0.361149\n",
            "[701]\tvalidation_0-rmse:0.356956\tvalidation_1-rmse:0.361123\n",
            "[702]\tvalidation_0-rmse:0.356925\tvalidation_1-rmse:0.361107\n",
            "[703]\tvalidation_0-rmse:0.35692\tvalidation_1-rmse:0.361104\n",
            "[704]\tvalidation_0-rmse:0.356884\tvalidation_1-rmse:0.361075\n",
            "[705]\tvalidation_0-rmse:0.356854\tvalidation_1-rmse:0.361049\n",
            "[706]\tvalidation_0-rmse:0.356843\tvalidation_1-rmse:0.361042\n",
            "[707]\tvalidation_0-rmse:0.356826\tvalidation_1-rmse:0.361037\n",
            "[708]\tvalidation_0-rmse:0.356809\tvalidation_1-rmse:0.36102\n",
            "[709]\tvalidation_0-rmse:0.356777\tvalidation_1-rmse:0.360974\n",
            "[710]\tvalidation_0-rmse:0.356733\tvalidation_1-rmse:0.36093\n",
            "[711]\tvalidation_0-rmse:0.356702\tvalidation_1-rmse:0.360899\n",
            "[712]\tvalidation_0-rmse:0.356669\tvalidation_1-rmse:0.360868\n",
            "[713]\tvalidation_0-rmse:0.356653\tvalidation_1-rmse:0.360846\n",
            "[714]\tvalidation_0-rmse:0.35664\tvalidation_1-rmse:0.360845\n",
            "[715]\tvalidation_0-rmse:0.356622\tvalidation_1-rmse:0.360836\n",
            "[716]\tvalidation_0-rmse:0.356612\tvalidation_1-rmse:0.360832\n",
            "[717]\tvalidation_0-rmse:0.35658\tvalidation_1-rmse:0.360813\n",
            "[718]\tvalidation_0-rmse:0.35656\tvalidation_1-rmse:0.360801\n",
            "[719]\tvalidation_0-rmse:0.356531\tvalidation_1-rmse:0.36078\n",
            "[720]\tvalidation_0-rmse:0.356522\tvalidation_1-rmse:0.360783\n",
            "[721]\tvalidation_0-rmse:0.356506\tvalidation_1-rmse:0.360786\n",
            "[722]\tvalidation_0-rmse:0.356489\tvalidation_1-rmse:0.360781\n",
            "[723]\tvalidation_0-rmse:0.356475\tvalidation_1-rmse:0.360777\n",
            "[724]\tvalidation_0-rmse:0.356453\tvalidation_1-rmse:0.360762\n",
            "[725]\tvalidation_0-rmse:0.356412\tvalidation_1-rmse:0.360714\n",
            "[726]\tvalidation_0-rmse:0.356384\tvalidation_1-rmse:0.360686\n",
            "[727]\tvalidation_0-rmse:0.356355\tvalidation_1-rmse:0.360666\n",
            "[728]\tvalidation_0-rmse:0.356306\tvalidation_1-rmse:0.360621\n",
            "[729]\tvalidation_0-rmse:0.356288\tvalidation_1-rmse:0.360604\n",
            "[730]\tvalidation_0-rmse:0.356253\tvalidation_1-rmse:0.360561\n",
            "[731]\tvalidation_0-rmse:0.356233\tvalidation_1-rmse:0.360546\n",
            "[732]\tvalidation_0-rmse:0.356217\tvalidation_1-rmse:0.360531\n",
            "[733]\tvalidation_0-rmse:0.356206\tvalidation_1-rmse:0.360538\n",
            "[734]\tvalidation_0-rmse:0.356191\tvalidation_1-rmse:0.360526\n",
            "[735]\tvalidation_0-rmse:0.356171\tvalidation_1-rmse:0.360519\n",
            "[736]\tvalidation_0-rmse:0.356163\tvalidation_1-rmse:0.360518\n",
            "[737]\tvalidation_0-rmse:0.356152\tvalidation_1-rmse:0.360513\n",
            "[738]\tvalidation_0-rmse:0.356135\tvalidation_1-rmse:0.360512\n",
            "[739]\tvalidation_0-rmse:0.356093\tvalidation_1-rmse:0.360483\n",
            "[740]\tvalidation_0-rmse:0.356079\tvalidation_1-rmse:0.360476\n",
            "[741]\tvalidation_0-rmse:0.356067\tvalidation_1-rmse:0.360471\n",
            "[742]\tvalidation_0-rmse:0.356028\tvalidation_1-rmse:0.360433\n",
            "[743]\tvalidation_0-rmse:0.355981\tvalidation_1-rmse:0.360397\n",
            "[744]\tvalidation_0-rmse:0.355971\tvalidation_1-rmse:0.36039\n",
            "[745]\tvalidation_0-rmse:0.355965\tvalidation_1-rmse:0.360387\n",
            "[746]\tvalidation_0-rmse:0.355961\tvalidation_1-rmse:0.360388\n",
            "[747]\tvalidation_0-rmse:0.355936\tvalidation_1-rmse:0.360378\n",
            "[748]\tvalidation_0-rmse:0.355897\tvalidation_1-rmse:0.360354\n",
            "[749]\tvalidation_0-rmse:0.355882\tvalidation_1-rmse:0.36035\n",
            "[750]\tvalidation_0-rmse:0.355868\tvalidation_1-rmse:0.36034\n",
            "[751]\tvalidation_0-rmse:0.355852\tvalidation_1-rmse:0.360341\n",
            "[752]\tvalidation_0-rmse:0.355823\tvalidation_1-rmse:0.360307\n",
            "[753]\tvalidation_0-rmse:0.355809\tvalidation_1-rmse:0.36031\n",
            "[754]\tvalidation_0-rmse:0.355806\tvalidation_1-rmse:0.360314\n",
            "[755]\tvalidation_0-rmse:0.355797\tvalidation_1-rmse:0.360304\n",
            "[756]\tvalidation_0-rmse:0.355786\tvalidation_1-rmse:0.360299\n",
            "[757]\tvalidation_0-rmse:0.355765\tvalidation_1-rmse:0.360279\n",
            "[758]\tvalidation_0-rmse:0.355762\tvalidation_1-rmse:0.360279\n",
            "[759]\tvalidation_0-rmse:0.355755\tvalidation_1-rmse:0.360275\n",
            "[760]\tvalidation_0-rmse:0.355745\tvalidation_1-rmse:0.360268\n",
            "[761]\tvalidation_0-rmse:0.355724\tvalidation_1-rmse:0.360254\n",
            "[762]\tvalidation_0-rmse:0.3557\tvalidation_1-rmse:0.360241\n",
            "[763]\tvalidation_0-rmse:0.355692\tvalidation_1-rmse:0.360243\n",
            "[764]\tvalidation_0-rmse:0.355643\tvalidation_1-rmse:0.360197\n",
            "[765]\tvalidation_0-rmse:0.355606\tvalidation_1-rmse:0.36015\n",
            "[766]\tvalidation_0-rmse:0.355585\tvalidation_1-rmse:0.360121\n",
            "[767]\tvalidation_0-rmse:0.355538\tvalidation_1-rmse:0.360077\n",
            "[768]\tvalidation_0-rmse:0.355518\tvalidation_1-rmse:0.360062\n",
            "[769]\tvalidation_0-rmse:0.355478\tvalidation_1-rmse:0.360025\n",
            "[770]\tvalidation_0-rmse:0.355466\tvalidation_1-rmse:0.360023\n",
            "[771]\tvalidation_0-rmse:0.35544\tvalidation_1-rmse:0.360014\n",
            "[772]\tvalidation_0-rmse:0.355424\tvalidation_1-rmse:0.359998\n",
            "[773]\tvalidation_0-rmse:0.355388\tvalidation_1-rmse:0.359952\n",
            "[774]\tvalidation_0-rmse:0.355381\tvalidation_1-rmse:0.359952\n",
            "[775]\tvalidation_0-rmse:0.355368\tvalidation_1-rmse:0.359944\n",
            "[776]\tvalidation_0-rmse:0.355357\tvalidation_1-rmse:0.359946\n",
            "[777]\tvalidation_0-rmse:0.355316\tvalidation_1-rmse:0.359906\n",
            "[778]\tvalidation_0-rmse:0.35527\tvalidation_1-rmse:0.359868\n",
            "[779]\tvalidation_0-rmse:0.355263\tvalidation_1-rmse:0.359863\n",
            "[780]\tvalidation_0-rmse:0.355256\tvalidation_1-rmse:0.359863\n",
            "[781]\tvalidation_0-rmse:0.35524\tvalidation_1-rmse:0.359853\n",
            "[782]\tvalidation_0-rmse:0.355225\tvalidation_1-rmse:0.35984\n",
            "[783]\tvalidation_0-rmse:0.355213\tvalidation_1-rmse:0.359839\n",
            "[784]\tvalidation_0-rmse:0.355203\tvalidation_1-rmse:0.359839\n",
            "[785]\tvalidation_0-rmse:0.355191\tvalidation_1-rmse:0.359833\n",
            "[786]\tvalidation_0-rmse:0.355181\tvalidation_1-rmse:0.35984\n",
            "[787]\tvalidation_0-rmse:0.355172\tvalidation_1-rmse:0.359841\n",
            "[788]\tvalidation_0-rmse:0.355141\tvalidation_1-rmse:0.359822\n",
            "[789]\tvalidation_0-rmse:0.35511\tvalidation_1-rmse:0.359804\n",
            "[790]\tvalidation_0-rmse:0.355086\tvalidation_1-rmse:0.359781\n",
            "[791]\tvalidation_0-rmse:0.355058\tvalidation_1-rmse:0.359749\n",
            "[792]\tvalidation_0-rmse:0.355032\tvalidation_1-rmse:0.359731\n",
            "[793]\tvalidation_0-rmse:0.355009\tvalidation_1-rmse:0.359703\n",
            "[794]\tvalidation_0-rmse:0.354985\tvalidation_1-rmse:0.359688\n",
            "[795]\tvalidation_0-rmse:0.354975\tvalidation_1-rmse:0.359683\n",
            "[796]\tvalidation_0-rmse:0.354951\tvalidation_1-rmse:0.359679\n",
            "[797]\tvalidation_0-rmse:0.354943\tvalidation_1-rmse:0.359678\n",
            "[798]\tvalidation_0-rmse:0.354914\tvalidation_1-rmse:0.359682\n",
            "[799]\tvalidation_0-rmse:0.354889\tvalidation_1-rmse:0.359672\n",
            "[800]\tvalidation_0-rmse:0.354873\tvalidation_1-rmse:0.359657\n",
            "[801]\tvalidation_0-rmse:0.354855\tvalidation_1-rmse:0.359657\n",
            "[802]\tvalidation_0-rmse:0.354848\tvalidation_1-rmse:0.359657\n",
            "[803]\tvalidation_0-rmse:0.354842\tvalidation_1-rmse:0.359654\n",
            "[804]\tvalidation_0-rmse:0.354827\tvalidation_1-rmse:0.359649\n",
            "[805]\tvalidation_0-rmse:0.35482\tvalidation_1-rmse:0.359642\n",
            "[806]\tvalidation_0-rmse:0.354803\tvalidation_1-rmse:0.35963\n",
            "[807]\tvalidation_0-rmse:0.35479\tvalidation_1-rmse:0.359631\n",
            "[808]\tvalidation_0-rmse:0.354782\tvalidation_1-rmse:0.359623\n",
            "[809]\tvalidation_0-rmse:0.354778\tvalidation_1-rmse:0.359629\n",
            "[810]\tvalidation_0-rmse:0.35476\tvalidation_1-rmse:0.359617\n",
            "[811]\tvalidation_0-rmse:0.354752\tvalidation_1-rmse:0.359615\n",
            "[812]\tvalidation_0-rmse:0.354731\tvalidation_1-rmse:0.359607\n",
            "[813]\tvalidation_0-rmse:0.354725\tvalidation_1-rmse:0.359601\n",
            "[814]\tvalidation_0-rmse:0.35472\tvalidation_1-rmse:0.359596\n",
            "[815]\tvalidation_0-rmse:0.35471\tvalidation_1-rmse:0.359589\n",
            "[816]\tvalidation_0-rmse:0.354707\tvalidation_1-rmse:0.359593\n",
            "[817]\tvalidation_0-rmse:0.354697\tvalidation_1-rmse:0.359589\n",
            "[818]\tvalidation_0-rmse:0.354695\tvalidation_1-rmse:0.359589\n",
            "[819]\tvalidation_0-rmse:0.354661\tvalidation_1-rmse:0.359555\n",
            "[820]\tvalidation_0-rmse:0.354642\tvalidation_1-rmse:0.359532\n",
            "[821]\tvalidation_0-rmse:0.354582\tvalidation_1-rmse:0.359482\n",
            "[822]\tvalidation_0-rmse:0.354568\tvalidation_1-rmse:0.359472\n",
            "[823]\tvalidation_0-rmse:0.35454\tvalidation_1-rmse:0.35945\n",
            "[824]\tvalidation_0-rmse:0.354518\tvalidation_1-rmse:0.359434\n",
            "[825]\tvalidation_0-rmse:0.354504\tvalidation_1-rmse:0.359436\n",
            "[826]\tvalidation_0-rmse:0.354495\tvalidation_1-rmse:0.359431\n",
            "[827]\tvalidation_0-rmse:0.354476\tvalidation_1-rmse:0.359434\n",
            "[828]\tvalidation_0-rmse:0.354454\tvalidation_1-rmse:0.359421\n",
            "[829]\tvalidation_0-rmse:0.35444\tvalidation_1-rmse:0.35941\n",
            "[830]\tvalidation_0-rmse:0.354426\tvalidation_1-rmse:0.359409\n",
            "[831]\tvalidation_0-rmse:0.354416\tvalidation_1-rmse:0.359403\n",
            "[832]\tvalidation_0-rmse:0.354403\tvalidation_1-rmse:0.359395\n",
            "[833]\tvalidation_0-rmse:0.354362\tvalidation_1-rmse:0.359361\n",
            "[834]\tvalidation_0-rmse:0.354333\tvalidation_1-rmse:0.359328\n",
            "[835]\tvalidation_0-rmse:0.354309\tvalidation_1-rmse:0.359303\n",
            "[836]\tvalidation_0-rmse:0.354288\tvalidation_1-rmse:0.359283\n",
            "[837]\tvalidation_0-rmse:0.354266\tvalidation_1-rmse:0.359289\n",
            "[838]\tvalidation_0-rmse:0.354253\tvalidation_1-rmse:0.359291\n",
            "[839]\tvalidation_0-rmse:0.354237\tvalidation_1-rmse:0.359286\n",
            "[840]\tvalidation_0-rmse:0.354188\tvalidation_1-rmse:0.359239\n",
            "[841]\tvalidation_0-rmse:0.354161\tvalidation_1-rmse:0.359204\n",
            "[842]\tvalidation_0-rmse:0.354153\tvalidation_1-rmse:0.359205\n",
            "[843]\tvalidation_0-rmse:0.354137\tvalidation_1-rmse:0.359195\n",
            "[844]\tvalidation_0-rmse:0.354131\tvalidation_1-rmse:0.35919\n",
            "[845]\tvalidation_0-rmse:0.354105\tvalidation_1-rmse:0.359166\n",
            "[846]\tvalidation_0-rmse:0.354083\tvalidation_1-rmse:0.35915\n",
            "[847]\tvalidation_0-rmse:0.354073\tvalidation_1-rmse:0.359147\n",
            "[848]\tvalidation_0-rmse:0.354028\tvalidation_1-rmse:0.359103\n",
            "[849]\tvalidation_0-rmse:0.354006\tvalidation_1-rmse:0.359072\n",
            "[850]\tvalidation_0-rmse:0.353989\tvalidation_1-rmse:0.35906\n",
            "[851]\tvalidation_0-rmse:0.353976\tvalidation_1-rmse:0.359055\n",
            "[852]\tvalidation_0-rmse:0.353954\tvalidation_1-rmse:0.359046\n",
            "[853]\tvalidation_0-rmse:0.353951\tvalidation_1-rmse:0.359049\n",
            "[854]\tvalidation_0-rmse:0.353921\tvalidation_1-rmse:0.359014\n",
            "[855]\tvalidation_0-rmse:0.353896\tvalidation_1-rmse:0.358983\n",
            "[856]\tvalidation_0-rmse:0.353884\tvalidation_1-rmse:0.358978\n",
            "[857]\tvalidation_0-rmse:0.353859\tvalidation_1-rmse:0.358953\n",
            "[858]\tvalidation_0-rmse:0.353842\tvalidation_1-rmse:0.358934\n",
            "[859]\tvalidation_0-rmse:0.353825\tvalidation_1-rmse:0.358928\n",
            "[860]\tvalidation_0-rmse:0.35377\tvalidation_1-rmse:0.358869\n",
            "[861]\tvalidation_0-rmse:0.353745\tvalidation_1-rmse:0.35884\n",
            "[862]\tvalidation_0-rmse:0.35373\tvalidation_1-rmse:0.358836\n",
            "[863]\tvalidation_0-rmse:0.353715\tvalidation_1-rmse:0.358823\n",
            "[864]\tvalidation_0-rmse:0.353703\tvalidation_1-rmse:0.358812\n",
            "[865]\tvalidation_0-rmse:0.353696\tvalidation_1-rmse:0.358811\n",
            "[866]\tvalidation_0-rmse:0.353683\tvalidation_1-rmse:0.358802\n",
            "[867]\tvalidation_0-rmse:0.353661\tvalidation_1-rmse:0.358777\n",
            "[868]\tvalidation_0-rmse:0.35364\tvalidation_1-rmse:0.358767\n",
            "[869]\tvalidation_0-rmse:0.353621\tvalidation_1-rmse:0.358755\n",
            "[870]\tvalidation_0-rmse:0.353609\tvalidation_1-rmse:0.35875\n",
            "[871]\tvalidation_0-rmse:0.353601\tvalidation_1-rmse:0.358741\n",
            "[872]\tvalidation_0-rmse:0.353598\tvalidation_1-rmse:0.358745\n",
            "[873]\tvalidation_0-rmse:0.353573\tvalidation_1-rmse:0.358727\n",
            "[874]\tvalidation_0-rmse:0.35356\tvalidation_1-rmse:0.358719\n",
            "[875]\tvalidation_0-rmse:0.353553\tvalidation_1-rmse:0.358721\n",
            "[876]\tvalidation_0-rmse:0.353527\tvalidation_1-rmse:0.358694\n",
            "[877]\tvalidation_0-rmse:0.353509\tvalidation_1-rmse:0.358677\n",
            "[878]\tvalidation_0-rmse:0.353495\tvalidation_1-rmse:0.358674\n",
            "[879]\tvalidation_0-rmse:0.353483\tvalidation_1-rmse:0.358671\n",
            "[880]\tvalidation_0-rmse:0.353471\tvalidation_1-rmse:0.358668\n",
            "[881]\tvalidation_0-rmse:0.353467\tvalidation_1-rmse:0.358669\n",
            "[882]\tvalidation_0-rmse:0.353457\tvalidation_1-rmse:0.358669\n",
            "[883]\tvalidation_0-rmse:0.353447\tvalidation_1-rmse:0.358668\n",
            "[884]\tvalidation_0-rmse:0.353431\tvalidation_1-rmse:0.358661\n",
            "[885]\tvalidation_0-rmse:0.353413\tvalidation_1-rmse:0.358655\n",
            "[886]\tvalidation_0-rmse:0.353411\tvalidation_1-rmse:0.358656\n",
            "[887]\tvalidation_0-rmse:0.353403\tvalidation_1-rmse:0.358651\n",
            "[888]\tvalidation_0-rmse:0.353385\tvalidation_1-rmse:0.358654\n",
            "[889]\tvalidation_0-rmse:0.353371\tvalidation_1-rmse:0.358644\n",
            "[890]\tvalidation_0-rmse:0.353363\tvalidation_1-rmse:0.358646\n",
            "[891]\tvalidation_0-rmse:0.353362\tvalidation_1-rmse:0.358648\n",
            "[892]\tvalidation_0-rmse:0.353349\tvalidation_1-rmse:0.358647\n",
            "[893]\tvalidation_0-rmse:0.353336\tvalidation_1-rmse:0.358642\n",
            "[894]\tvalidation_0-rmse:0.353315\tvalidation_1-rmse:0.358618\n",
            "[895]\tvalidation_0-rmse:0.35329\tvalidation_1-rmse:0.358603\n",
            "[896]\tvalidation_0-rmse:0.353284\tvalidation_1-rmse:0.358604\n",
            "[897]\tvalidation_0-rmse:0.353262\tvalidation_1-rmse:0.358578\n",
            "[898]\tvalidation_0-rmse:0.353245\tvalidation_1-rmse:0.358568\n",
            "[899]\tvalidation_0-rmse:0.35323\tvalidation_1-rmse:0.358568\n",
            "[900]\tvalidation_0-rmse:0.353206\tvalidation_1-rmse:0.358551\n",
            "[901]\tvalidation_0-rmse:0.353193\tvalidation_1-rmse:0.358547\n",
            "[902]\tvalidation_0-rmse:0.353181\tvalidation_1-rmse:0.358548\n",
            "[903]\tvalidation_0-rmse:0.353179\tvalidation_1-rmse:0.358548\n",
            "[904]\tvalidation_0-rmse:0.353152\tvalidation_1-rmse:0.35853\n",
            "[905]\tvalidation_0-rmse:0.353132\tvalidation_1-rmse:0.358516\n",
            "[906]\tvalidation_0-rmse:0.353098\tvalidation_1-rmse:0.358488\n",
            "[907]\tvalidation_0-rmse:0.353087\tvalidation_1-rmse:0.358486\n",
            "[908]\tvalidation_0-rmse:0.353076\tvalidation_1-rmse:0.358486\n",
            "[909]\tvalidation_0-rmse:0.35305\tvalidation_1-rmse:0.358464\n",
            "[910]\tvalidation_0-rmse:0.353041\tvalidation_1-rmse:0.358463\n",
            "[911]\tvalidation_0-rmse:0.353006\tvalidation_1-rmse:0.358432\n",
            "[912]\tvalidation_0-rmse:0.352993\tvalidation_1-rmse:0.358422\n",
            "[913]\tvalidation_0-rmse:0.352974\tvalidation_1-rmse:0.358404\n",
            "[914]\tvalidation_0-rmse:0.352956\tvalidation_1-rmse:0.358397\n",
            "[915]\tvalidation_0-rmse:0.352942\tvalidation_1-rmse:0.358404\n",
            "[916]\tvalidation_0-rmse:0.352931\tvalidation_1-rmse:0.358399\n",
            "[917]\tvalidation_0-rmse:0.352909\tvalidation_1-rmse:0.358389\n",
            "[918]\tvalidation_0-rmse:0.352883\tvalidation_1-rmse:0.358366\n",
            "[919]\tvalidation_0-rmse:0.352873\tvalidation_1-rmse:0.358366\n",
            "[920]\tvalidation_0-rmse:0.352867\tvalidation_1-rmse:0.358367\n",
            "[921]\tvalidation_0-rmse:0.352864\tvalidation_1-rmse:0.358372\n",
            "[922]\tvalidation_0-rmse:0.352846\tvalidation_1-rmse:0.358363\n",
            "[923]\tvalidation_0-rmse:0.352843\tvalidation_1-rmse:0.358364\n",
            "[924]\tvalidation_0-rmse:0.352831\tvalidation_1-rmse:0.358361\n",
            "[925]\tvalidation_0-rmse:0.352822\tvalidation_1-rmse:0.358355\n",
            "[926]\tvalidation_0-rmse:0.352817\tvalidation_1-rmse:0.358356\n",
            "[927]\tvalidation_0-rmse:0.352809\tvalidation_1-rmse:0.358359\n",
            "[928]\tvalidation_0-rmse:0.352801\tvalidation_1-rmse:0.35835\n",
            "[929]\tvalidation_0-rmse:0.352793\tvalidation_1-rmse:0.358345\n",
            "[930]\tvalidation_0-rmse:0.352791\tvalidation_1-rmse:0.358346\n",
            "[931]\tvalidation_0-rmse:0.352785\tvalidation_1-rmse:0.358341\n",
            "[932]\tvalidation_0-rmse:0.352781\tvalidation_1-rmse:0.358345\n",
            "[933]\tvalidation_0-rmse:0.352774\tvalidation_1-rmse:0.358346\n",
            "[934]\tvalidation_0-rmse:0.352745\tvalidation_1-rmse:0.358312\n",
            "[935]\tvalidation_0-rmse:0.352742\tvalidation_1-rmse:0.358317\n",
            "[936]\tvalidation_0-rmse:0.352736\tvalidation_1-rmse:0.358317\n",
            "[937]\tvalidation_0-rmse:0.352725\tvalidation_1-rmse:0.35831\n",
            "[938]\tvalidation_0-rmse:0.35271\tvalidation_1-rmse:0.358305\n",
            "[939]\tvalidation_0-rmse:0.352705\tvalidation_1-rmse:0.358301\n",
            "[940]\tvalidation_0-rmse:0.352702\tvalidation_1-rmse:0.358305\n",
            "[941]\tvalidation_0-rmse:0.3527\tvalidation_1-rmse:0.358305\n",
            "[942]\tvalidation_0-rmse:0.352688\tvalidation_1-rmse:0.358307\n",
            "[943]\tvalidation_0-rmse:0.352676\tvalidation_1-rmse:0.358306\n",
            "[944]\tvalidation_0-rmse:0.352668\tvalidation_1-rmse:0.358298\n",
            "[945]\tvalidation_0-rmse:0.352656\tvalidation_1-rmse:0.358292\n",
            "[946]\tvalidation_0-rmse:0.352646\tvalidation_1-rmse:0.358296\n",
            "[947]\tvalidation_0-rmse:0.352643\tvalidation_1-rmse:0.358298\n",
            "[948]\tvalidation_0-rmse:0.352633\tvalidation_1-rmse:0.358291\n",
            "[949]\tvalidation_0-rmse:0.352622\tvalidation_1-rmse:0.358288\n",
            "[950]\tvalidation_0-rmse:0.352619\tvalidation_1-rmse:0.358288\n",
            "[951]\tvalidation_0-rmse:0.352608\tvalidation_1-rmse:0.358286\n",
            "[952]\tvalidation_0-rmse:0.352605\tvalidation_1-rmse:0.358287\n",
            "[953]\tvalidation_0-rmse:0.352597\tvalidation_1-rmse:0.358289\n",
            "[954]\tvalidation_0-rmse:0.352587\tvalidation_1-rmse:0.358288\n",
            "[955]\tvalidation_0-rmse:0.352543\tvalidation_1-rmse:0.358248\n",
            "[956]\tvalidation_0-rmse:0.352534\tvalidation_1-rmse:0.358246\n",
            "[957]\tvalidation_0-rmse:0.352525\tvalidation_1-rmse:0.358246\n",
            "[958]\tvalidation_0-rmse:0.352509\tvalidation_1-rmse:0.358233\n",
            "[959]\tvalidation_0-rmse:0.352499\tvalidation_1-rmse:0.35823\n",
            "[960]\tvalidation_0-rmse:0.352486\tvalidation_1-rmse:0.358225\n",
            "[961]\tvalidation_0-rmse:0.35248\tvalidation_1-rmse:0.358223\n",
            "[962]\tvalidation_0-rmse:0.352471\tvalidation_1-rmse:0.358222\n",
            "[963]\tvalidation_0-rmse:0.352465\tvalidation_1-rmse:0.358221\n",
            "[964]\tvalidation_0-rmse:0.352461\tvalidation_1-rmse:0.358222\n",
            "[965]\tvalidation_0-rmse:0.352446\tvalidation_1-rmse:0.358204\n",
            "[966]\tvalidation_0-rmse:0.352432\tvalidation_1-rmse:0.358199\n",
            "[967]\tvalidation_0-rmse:0.352421\tvalidation_1-rmse:0.358198\n",
            "[968]\tvalidation_0-rmse:0.352417\tvalidation_1-rmse:0.358194\n",
            "[969]\tvalidation_0-rmse:0.352407\tvalidation_1-rmse:0.358193\n",
            "[970]\tvalidation_0-rmse:0.352396\tvalidation_1-rmse:0.358193\n",
            "[971]\tvalidation_0-rmse:0.352381\tvalidation_1-rmse:0.358192\n",
            "[972]\tvalidation_0-rmse:0.352365\tvalidation_1-rmse:0.358194\n",
            "[973]\tvalidation_0-rmse:0.352355\tvalidation_1-rmse:0.358188\n",
            "[974]\tvalidation_0-rmse:0.35234\tvalidation_1-rmse:0.358181\n",
            "[975]\tvalidation_0-rmse:0.352332\tvalidation_1-rmse:0.358178\n",
            "[976]\tvalidation_0-rmse:0.352316\tvalidation_1-rmse:0.358164\n",
            "[977]\tvalidation_0-rmse:0.352304\tvalidation_1-rmse:0.358158\n",
            "[978]\tvalidation_0-rmse:0.352289\tvalidation_1-rmse:0.358166\n",
            "[979]\tvalidation_0-rmse:0.352267\tvalidation_1-rmse:0.358143\n",
            "[980]\tvalidation_0-rmse:0.352234\tvalidation_1-rmse:0.358118\n",
            "[981]\tvalidation_0-rmse:0.352168\tvalidation_1-rmse:0.358053\n",
            "[982]\tvalidation_0-rmse:0.352132\tvalidation_1-rmse:0.358022\n",
            "[983]\tvalidation_0-rmse:0.352074\tvalidation_1-rmse:0.357975\n",
            "[984]\tvalidation_0-rmse:0.352039\tvalidation_1-rmse:0.357943\n",
            "[985]\tvalidation_0-rmse:0.351999\tvalidation_1-rmse:0.357904\n",
            "[986]\tvalidation_0-rmse:0.351966\tvalidation_1-rmse:0.357866\n",
            "[987]\tvalidation_0-rmse:0.351939\tvalidation_1-rmse:0.357845\n",
            "[988]\tvalidation_0-rmse:0.351922\tvalidation_1-rmse:0.357834\n",
            "[989]\tvalidation_0-rmse:0.351898\tvalidation_1-rmse:0.357819\n",
            "[990]\tvalidation_0-rmse:0.351888\tvalidation_1-rmse:0.357819\n",
            "[991]\tvalidation_0-rmse:0.351866\tvalidation_1-rmse:0.357792\n",
            "[992]\tvalidation_0-rmse:0.351847\tvalidation_1-rmse:0.357791\n",
            "[993]\tvalidation_0-rmse:0.351833\tvalidation_1-rmse:0.357776\n",
            "[994]\tvalidation_0-rmse:0.351819\tvalidation_1-rmse:0.357768\n",
            "[995]\tvalidation_0-rmse:0.351801\tvalidation_1-rmse:0.357754\n",
            "[996]\tvalidation_0-rmse:0.351792\tvalidation_1-rmse:0.357752\n",
            "[997]\tvalidation_0-rmse:0.351778\tvalidation_1-rmse:0.357756\n",
            "[998]\tvalidation_0-rmse:0.351759\tvalidation_1-rmse:0.357757\n",
            "[999]\tvalidation_0-rmse:0.35173\tvalidation_1-rmse:0.357733\n"
          ],
          "name": "stdout"
        },
        {
          "output_type": "execute_result",
          "data": {
            "text/plain": [
              "XGBRegressor(base_score=0.5, booster='gbtree', colsample_bylevel=1,\n",
              "             colsample_bynode=1, colsample_bytree=1, gamma=0,\n",
              "             importance_type='gain', learning_rate=0.1, max_delta_step=0,\n",
              "             max_depth=3, min_child_weight=1, missing=None, n_estimators=1000,\n",
              "             n_jobs=1, nthread=None, objective='reg:linear', random_state=0,\n",
              "             reg_alpha=0, reg_lambda=1, scale_pos_weight=1, seed=None,\n",
              "             silent=None, subsample=1, verbosity=1)"
            ]
          },
          "metadata": {
            "tags": []
          },
          "execution_count": 14
        }
      ]
    },
    {
      "cell_type": "code",
      "metadata": {
        "id": "CN9x4IQ8H0my",
        "colab": {
          "base_uri": "https://localhost:8080/",
          "height": 52
        },
        "outputId": "724930e9-77c8-48e1-f56e-059b042d5547"
      },
      "source": [
        "# E) Model evaluation\n",
        "\n",
        "# Get prediction on validation set\n",
        "y_pred = reg.predict(X_test)\n",
        "\n",
        "# Confusion matrix\n",
        "cm = confusion_matrix((y_pred > 0.5), y_test)\n",
        "cm"
      ],
      "execution_count": null,
      "outputs": [
        {
          "output_type": "execute_result",
          "data": {
            "text/plain": [
              "array([[16032,  3387],\n",
              "       [  767,  2327]])"
            ]
          },
          "metadata": {
            "tags": []
          },
          "execution_count": 17
        }
      ]
    },
    {
      "cell_type": "code",
      "metadata": {
        "id": "UeMuT_1aIF2B",
        "colab": {
          "base_uri": "https://localhost:8080/",
          "height": 34
        },
        "outputId": "2d0a9048-32ce-4c14-bbe2-d3dee3fbe395"
      },
      "source": [
        "# Calculate the accuracy on test set\n",
        "predict_accuracy_on_test_set = (cm[0, 0] + cm[1, 1]) / (cm[0, 0] + cm[1, 1] + cm[1, 0] + cm[0, 1])\n",
        "print('The Accuracy on Test Set is: ', predict_accuracy_on_test_set)"
      ],
      "execution_count": null,
      "outputs": [
        {
          "output_type": "stream",
          "text": [
            "The Accuracy on Test Set is:  0.8154843867987385\n"
          ],
          "name": "stdout"
        }
      ]
    },
    {
      "cell_type": "code",
      "metadata": {
        "id": "UAmuKT8MIhWq",
        "colab": {
          "base_uri": "https://localhost:8080/",
          "height": 34
        },
        "outputId": "a3502e74-d477-4b3d-e3c4-5ec6e8f9a938"
      },
      "source": [
        "# calculate Precision\n",
        "precision = cm[1, 1] / (cm[1, 0] + cm[1, 1])\n",
        "print('The Precision on Test Set is: ', precision)"
      ],
      "execution_count": null,
      "outputs": [
        {
          "output_type": "stream",
          "text": [
            "The Precision on Test Set is:  0.7521008403361344\n"
          ],
          "name": "stdout"
        }
      ]
    },
    {
      "cell_type": "code",
      "metadata": {
        "id": "0oENiH-lIl6t",
        "colab": {
          "base_uri": "https://localhost:8080/",
          "height": 34
        },
        "outputId": "9b977812-480f-4f39-9802-73269628e240"
      },
      "source": [
        "# Calculate Recall\n",
        "recall = cm[1, 1] / (cm[1, 1] + cm[0, 1])\n",
        "print('The Recall on Test Set is: ', recall)"
      ],
      "execution_count": null,
      "outputs": [
        {
          "output_type": "stream",
          "text": [
            "The Recall on Test Set is:  0.4072453622681134\n"
          ],
          "name": "stdout"
        }
      ]
    },
    {
      "cell_type": "markdown",
      "metadata": {
        "id": "1Ko2-9CXJBJZ"
      },
      "source": [
        "**Observations:**\n",
        "- Precision: 75% -> of the observations classified as \"deviation greater than 15%\", 75% were correctly classified\n",
        "- Recall: 41% -> of the total observations in the class \"deviation greater than 15%\", only 41% were classified correctly. In part, it may be due to the imbalance in the data, since there are ~3 times more observations in the class \"deviation less than 15%\" than in the class \"deviation greater than 15%\", so the model cannot learn enough about this class. "
      ]
    },
    {
      "cell_type": "code",
      "metadata": {
        "id": "ZAP3A7xAJHP0",
        "colab": {
          "base_uri": "https://localhost:8080/",
          "height": 312
        },
        "outputId": "b89f93ae-b85d-4aa0-e176-3c6b90791844"
      },
      "source": [
        "# F) Plot feature importance\n",
        "plot_importance(reg, height=0.9)"
      ],
      "execution_count": null,
      "outputs": [
        {
          "output_type": "execute_result",
          "data": {
            "text/plain": [
              "<matplotlib.axes._subplots.AxesSubplot at 0x7f49e7b46cf8>"
            ]
          },
          "metadata": {
            "tags": []
          },
          "execution_count": 26
        },
        {
          "output_type": "display_data",
          "data": {
            "image/png": "[encoded data removed]",
            "text/plain": [
              "<Figure size 432x288 with 1 Axes>"
            ]
          },
          "metadata": {
            "tags": [],
            "needs_background": "light"
          }
        }
      ]
    },
    {
      "cell_type": "markdown",
      "metadata": {
        "id": "_1xv40HhYuJM"
      },
      "source": [
        "**Observations:** \n",
        "The variables related to the time, week, and demand are the main variable that influence the decisions that the algorithm makes.\n"
      ]
    }
  ]
}